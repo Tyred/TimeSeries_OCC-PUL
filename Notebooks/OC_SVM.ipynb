{
  "nbformat": 4,
  "nbformat_minor": 0,
  "metadata": {
    "colab": {
      "name": "OC-SVM.ipynb",
      "provenance": [],
      "collapsed_sections": [],
      "toc_visible": true,
      "mount_file_id": "1MzheYjB3Q5jiFr1Pinw1EYg-TcBTazjF",
      "authorship_tag": "ABX9TyP41UpoBSL5CjH7zy6STPAi",
      "include_colab_link": true
    },
    "kernelspec": {
      "name": "python3",
      "display_name": "Python 3"
    },
    "language_info": {
      "name": "python"
    },
    "accelerator": "GPU"
  },
  "cells": [
    {
      "cell_type": "markdown",
      "metadata": {
        "id": "view-in-github",
        "colab_type": "text"
      },
      "source": [
        "<a href=\"https://colab.research.google.com/github/Tyred/TimeSeries_OCC-PUL/blob/main/Notebooks/OC_SVM.ipynb\" target=\"_parent\"><img src=\"https://colab.research.google.com/assets/colab-badge.svg\" alt=\"Open In Colab\"/></a>"
      ]
    },
    {
      "cell_type": "markdown",
      "metadata": {
        "id": "Emi8F7ZFdSrK"
      },
      "source": [
        "## Imports"
      ]
    },
    {
      "cell_type": "code",
      "metadata": {
        "id": "nnoW8j3yNpuZ"
      },
      "source": [
        "%matplotlib inline\n",
        "import numpy as np\n",
        "import matplotlib.pyplot as plt\n",
        "\n",
        "from sklearn.svm import OneClassSVM\n",
        "from sklearn.metrics import precision_score, accuracy_score, recall_score\n",
        "\n",
        "import tensorflow as tf\n",
        "from tensorflow import keras\n",
        "\n",
        "from sklearn.decomposition import PCA\n",
        "from sklearn.manifold import MDS"
      ],
      "execution_count": 65,
      "outputs": []
    },
    {
      "cell_type": "markdown",
      "metadata": {
        "id": "6y-sBkgCb8GM"
      },
      "source": [
        "## Reading the dataset from Google Drive\n"
      ]
    },
    {
      "cell_type": "code",
      "metadata": {
        "id": "hn5JbVRONu1T",
        "colab": {
          "base_uri": "https://localhost:8080/"
        },
        "outputId": "bd55a983-67d7-44d6-afe6-68949557041b"
      },
      "source": [
        "path = 'drive/My Drive/UFSCar/FAPESP/IC/Data/UCRArchive_2018'\n",
        "\n",
        "dataset = input('Dataset: ')\n",
        "\n",
        "tr_data = np.genfromtxt(path + \"/\" + dataset + \"/\" + dataset + \"_TRAIN.tsv\", delimiter=\"\\t\",)\n",
        "te_data = np.genfromtxt(path + \"/\" + dataset + \"/\" + dataset + \"_TEST.tsv\", delimiter=\"\\t\",)\n",
        "\n",
        "labels      = te_data[:, 0]                             # labels\n",
        "print(\"Labels:\", np.unique(labels))"
      ],
      "execution_count": 66,
      "outputs": [
        {
          "output_type": "stream",
          "text": [
            "Dataset: Wafer\n",
            "Labels: [-1.  1.]\n"
          ],
          "name": "stdout"
        }
      ]
    },
    {
      "cell_type": "markdown",
      "metadata": {
        "id": "R0l2RpHUcHaB"
      },
      "source": [
        "## Splitting in Train-Test data"
      ]
    },
    {
      "cell_type": "code",
      "metadata": {
        "id": "xLaE6_vANwQL",
        "colab": {
          "base_uri": "https://localhost:8080/"
        },
        "outputId": "aed4a984-e422-4bc2-d19d-9d712709da31"
      },
      "source": [
        "class_label = int(input('Positive class label: '))\n",
        "\n",
        "train_data  = tr_data[tr_data[:, 0] == class_label, 1:] # train\n",
        "test_data   = te_data[:, 1:]                            # test\n",
        "\n",
        "print(\"Train data shape:\", train_data.shape)\n",
        "print(\"Test data shape:\", test_data.shape)"
      ],
      "execution_count": 67,
      "outputs": [
        {
          "output_type": "stream",
          "text": [
            "Positive class label: -1\n",
            "Train data shape: (97, 152)\n",
            "Test data shape: (6164, 152)\n"
          ],
          "name": "stdout"
        }
      ]
    },
    {
      "cell_type": "markdown",
      "metadata": {
        "id": "UcC1Ru1McR5b"
      },
      "source": [
        "## Labeling for OCC Task\n",
        "<li> Label 1 for positive class </li>\n",
        "<li> Label -1 for other class(es) </li>"
      ]
    },
    {
      "cell_type": "code",
      "metadata": {
        "id": "wEFEYrdWOHl_",
        "colab": {
          "base_uri": "https://localhost:8080/"
        },
        "outputId": "1b9c6318-eef0-4553-bba2-0f08ec12e6f2"
      },
      "source": [
        "occ_labels = [1 if x == class_label else -1 for x in labels]\n",
        "print(\"Positive samples:\", occ_labels.count(1))\n",
        "print(\"Negative samples:\", occ_labels.count(-1))"
      ],
      "execution_count": 68,
      "outputs": [
        {
          "output_type": "stream",
          "text": [
            "Positive samples: 665\n",
            "Negative samples: 5499\n"
          ],
          "name": "stdout"
        }
      ]
    },
    {
      "cell_type": "markdown",
      "metadata": {
        "id": "G-Pi8UleecbW"
      },
      "source": [
        "# MDS Plot "
      ]
    },
    {
      "cell_type": "code",
      "metadata": {
        "colab": {
          "base_uri": "https://localhost:8080/"
        },
        "id": "gVJivoUqHHer",
        "outputId": "850f18a1-fd20-41c4-8a91-b4e3004ae1f2"
      },
      "source": [
        "embedding = MDS(n_components=2, random_state=42)\n",
        "mds_data = embedding.fit_transform(train_data)\n",
        "mds_test = embedding.fit_transform(test_data)\n",
        "print(mds_data.shape)\n",
        "print(mds_test.shape)"
      ],
      "execution_count": 69,
      "outputs": [
        {
          "output_type": "stream",
          "text": [
            "(97, 2)\n",
            "(6164, 2)\n"
          ],
          "name": "stdout"
        }
      ]
    },
    {
      "cell_type": "markdown",
      "metadata": {
        "id": "HuY7WPf3egU0"
      },
      "source": [
        "## Train"
      ]
    },
    {
      "cell_type": "code",
      "metadata": {
        "colab": {
          "base_uri": "https://localhost:8080/",
          "height": 281
        },
        "id": "3f3Wx0XRGqM3",
        "outputId": "538220d8-0f02-4b19-e07c-077b7412522f"
      },
      "source": [
        "x = [row[0] for row in mds_data]\n",
        "y = [row[1] for row in mds_data]\n",
        "\n",
        "plt.plot(x, y, 'x',label='train data')\n",
        "plt.title('MDS Training Data')\n",
        "plt.legend()\n",
        "plt.show()"
      ],
      "execution_count": 70,
      "outputs": [
        {
          "output_type": "display_data",
          "data": {
            "image/png": "[encoded data removed]",
            "text/plain": [
              "<Figure size 432x288 with 1 Axes>"
            ]
          },
          "metadata": {
            "tags": [],
            "needs_background": "light"
          }
        }
      ]
    },
    {
      "cell_type": "markdown",
      "metadata": {
        "id": "ddWCsjXBeih3"
      },
      "source": [
        "## Test"
      ]
    },
    {
      "cell_type": "code",
      "metadata": {
        "id": "TzXgqXdHP639"
      },
      "source": [
        "negative_mds_test = np.array([x for x in mds_test[np.where(labels!=class_label)]])\n",
        "positive_mds_test = np.array([x for x in mds_test[np.where(labels==class_label)]])"
      ],
      "execution_count": 71,
      "outputs": []
    },
    {
      "cell_type": "code",
      "metadata": {
        "colab": {
          "base_uri": "https://localhost:8080/",
          "height": 281
        },
        "id": "K52-1KVCNPtR",
        "outputId": "a5c1d139-fa45-41d5-af52-df0d733e2c60"
      },
      "source": [
        "x_positive = [row[0] for row in positive_mds_test]\n",
        "y_positive = [row[1] for row in positive_mds_test]\n",
        "\n",
        "x_negative = [row[0] for row in negative_mds_test]\n",
        "y_negative = [row[1] for row in negative_mds_test]\n",
        "\n",
        "plt.plot(x_positive, y_positive, 'x', label='positive class', c = 'blue')\n",
        "plt.plot(x_negative, y_negative, 'o', label='negative class', c = 'red')\n",
        "plt.title('MDS Test Data')\n",
        "plt.legend()\n",
        "plt.show()"
      ],
      "execution_count": 72,
      "outputs": [
        {
          "output_type": "display_data",
          "data": {
            "image/png": "[encoded data removed]",
            "text/plain": [
              "<Figure size 432x288 with 1 Axes>"
            ]
          },
          "metadata": {
            "tags": [],
            "needs_background": "light"
          }
        }
      ]
    },
    {
      "cell_type": "markdown",
      "metadata": {
        "id": "vF69fFp98esV"
      },
      "source": [
        "# Feature extraction\n"
      ]
    },
    {
      "cell_type": "markdown",
      "metadata": {
        "id": "0to8-3vv8gn-"
      },
      "source": [
        "## PCA"
      ]
    },
    {
      "cell_type": "code",
      "metadata": {
        "id": "scNbHiyg_0qM",
        "colab": {
          "base_uri": "https://localhost:8080/",
          "height": 0
        },
        "outputId": "26096d7c-b3d6-42c6-a926-42ade95fe783"
      },
      "source": [
        "\"\"\"pca = PCA(svd_solver='full')\n",
        "\n",
        "train_data = pca.fit_transform(train_data)\n",
        "test_data = pca.transform(test_data)\n",
        "print(train_data.shape)\"\"\""
      ],
      "execution_count": 73,
      "outputs": [
        {
          "output_type": "execute_result",
          "data": {
            "application/vnd.google.colaboratory.intrinsic+json": {
              "type": "string"
            },
            "text/plain": [
              "\"pca = PCA(svd_solver='full')\\n\\ntrain_data = pca.fit_transform(train_data)\\ntest_data = pca.transform(test_data)\\nprint(train_data.shape)\""
            ]
          },
          "metadata": {
            "tags": []
          },
          "execution_count": 73
        }
      ]
    },
    {
      "cell_type": "markdown",
      "metadata": {
        "id": "BWmsaj478iVD"
      },
      "source": [
        "## Convolutional Autoencoder\n"
      ]
    },
    {
      "cell_type": "code",
      "metadata": {
        "id": "hQ68Z_Yn8nXy"
      },
      "source": [
        "# Convolutional Autoencoder with MaxPooling:\n",
        "class ConvAutoencoder(tf.keras.Model):\n",
        "    def __init__(self, serie_length):\n",
        "        super(ConvAutoencoder, self).__init__()\n",
        "        self.conv_1 = keras.layers.Conv1D(128, 3, activation='swish', padding='same', input_shape=(serie_length))\n",
        "        self.max_1 = keras.layers.MaxPooling1D(2, padding='same')\n",
        "        self.conv_2 = keras.layers.Conv1D(64, 3, activation='swish', padding='same')\n",
        "        self.max_2 = keras.layers.MaxPooling1D(2, padding='same')\n",
        "        self.conv_3 = keras.layers.Conv1D(1, 3, activation='swish', padding='same')\n",
        "    \n",
        "        # encoded representation\n",
        "        self.encoded = keras.layers.MaxPooling1D(2, padding='same')\n",
        "        \n",
        "        # decoder layers\n",
        "        self.conv_4 = keras.layers.Conv1D(1, 3, activation='swish', padding='same')\n",
        "        self.up_1 = keras.layers.UpSampling1D(2)\n",
        "        self.conv_5 = keras.layers.Conv1D(64, 3, activation='swish', padding='same')\n",
        "        self.up_2 = keras.layers.UpSampling1D(2)\n",
        "        self.conv_6 = keras.layers.Conv1D(128, 3, activation='swish', padding='same')\n",
        "        self.up_3 = keras.layers.UpSampling1D(2)\n",
        "        self.decoded = keras.layers.Conv1D(1, 3, activation='linear', padding='same')\n",
        "        \n",
        "    def call(self, inputs):\n",
        "        padding = inputs.shape[1] % 8\n",
        "        x = self.encode(inputs)\n",
        "        x = self.conv_4(x)\n",
        "        x = self.up_1(x)\n",
        "        x = self.conv_5(x)\n",
        "        x = self.up_2(x)\n",
        "        x = self.conv_6(x)\n",
        "        x = self.up_3(x)\n",
        "        if padding != 0:\n",
        "            x = keras.layers.Cropping1D(cropping=(padding, 0))(x)\n",
        "        return self.decoded(x)\n",
        "    \n",
        "    def encode(self, inputs):\n",
        "        padding = inputs.shape[1] % 8\n",
        "        if padding != 0:\n",
        "            inputs = keras.layers.ZeroPadding1D(padding=(padding, 0))(inputs)\n",
        "        x = self.conv_1(inputs)\n",
        "        x = self.max_1(x)\n",
        "        x = self.conv_2(x)\n",
        "        x = self.max_2(x)\n",
        "        x = self.conv_3(x)\n",
        "        return self.encoded(x)\n",
        "        \n",
        "    \n",
        "    def model(self):\n",
        "        x = keras.layers.Input(shape=(serie_length, 1))\n",
        "        return tf.keras.Model(inputs=[x], outputs=self.call(x))"
      ],
      "execution_count": 74,
      "outputs": []
    },
    {
      "cell_type": "markdown",
      "metadata": {
        "id": "YFq9IKqQ-S9T"
      },
      "source": [
        "### Initializing and training the Conv Autoencoder"
      ]
    },
    {
      "cell_type": "code",
      "metadata": {
        "colab": {
          "base_uri": "https://localhost:8080/"
        },
        "id": "SgM_5LPm-ceG",
        "outputId": "eaf040be-d395-4300-d6de-216c8944c1f3"
      },
      "source": [
        "serie_length = train_data.shape[1]\n",
        "model = ConvAutoencoder((serie_length, 1))\n",
        "\n",
        "model.compile(optimizer='adam', loss='mse')\n",
        "\n",
        "# Train\n",
        "batch_size = 16\n",
        "epochs = 50\n",
        "\n",
        "train_data.shape = train_data.shape[0], train_data.shape[1], 1\n",
        "model.fit(train_data, train_data, epochs=epochs, batch_size=batch_size)"
      ],
      "execution_count": 75,
      "outputs": [
        {
          "output_type": "stream",
          "text": [
            "Epoch 1/50\n",
            "7/7 [==============================] - 2s 77ms/step - loss: 0.9842\n",
            "Epoch 2/50\n",
            "7/7 [==============================] - 0s 8ms/step - loss: 0.8648\n",
            "Epoch 3/50\n",
            "7/7 [==============================] - 0s 7ms/step - loss: 0.6516\n",
            "Epoch 4/50\n",
            "7/7 [==============================] - 0s 7ms/step - loss: 0.5450\n",
            "Epoch 5/50\n",
            "7/7 [==============================] - 0s 7ms/step - loss: 0.4470\n",
            "Epoch 6/50\n",
            "7/7 [==============================] - 0s 8ms/step - loss: 0.3716\n",
            "Epoch 7/50\n",
            "7/7 [==============================] - 0s 8ms/step - loss: 0.3265\n",
            "Epoch 8/50\n",
            "7/7 [==============================] - 0s 8ms/step - loss: 0.2961\n",
            "Epoch 9/50\n",
            "7/7 [==============================] - 0s 8ms/step - loss: 0.2771\n",
            "Epoch 10/50\n",
            "7/7 [==============================] - 0s 10ms/step - loss: 0.2618\n",
            "Epoch 11/50\n",
            "7/7 [==============================] - 0s 8ms/step - loss: 0.2497\n",
            "Epoch 12/50\n",
            "7/7 [==============================] - 0s 8ms/step - loss: 0.2430\n",
            "Epoch 13/50\n",
            "7/7 [==============================] - 0s 7ms/step - loss: 0.2359\n",
            "Epoch 14/50\n",
            "7/7 [==============================] - 0s 8ms/step - loss: 0.2313\n",
            "Epoch 15/50\n",
            "7/7 [==============================] - 0s 7ms/step - loss: 0.2246\n",
            "Epoch 16/50\n",
            "7/7 [==============================] - 0s 10ms/step - loss: 0.2204\n",
            "Epoch 17/50\n",
            "7/7 [==============================] - 0s 9ms/step - loss: 0.2183\n",
            "Epoch 18/50\n",
            "7/7 [==============================] - 0s 8ms/step - loss: 0.2140\n",
            "Epoch 19/50\n",
            "7/7 [==============================] - 0s 8ms/step - loss: 0.2103\n",
            "Epoch 20/50\n",
            "7/7 [==============================] - 0s 7ms/step - loss: 0.2077\n",
            "Epoch 21/50\n",
            "7/7 [==============================] - 0s 8ms/step - loss: 0.2041\n",
            "Epoch 22/50\n",
            "7/7 [==============================] - 0s 7ms/step - loss: 0.2017\n",
            "Epoch 23/50\n",
            "7/7 [==============================] - 0s 8ms/step - loss: 0.1992\n",
            "Epoch 24/50\n",
            "7/7 [==============================] - 0s 7ms/step - loss: 0.1973\n",
            "Epoch 25/50\n",
            "7/7 [==============================] - 0s 8ms/step - loss: 0.1967\n",
            "Epoch 26/50\n",
            "7/7 [==============================] - 0s 7ms/step - loss: 0.1941\n",
            "Epoch 27/50\n",
            "7/7 [==============================] - 0s 8ms/step - loss: 0.1928\n",
            "Epoch 28/50\n",
            "7/7 [==============================] - 0s 7ms/step - loss: 0.1934\n",
            "Epoch 29/50\n",
            "7/7 [==============================] - 0s 10ms/step - loss: 0.1895\n",
            "Epoch 30/50\n",
            "7/7 [==============================] - 0s 10ms/step - loss: 0.1913\n",
            "Epoch 31/50\n",
            "7/7 [==============================] - 0s 10ms/step - loss: 0.1901\n",
            "Epoch 32/50\n",
            "7/7 [==============================] - 0s 8ms/step - loss: 0.1868\n",
            "Epoch 33/50\n",
            "7/7 [==============================] - 0s 7ms/step - loss: 0.1850\n",
            "Epoch 34/50\n",
            "7/7 [==============================] - 0s 7ms/step - loss: 0.1861\n",
            "Epoch 35/50\n",
            "7/7 [==============================] - 0s 7ms/step - loss: 0.1842\n",
            "Epoch 36/50\n",
            "7/7 [==============================] - 0s 7ms/step - loss: 0.1829\n",
            "Epoch 37/50\n",
            "7/7 [==============================] - 0s 12ms/step - loss: 0.1822\n",
            "Epoch 38/50\n",
            "7/7 [==============================] - 0s 7ms/step - loss: 0.1813\n",
            "Epoch 39/50\n",
            "7/7 [==============================] - 0s 7ms/step - loss: 0.1805\n",
            "Epoch 40/50\n",
            "7/7 [==============================] - 0s 7ms/step - loss: 0.1809\n",
            "Epoch 41/50\n",
            "7/7 [==============================] - 0s 7ms/step - loss: 0.1798\n",
            "Epoch 42/50\n",
            "7/7 [==============================] - 0s 9ms/step - loss: 0.1794\n",
            "Epoch 43/50\n",
            "7/7 [==============================] - 0s 8ms/step - loss: 0.1796\n",
            "Epoch 44/50\n",
            "7/7 [==============================] - 0s 8ms/step - loss: 0.1776\n",
            "Epoch 45/50\n",
            "7/7 [==============================] - 0s 7ms/step - loss: 0.1759\n",
            "Epoch 46/50\n",
            "7/7 [==============================] - 0s 8ms/step - loss: 0.1761\n",
            "Epoch 47/50\n",
            "7/7 [==============================] - 0s 8ms/step - loss: 0.1777\n",
            "Epoch 48/50\n",
            "7/7 [==============================] - 0s 8ms/step - loss: 0.1760\n",
            "Epoch 49/50\n",
            "7/7 [==============================] - 0s 8ms/step - loss: 0.1757\n",
            "Epoch 50/50\n",
            "7/7 [==============================] - 0s 7ms/step - loss: 0.1732\n"
          ],
          "name": "stdout"
        },
        {
          "output_type": "execute_result",
          "data": {
            "text/plain": [
              "<tensorflow.python.keras.callbacks.History at 0x7fc9c88a1d50>"
            ]
          },
          "metadata": {
            "tags": []
          },
          "execution_count": 75
        }
      ]
    },
    {
      "cell_type": "markdown",
      "metadata": {
        "id": "8bhO6UkmchYB"
      },
      "source": [
        "# OC-SVM Fitting "
      ]
    },
    {
      "cell_type": "code",
      "metadata": {
        "id": "F7U2LY8YPbLW"
      },
      "source": [
        "train_data_encoded = np.array(model.encode(train_data))\n",
        "train_data_encoded.shape = train_data_encoded.shape[0], train_data_encoded.shape[1]\n",
        "clf = OneClassSVM(gamma='scale', nu=0.15, kernel='rbf').fit(train_data_encoded)"
      ],
      "execution_count": 82,
      "outputs": []
    },
    {
      "cell_type": "markdown",
      "metadata": {
        "id": "Tuia1i6pc63Q"
      },
      "source": [
        "# Testing and Evaluating Results"
      ]
    },
    {
      "cell_type": "code",
      "metadata": {
        "id": "wXfI9NmGQKAw",
        "colab": {
          "base_uri": "https://localhost:8080/"
        },
        "outputId": "7765a690-bf32-4fd0-8703-1d9c39c6bd33"
      },
      "source": [
        "test_data.shape = test_data.shape[0], test_data.shape[1], 1\n",
        "\n",
        "test_data_encoded = np.array(model.encode(test_data))\n",
        "test_data_encoded.shape = test_data_encoded.shape[0], test_data_encoded.shape[1]\n",
        "result_labels = clf.predict(test_data_encoded)\n",
        "\n",
        "acc = accuracy_score(occ_labels, result_labels)\n",
        "precision = precision_score(occ_labels, result_labels)\n",
        "recall = recall_score(occ_labels, result_labels)\n",
        "\n",
        "print(\"Accuracy: %.2f\"  % (acc*100) + \"%\")\n",
        "print(\"Precision: %.2f\" % (precision*100) + \"%\")\n",
        "print(\"Recall: %.2f\"    % (recall*100) + \"%\")"
      ],
      "execution_count": 83,
      "outputs": [
        {
          "output_type": "stream",
          "text": [
            "Accuracy: 96.46%\n",
            "Precision: 87.95%\n",
            "Recall: 77.89%\n"
          ],
          "name": "stdout"
        }
      ]
    }
  ]
}