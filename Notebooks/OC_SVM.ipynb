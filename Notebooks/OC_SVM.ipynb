{
  "nbformat": 4,
  "nbformat_minor": 0,
  "metadata": {
    "colab": {
      "name": "OC-SVM.ipynb",
      "provenance": [],
      "collapsed_sections": [],
      "mount_file_id": "1MzheYjB3Q5jiFr1Pinw1EYg-TcBTazjF",
      "authorship_tag": "ABX9TyNkbtnihp4n8JFqkXpPJ0RX",
      "include_colab_link": true
    },
    "kernelspec": {
      "name": "python3",
      "display_name": "Python 3"
    },
    "language_info": {
      "name": "python"
    },
    "accelerator": "GPU"
  },
  "cells": [
    {
      "cell_type": "markdown",
      "metadata": {
        "id": "view-in-github",
        "colab_type": "text"
      },
      "source": [
        "<a href=\"https://colab.research.google.com/github/Tyred/TimeSeries_OCC-PUL/blob/main/Notebooks/OC_SVM.ipynb\" target=\"_parent\"><img src=\"https://colab.research.google.com/assets/colab-badge.svg\" alt=\"Open In Colab\"/></a>"
      ]
    },
    {
      "cell_type": "markdown",
      "metadata": {
        "id": "Emi8F7ZFdSrK"
      },
      "source": [
        "## Imports"
      ]
    },
    {
      "cell_type": "code",
      "metadata": {
        "id": "nnoW8j3yNpuZ"
      },
      "source": [
        "%matplotlib inline\n",
        "import numpy as np\n",
        "import matplotlib.pyplot as plt\n",
        "\n",
        "from sklearn.svm import OneClassSVM\n",
        "from sklearn.metrics import precision_score, accuracy_score, recall_score\n",
        "\n",
        "import tensorflow as tf\n",
        "from tensorflow import keras\n",
        "\n",
        "from sklearn.decomposition import PCA\n",
        "from sklearn.manifold import MDS"
      ],
      "execution_count": 165,
      "outputs": []
    },
    {
      "cell_type": "markdown",
      "metadata": {
        "id": "6y-sBkgCb8GM"
      },
      "source": [
        "## Reading the dataset from Google Drive\n"
      ]
    },
    {
      "cell_type": "code",
      "metadata": {
        "id": "hn5JbVRONu1T",
        "colab": {
          "base_uri": "https://localhost:8080/"
        },
        "outputId": "4de90172-8e15-44b6-bb9d-354587dc68c8"
      },
      "source": [
        "path = 'drive/My Drive/UFSCar/FAPESP/IC/Data/UCRArchive_2018'\n",
        "\n",
        "dataset = input('Dataset: ')\n",
        "\n",
        "tr_data = np.genfromtxt(path + \"/\" + dataset + \"/\" + dataset + \"_TRAIN.tsv\", delimiter=\"\\t\",)\n",
        "te_data = np.genfromtxt(path + \"/\" + dataset + \"/\" + dataset + \"_TEST.tsv\", delimiter=\"\\t\",)\n",
        "\n",
        "labels      = te_data[:, 0]                             # labels\n",
        "print(\"Labels:\", np.unique(labels))"
      ],
      "execution_count": 166,
      "outputs": [
        {
          "output_type": "stream",
          "text": [
            "Dataset: Strawberry\n",
            "Labels: [1. 2.]\n"
          ],
          "name": "stdout"
        }
      ]
    },
    {
      "cell_type": "markdown",
      "metadata": {
        "id": "R0l2RpHUcHaB"
      },
      "source": [
        "## Splitting in Train-Test data"
      ]
    },
    {
      "cell_type": "code",
      "metadata": {
        "id": "xLaE6_vANwQL",
        "colab": {
          "base_uri": "https://localhost:8080/"
        },
        "outputId": "f904d989-a059-4104-8fa8-d192fb39c0ec"
      },
      "source": [
        "class_label = int(input('Positive class label: '))\n",
        "\n",
        "train_data  = tr_data[tr_data[:, 0] == class_label, 1:] # train\n",
        "test_data   = te_data[:, 1:]                            # test\n",
        "\n",
        "print(\"Train data shape:\", train_data.shape)\n",
        "print(\"Test data shape:\", test_data.shape)"
      ],
      "execution_count": 167,
      "outputs": [
        {
          "output_type": "stream",
          "text": [
            "Positive class label: 2\n",
            "Train data shape: (394, 235)\n",
            "Test data shape: (370, 235)\n"
          ],
          "name": "stdout"
        }
      ]
    },
    {
      "cell_type": "markdown",
      "metadata": {
        "id": "UcC1Ru1McR5b"
      },
      "source": [
        "## Labeling for OCC Task\n",
        "<li> Label 1 for positive class </li>\n",
        "<li> Label -1 for other class(es) </li>"
      ]
    },
    {
      "cell_type": "code",
      "metadata": {
        "id": "wEFEYrdWOHl_",
        "colab": {
          "base_uri": "https://localhost:8080/"
        },
        "outputId": "f2a75c6d-94a1-4038-de71-be16f8f94378"
      },
      "source": [
        "occ_labels = [1 if x == class_label else -1 for x in labels]\n",
        "print(\"Positive samples:\", occ_labels.count(1))\n",
        "print(\"Negative samples:\", occ_labels.count(-1))"
      ],
      "execution_count": 168,
      "outputs": [
        {
          "output_type": "stream",
          "text": [
            "Positive samples: 238\n",
            "Negative samples: 132\n"
          ],
          "name": "stdout"
        }
      ]
    },
    {
      "cell_type": "markdown",
      "metadata": {
        "id": "G-Pi8UleecbW"
      },
      "source": [
        "# MDS Plot "
      ]
    },
    {
      "cell_type": "code",
      "metadata": {
        "colab": {
          "base_uri": "https://localhost:8080/"
        },
        "id": "gVJivoUqHHer",
        "outputId": "60c879d2-1b99-4777-8535-e8b8a16a8e7a"
      },
      "source": [
        "embedding = MDS(n_components=2, random_state=42)\n",
        "mds_data = embedding.fit_transform(train_data)\n",
        "mds_test = embedding.fit_transform(test_data)\n",
        "print(mds_data.shape)\n",
        "print(mds_test.shape)"
      ],
      "execution_count": 169,
      "outputs": [
        {
          "output_type": "stream",
          "text": [
            "(394, 2)\n",
            "(370, 2)\n"
          ],
          "name": "stdout"
        }
      ]
    },
    {
      "cell_type": "markdown",
      "metadata": {
        "id": "HuY7WPf3egU0"
      },
      "source": [
        "## Train"
      ]
    },
    {
      "cell_type": "code",
      "metadata": {
        "colab": {
          "base_uri": "https://localhost:8080/",
          "height": 281
        },
        "id": "3f3Wx0XRGqM3",
        "outputId": "95ebc5c2-d9ef-425f-bda1-c4af9e3d916c"
      },
      "source": [
        "x = [row[0] for row in mds_data]\n",
        "y = [row[1] for row in mds_data]\n",
        "\n",
        "plt.plot(x, y, 'x',label='train data')\n",
        "plt.title('MDS Training Data')\n",
        "plt.legend()\n",
        "plt.show()"
      ],
      "execution_count": 170,
      "outputs": [
        {
          "output_type": "display_data",
          "data": {
            "image/png": "[encoded data removed]",
            "text/plain": [
              "<Figure size 432x288 with 1 Axes>"
            ]
          },
          "metadata": {
            "tags": [],
            "needs_background": "light"
          }
        }
      ]
    },
    {
      "cell_type": "markdown",
      "metadata": {
        "id": "ddWCsjXBeih3"
      },
      "source": [
        "## Test"
      ]
    },
    {
      "cell_type": "code",
      "metadata": {
        "id": "TzXgqXdHP639"
      },
      "source": [
        "negative_mds_test = np.array([x for x in mds_test[np.where(labels!=class_label)]])\n",
        "positive_mds_test = np.array([x for x in mds_test[np.where(labels==class_label)]])"
      ],
      "execution_count": 171,
      "outputs": []
    },
    {
      "cell_type": "code",
      "metadata": {
        "colab": {
          "base_uri": "https://localhost:8080/",
          "height": 281
        },
        "id": "K52-1KVCNPtR",
        "outputId": "dafdec03-75de-4fe2-9e7f-5aaf001a76fd"
      },
      "source": [
        "x_positive = [row[0] for row in positive_mds_test]\n",
        "y_positive = [row[1] for row in positive_mds_test]\n",
        "\n",
        "x_negative = [row[0] for row in negative_mds_test]\n",
        "y_negative = [row[1] for row in negative_mds_test]\n",
        "\n",
        "plt.plot(x_positive, y_positive, 'x', label='positive class', c = 'blue')\n",
        "plt.plot(x_negative, y_negative, 'o', label='negative class', c = 'red')\n",
        "plt.title('MDS Test Data')\n",
        "plt.legend()\n",
        "plt.show()"
      ],
      "execution_count": 172,
      "outputs": [
        {
          "output_type": "display_data",
          "data": {
            "image/png": "[encoded data removed]",
            "text/plain": [
              "<Figure size 432x288 with 1 Axes>"
            ]
          },
          "metadata": {
            "tags": [],
            "needs_background": "light"
          }
        }
      ]
    },
    {
      "cell_type": "markdown",
      "metadata": {
        "id": "vF69fFp98esV"
      },
      "source": [
        "# Feature extraction\n"
      ]
    },
    {
      "cell_type": "markdown",
      "metadata": {
        "id": "0to8-3vv8gn-"
      },
      "source": [
        "## PCA"
      ]
    },
    {
      "cell_type": "code",
      "metadata": {
        "id": "scNbHiyg_0qM",
        "colab": {
          "base_uri": "https://localhost:8080/",
          "height": 35
        },
        "outputId": "44ad4bb5-a9f1-4878-ff91-481438f4303f"
      },
      "source": [
        "\"\"\"pca = PCA(svd_solver='full')\n",
        "\n",
        "train_data = pca.fit_transform(train_data)\n",
        "test_data = pca.transform(test_data)\n",
        "print(train_data.shape)\"\"\""
      ],
      "execution_count": 173,
      "outputs": [
        {
          "output_type": "execute_result",
          "data": {
            "application/vnd.google.colaboratory.intrinsic+json": {
              "type": "string"
            },
            "text/plain": [
              "\"pca = PCA(svd_solver='full')\\n\\ntrain_data = pca.fit_transform(train_data)\\ntest_data = pca.transform(test_data)\\nprint(train_data.shape)\""
            ]
          },
          "metadata": {
            "tags": []
          },
          "execution_count": 173
        }
      ]
    },
    {
      "cell_type": "markdown",
      "metadata": {
        "id": "BWmsaj478iVD"
      },
      "source": [
        "## Convolutional Autoencoder\n"
      ]
    },
    {
      "cell_type": "code",
      "metadata": {
        "id": "hQ68Z_Yn8nXy"
      },
      "source": [
        "# Convolutional Autoencoder with MaxPooling:\n",
        "class ConvAutoencoder(tf.keras.Model):\n",
        "    def __init__(self, serie_length):\n",
        "        super(ConvAutoencoder, self).__init__()\n",
        "        self.conv_1 = keras.layers.Conv1D(serie_length[0]//16, 3, activation='swish', padding='same', input_shape=(serie_length))\n",
        "        self.max_1 = keras.layers.MaxPooling1D(2, padding='same')\n",
        "        self.conv_2 = keras.layers.Conv1D(serie_length[0]//8, 3, activation='swish', padding='same')\n",
        "        self.max_2 = keras.layers.MaxPooling1D(2, padding='same')\n",
        "        self.conv_3 = keras.layers.Conv1D(1, 3, activation='swish', padding='same')\n",
        "        \n",
        "        # encoded representation\n",
        "        self.encoded = keras.layers.MaxPooling1D(2, padding='same')\n",
        "        \n",
        "        # decoder layers\n",
        "        self.conv_4 = keras.layers.Conv1D(1, 3, activation='swish', padding='same')\n",
        "        self.up_1 = keras.layers.UpSampling1D(2)\n",
        "        self.conv_5 = keras.layers.Conv1D(serie_length[0]//8, 3, activation='swish', padding='same')\n",
        "        self.up_2 = keras.layers.UpSampling1D(2)\n",
        "        self.conv_6 = keras.layers.Conv1D(serie_length[0], 3, activation='swish', padding='same')\n",
        "        self.up_3 = keras.layers.UpSampling1D(2)\n",
        "        \n",
        "        # decoded output\n",
        "        self.decoded = keras.layers.Conv1D(1, 3, activation='linear', padding='same')\n",
        "\n",
        "    def encode(self, inputs):\n",
        "        if self.padding != 0:\n",
        "            inputs = keras.layers.ZeroPadding1D(padding=(8 + 8-self.padding, 0))(inputs)\n",
        "        x = self.conv_1(inputs)\n",
        "        x = self.max_1(x)\n",
        "        x = self.conv_2(x)\n",
        "        x = self.max_2(x)\n",
        "        x = self.conv_3(x)\n",
        "        return self.encoded(x)\n",
        "    \n",
        "    def call(self, inputs):\n",
        "        self.padding = inputs.shape[1] % 8\n",
        "        x = self.encode(inputs)\n",
        "        x = self.conv_4(x)\n",
        "        x = self.up_1(x)\n",
        "        x = self.conv_5(x)\n",
        "        x = self.up_2(x)\n",
        "        x = self.conv_6(x)\n",
        "        x = self.up_3(x)\n",
        "        if self.padding != 0:\n",
        "            x = keras.layers.Cropping1D(cropping=(8 + 8-self.padding, 0))(x)\n",
        "        return self.decoded(x)\n",
        "     \n",
        "    def model(self):\n",
        "        x = keras.layers.Input(shape=(serie_length, 1))\n",
        "        return tf.keras.Model(inputs=[x], outputs=self.call(x))"
      ],
      "execution_count": 174,
      "outputs": []
    },
    {
      "cell_type": "markdown",
      "metadata": {
        "id": "YFq9IKqQ-S9T"
      },
      "source": [
        "### Initializing and training the Conv Autoencoder"
      ]
    },
    {
      "cell_type": "code",
      "metadata": {
        "colab": {
          "base_uri": "https://localhost:8080/"
        },
        "id": "SgM_5LPm-ceG",
        "outputId": "7fa3f2dd-f566-4231-adaf-272e80532db7"
      },
      "source": [
        "serie_length = train_data.shape[1]\n",
        "model = ConvAutoencoder((serie_length, 1))\n",
        "\n",
        "model.compile(optimizer='adam', loss='mse')\n",
        "\n",
        "# Train\n",
        "batch_size = 16\n",
        "epochs = 50\n",
        "\n",
        "train_data.shape = train_data.shape[0], train_data.shape[1], 1\n",
        "model.fit(train_data, train_data, epochs=epochs, batch_size=batch_size)"
      ],
      "execution_count": 175,
      "outputs": [
        {
          "output_type": "stream",
          "text": [
            "Epoch 1/50\n",
            "25/25 [==============================] - 2s 25ms/step - loss: 0.6297\n",
            "Epoch 2/50\n",
            "25/25 [==============================] - 0s 7ms/step - loss: 0.2060\n",
            "Epoch 3/50\n",
            "25/25 [==============================] - 0s 7ms/step - loss: 0.1052\n",
            "Epoch 4/50\n",
            "25/25 [==============================] - 0s 7ms/step - loss: 0.0812\n",
            "Epoch 5/50\n",
            "25/25 [==============================] - 0s 7ms/step - loss: 0.0663\n",
            "Epoch 6/50\n",
            "25/25 [==============================] - 0s 7ms/step - loss: 0.0532\n",
            "Epoch 7/50\n",
            "25/25 [==============================] - 0s 7ms/step - loss: 0.0455\n",
            "Epoch 8/50\n",
            "25/25 [==============================] - 0s 7ms/step - loss: 0.0415\n",
            "Epoch 9/50\n",
            "25/25 [==============================] - 0s 7ms/step - loss: 0.0386\n",
            "Epoch 10/50\n",
            "25/25 [==============================] - 0s 7ms/step - loss: 0.0362\n",
            "Epoch 11/50\n",
            "25/25 [==============================] - 0s 7ms/step - loss: 0.0342\n",
            "Epoch 12/50\n",
            "25/25 [==============================] - 0s 7ms/step - loss: 0.0325\n",
            "Epoch 13/50\n",
            "25/25 [==============================] - 0s 7ms/step - loss: 0.0308\n",
            "Epoch 14/50\n",
            "25/25 [==============================] - 0s 7ms/step - loss: 0.0295\n",
            "Epoch 15/50\n",
            "25/25 [==============================] - 0s 7ms/step - loss: 0.0281\n",
            "Epoch 16/50\n",
            "25/25 [==============================] - 0s 7ms/step - loss: 0.0268\n",
            "Epoch 17/50\n",
            "25/25 [==============================] - 0s 7ms/step - loss: 0.0256\n",
            "Epoch 18/50\n",
            "25/25 [==============================] - 0s 7ms/step - loss: 0.0247\n",
            "Epoch 19/50\n",
            "25/25 [==============================] - 0s 7ms/step - loss: 0.0236\n",
            "Epoch 20/50\n",
            "25/25 [==============================] - 0s 7ms/step - loss: 0.0228\n",
            "Epoch 21/50\n",
            "25/25 [==============================] - 0s 7ms/step - loss: 0.0217\n",
            "Epoch 22/50\n",
            "25/25 [==============================] - 0s 7ms/step - loss: 0.0208\n",
            "Epoch 23/50\n",
            "25/25 [==============================] - 0s 7ms/step - loss: 0.0201\n",
            "Epoch 24/50\n",
            "25/25 [==============================] - 0s 7ms/step - loss: 0.0193\n",
            "Epoch 25/50\n",
            "25/25 [==============================] - 0s 7ms/step - loss: 0.0188\n",
            "Epoch 26/50\n",
            "25/25 [==============================] - 0s 7ms/step - loss: 0.0179\n",
            "Epoch 27/50\n",
            "25/25 [==============================] - 0s 7ms/step - loss: 0.0174\n",
            "Epoch 28/50\n",
            "25/25 [==============================] - 0s 7ms/step - loss: 0.0169\n",
            "Epoch 29/50\n",
            "25/25 [==============================] - 0s 7ms/step - loss: 0.0162\n",
            "Epoch 30/50\n",
            "25/25 [==============================] - 0s 7ms/step - loss: 0.0158\n",
            "Epoch 31/50\n",
            "25/25 [==============================] - 0s 7ms/step - loss: 0.0153\n",
            "Epoch 32/50\n",
            "25/25 [==============================] - 0s 7ms/step - loss: 0.0148\n",
            "Epoch 33/50\n",
            "25/25 [==============================] - 0s 7ms/step - loss: 0.0142\n",
            "Epoch 34/50\n",
            "25/25 [==============================] - 0s 7ms/step - loss: 0.0138\n",
            "Epoch 35/50\n",
            "25/25 [==============================] - 0s 7ms/step - loss: 0.0135\n",
            "Epoch 36/50\n",
            "25/25 [==============================] - 0s 7ms/step - loss: 0.0132\n",
            "Epoch 37/50\n",
            "25/25 [==============================] - 0s 7ms/step - loss: 0.0128\n",
            "Epoch 38/50\n",
            "25/25 [==============================] - 0s 7ms/step - loss: 0.0125\n",
            "Epoch 39/50\n",
            "25/25 [==============================] - 0s 7ms/step - loss: 0.0123\n",
            "Epoch 40/50\n",
            "25/25 [==============================] - 0s 7ms/step - loss: 0.0124\n",
            "Epoch 41/50\n",
            "25/25 [==============================] - 0s 7ms/step - loss: 0.0118\n",
            "Epoch 42/50\n",
            "25/25 [==============================] - 0s 7ms/step - loss: 0.0117\n",
            "Epoch 43/50\n",
            "25/25 [==============================] - 0s 7ms/step - loss: 0.0115\n",
            "Epoch 44/50\n",
            "25/25 [==============================] - 0s 7ms/step - loss: 0.0114\n",
            "Epoch 45/50\n",
            "25/25 [==============================] - 0s 7ms/step - loss: 0.0112\n",
            "Epoch 46/50\n",
            "25/25 [==============================] - 0s 7ms/step - loss: 0.0110\n",
            "Epoch 47/50\n",
            "25/25 [==============================] - 0s 7ms/step - loss: 0.0109\n",
            "Epoch 48/50\n",
            "25/25 [==============================] - 0s 7ms/step - loss: 0.0108\n",
            "Epoch 49/50\n",
            "25/25 [==============================] - 0s 7ms/step - loss: 0.0107\n",
            "Epoch 50/50\n",
            "25/25 [==============================] - 0s 7ms/step - loss: 0.0106\n"
          ],
          "name": "stdout"
        },
        {
          "output_type": "execute_result",
          "data": {
            "text/plain": [
              "<tensorflow.python.keras.callbacks.History at 0x7fed14053910>"
            ]
          },
          "metadata": {
            "tags": []
          },
          "execution_count": 175
        }
      ]
    },
    {
      "cell_type": "code",
      "metadata": {
        "colab": {
          "base_uri": "https://localhost:8080/"
        },
        "id": "Z8MD8TRkZJW7",
        "outputId": "7e7422f4-5f4a-4424-d527-94ee65f08229"
      },
      "source": [
        "model.model().summary()"
      ],
      "execution_count": 176,
      "outputs": [
        {
          "output_type": "stream",
          "text": [
            "Model: \"model_10\"\n",
            "_________________________________________________________________\n",
            "Layer (type)                 Output Shape              Param #   \n",
            "=================================================================\n",
            "input_11 (InputLayer)        [(None, 235, 1)]          0         \n",
            "_________________________________________________________________\n",
            "zero_padding1d_30 (ZeroPaddi (None, 248, 1)            0         \n",
            "_________________________________________________________________\n",
            "conv1d_91 (Conv1D)           (None, 248, 14)           56        \n",
            "_________________________________________________________________\n",
            "max_pooling1d_39 (MaxPooling (None, 124, 14)           0         \n",
            "_________________________________________________________________\n",
            "conv1d_92 (Conv1D)           (None, 124, 29)           1247      \n",
            "_________________________________________________________________\n",
            "max_pooling1d_40 (MaxPooling (None, 62, 29)            0         \n",
            "_________________________________________________________________\n",
            "conv1d_93 (Conv1D)           (None, 62, 1)             88        \n",
            "_________________________________________________________________\n",
            "max_pooling1d_41 (MaxPooling (None, 31, 1)             0         \n",
            "_________________________________________________________________\n",
            "conv1d_94 (Conv1D)           (None, 31, 1)             4         \n",
            "_________________________________________________________________\n",
            "up_sampling1d_39 (UpSampling (None, 62, 1)             0         \n",
            "_________________________________________________________________\n",
            "conv1d_95 (Conv1D)           (None, 62, 29)            116       \n",
            "_________________________________________________________________\n",
            "up_sampling1d_40 (UpSampling (None, 124, 29)           0         \n",
            "_________________________________________________________________\n",
            "conv1d_96 (Conv1D)           (None, 124, 235)          20680     \n",
            "_________________________________________________________________\n",
            "up_sampling1d_41 (UpSampling (None, 248, 235)          0         \n",
            "_________________________________________________________________\n",
            "cropping1d_4 (Cropping1D)    (None, 235, 235)          0         \n",
            "_________________________________________________________________\n",
            "conv1d_97 (Conv1D)           (None, 235, 1)            706       \n",
            "=================================================================\n",
            "Total params: 22,897\n",
            "Trainable params: 22,897\n",
            "Non-trainable params: 0\n",
            "_________________________________________________________________\n"
          ],
          "name": "stdout"
        }
      ]
    },
    {
      "cell_type": "markdown",
      "metadata": {
        "id": "8bhO6UkmchYB"
      },
      "source": [
        "# OC-SVM Fitting "
      ]
    },
    {
      "cell_type": "code",
      "metadata": {
        "id": "F7U2LY8YPbLW",
        "colab": {
          "base_uri": "https://localhost:8080/"
        },
        "outputId": "8605ab15-4b69-4c08-8129-2b1ce48f4a37"
      },
      "source": [
        "train_data_encoded = np.array(model.encode(train_data))\n",
        "print(train_data_encoded.shape)\n",
        "train_data_encoded.shape = train_data_encoded.shape[0], train_data_encoded.shape[1]\n",
        "clf = OneClassSVM(gamma='scale', nu=0.5, kernel='rbf').fit(train_data_encoded)"
      ],
      "execution_count": 179,
      "outputs": [
        {
          "output_type": "stream",
          "text": [
            "(394, 31, 1)\n"
          ],
          "name": "stdout"
        }
      ]
    },
    {
      "cell_type": "markdown",
      "metadata": {
        "id": "Tuia1i6pc63Q"
      },
      "source": [
        "# Testing and Evaluating Results"
      ]
    },
    {
      "cell_type": "code",
      "metadata": {
        "id": "wXfI9NmGQKAw",
        "colab": {
          "base_uri": "https://localhost:8080/"
        },
        "outputId": "5eda0784-b653-493c-fbe0-41dde2db4caf"
      },
      "source": [
        "test_data.shape = test_data.shape[0], test_data.shape[1], 1\n",
        "\n",
        "test_data_encoded = np.array(model.encode(test_data))\n",
        "test_data_encoded.shape = test_data_encoded.shape[0], test_data_encoded.shape[1]\n",
        "result_labels = clf.predict(test_data_encoded)\n",
        "\n",
        "acc = accuracy_score(occ_labels, result_labels)\n",
        "precision = precision_score(occ_labels, result_labels)\n",
        "recall = recall_score(occ_labels, result_labels)\n",
        "\n",
        "print(\"Accuracy: %.2f\"  % (acc*100) + \"%\")\n",
        "print(\"Precision: %.2f\" % (precision*100) + \"%\")\n",
        "print(\"Recall: %.2f\"    % (recall*100) + \"%\")"
      ],
      "execution_count": 180,
      "outputs": [
        {
          "output_type": "stream",
          "text": [
            "Accuracy: 37.84%\n",
            "Precision: 51.59%\n",
            "Recall: 54.62%\n"
          ],
          "name": "stdout"
        }
      ]
    }
  ]
}