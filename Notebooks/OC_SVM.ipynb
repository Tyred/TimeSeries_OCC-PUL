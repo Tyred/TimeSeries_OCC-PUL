{
  "nbformat": 4,
  "nbformat_minor": 0,
  "metadata": {
    "colab": {
      "name": "OC-SVM.ipynb",
      "provenance": [],
      "collapsed_sections": [],
      "toc_visible": true,
      "mount_file_id": "1MzheYjB3Q5jiFr1Pinw1EYg-TcBTazjF",
      "authorship_tag": "ABX9TyP2pkci+Zrqxtph5NooaTmT",
      "include_colab_link": true
    },
    "kernelspec": {
      "name": "python3",
      "display_name": "Python 3"
    },
    "language_info": {
      "name": "python"
    }
  },
  "cells": [
    {
      "cell_type": "markdown",
      "metadata": {
        "id": "view-in-github",
        "colab_type": "text"
      },
      "source": [
        "<a href=\"https://colab.research.google.com/github/Tyred/TimeSeries_OCC-PUL/blob/main/Notebooks/OC_SVM.ipynb\" target=\"_parent\"><img src=\"https://colab.research.google.com/assets/colab-badge.svg\" alt=\"Open In Colab\"/></a>"
      ]
    },
    {
      "cell_type": "markdown",
      "metadata": {
        "id": "Emi8F7ZFdSrK"
      },
      "source": [
        "## Imports"
      ]
    },
    {
      "cell_type": "code",
      "metadata": {
        "id": "nnoW8j3yNpuZ"
      },
      "source": [
        "%matplotlib inline\n",
        "import numpy as np\n",
        "import matplotlib.pyplot as plt\n",
        "\n",
        "from sklearn.svm import OneClassSVM\n",
        "from sklearn.metrics import precision_score, accuracy_score, recall_score\n",
        "\n",
        "from sklearn.decomposition import PCA\n",
        "from sklearn.manifold import MDS"
      ],
      "execution_count": 232,
      "outputs": []
    },
    {
      "cell_type": "markdown",
      "metadata": {
        "id": "6y-sBkgCb8GM"
      },
      "source": [
        "## Reading the dataset from Google Drive\n"
      ]
    },
    {
      "cell_type": "code",
      "metadata": {
        "id": "hn5JbVRONu1T",
        "colab": {
          "base_uri": "https://localhost:8080/"
        },
        "outputId": "effc40c4-b3a0-4e7a-bec4-fa7109e68b46"
      },
      "source": [
        "path = 'drive/My Drive/UFSCar/FAPESP/IC/Data/UCRArchive_2018'\n",
        "\n",
        "dataset = input('Dataset: ')\n",
        "\n",
        "tr_data = np.genfromtxt(path + \"/\" + dataset + \"/\" + dataset + \"_TRAIN.tsv\", delimiter=\"\\t\",)\n",
        "te_data = np.genfromtxt(path + \"/\" + dataset + \"/\" + dataset + \"_TEST.tsv\", delimiter=\"\\t\",)\n",
        "\n",
        "labels      = te_data[:, 0]                             # labels\n",
        "print(\"Labels:\", np.unique(labels))"
      ],
      "execution_count": 233,
      "outputs": [
        {
          "output_type": "stream",
          "text": [
            "Dataset: ItalyPowerDemand\n",
            "Labels: [1. 2.]\n"
          ],
          "name": "stdout"
        }
      ]
    },
    {
      "cell_type": "markdown",
      "metadata": {
        "id": "R0l2RpHUcHaB"
      },
      "source": [
        "## Splitting in Train-Test data"
      ]
    },
    {
      "cell_type": "code",
      "metadata": {
        "id": "xLaE6_vANwQL",
        "colab": {
          "base_uri": "https://localhost:8080/"
        },
        "outputId": "f664e97c-9139-41b2-87e1-8702df1df267"
      },
      "source": [
        "class_label = int(input('Positive class label: '))\n",
        "\n",
        "train_data  = tr_data[tr_data[:, 0] == class_label, 1:] # train\n",
        "test_data   = te_data[:, 1:]                            # test\n",
        "\n",
        "print(\"Train data shape:\", train_data.shape)\n",
        "print(\"Test data shape:\", test_data.shape)"
      ],
      "execution_count": 234,
      "outputs": [
        {
          "output_type": "stream",
          "text": [
            "Positive class label: 1\n",
            "Train data shape: (34, 24)\n",
            "Test data shape: (1029, 24)\n"
          ],
          "name": "stdout"
        }
      ]
    },
    {
      "cell_type": "markdown",
      "metadata": {
        "id": "UcC1Ru1McR5b"
      },
      "source": [
        "## Labeling for OCC Task\n",
        "<li> Label 1 for positive class </li>\n",
        "<li> Label -1 for other class(es) </li>"
      ]
    },
    {
      "cell_type": "code",
      "metadata": {
        "id": "wEFEYrdWOHl_",
        "colab": {
          "base_uri": "https://localhost:8080/"
        },
        "outputId": "772ffcc2-e79a-4668-817e-1a9abde89981"
      },
      "source": [
        "occ_labels = [1 if x == class_label else -1 for x in labels]\n",
        "print(\"Positive samples:\", occ_labels.count(1))\n",
        "print(\"Negative samples:\", occ_labels.count(-1))"
      ],
      "execution_count": 235,
      "outputs": [
        {
          "output_type": "stream",
          "text": [
            "Positive samples: 513\n",
            "Negative samples: 516\n"
          ],
          "name": "stdout"
        }
      ]
    },
    {
      "cell_type": "code",
      "metadata": {
        "id": "scNbHiyg_0qM",
        "colab": {
          "base_uri": "https://localhost:8080/",
          "height": 35
        },
        "outputId": "6e6cde1c-5aa5-4943-98cf-88d0137bf10c"
      },
      "source": [
        "\"\"\"pca = PCA(svd_solver='full')\n",
        "\n",
        "train_data = pca.fit_transform(train_data)\n",
        "test_data = pca.transform(test_data)\n",
        "print(train_data.shape)\"\"\""
      ],
      "execution_count": 236,
      "outputs": [
        {
          "output_type": "execute_result",
          "data": {
            "application/vnd.google.colaboratory.intrinsic+json": {
              "type": "string"
            },
            "text/plain": [
              "\"pca = PCA(svd_solver='full')\\n\\ntrain_data = pca.fit_transform(train_data)\\ntest_data = pca.transform(test_data)\\nprint(train_data.shape)\""
            ]
          },
          "metadata": {
            "tags": []
          },
          "execution_count": 236
        }
      ]
    },
    {
      "cell_type": "markdown",
      "metadata": {
        "id": "G-Pi8UleecbW"
      },
      "source": [
        "# MDS Plot "
      ]
    },
    {
      "cell_type": "code",
      "metadata": {
        "colab": {
          "base_uri": "https://localhost:8080/"
        },
        "id": "gVJivoUqHHer",
        "outputId": "96db540a-9d89-407c-c862-94bfd8ab4e71"
      },
      "source": [
        "embedding = MDS(n_components=2)\n",
        "mds_data = embedding.fit_transform(train_data)\n",
        "mds_test = embedding.fit_transform(test_data)\n",
        "print(mds_data.shape)\n",
        "print(mds_test.shape)"
      ],
      "execution_count": 237,
      "outputs": [
        {
          "output_type": "stream",
          "text": [
            "(34, 2)\n",
            "(1029, 2)\n"
          ],
          "name": "stdout"
        }
      ]
    },
    {
      "cell_type": "markdown",
      "metadata": {
        "id": "HuY7WPf3egU0"
      },
      "source": [
        "## Train"
      ]
    },
    {
      "cell_type": "code",
      "metadata": {
        "colab": {
          "base_uri": "https://localhost:8080/",
          "height": 281
        },
        "id": "3f3Wx0XRGqM3",
        "outputId": "56400bd5-741f-4bde-d555-b64b9702dd5b"
      },
      "source": [
        "x = [row[0] for row in mds_data]\n",
        "y = [row[1] for row in mds_data]\n",
        "\n",
        "plt.plot(x, y, 'x',label='train data')\n",
        "plt.title('MDS Training Data')\n",
        "plt.legend()\n",
        "plt.show()"
      ],
      "execution_count": 238,
      "outputs": [
        {
          "output_type": "display_data",
          "data": {
            "image/png": "[encoded data removed]",
            "text/plain": [
              "<Figure size 432x288 with 1 Axes>"
            ]
          },
          "metadata": {
            "tags": [],
            "needs_background": "light"
          }
        }
      ]
    },
    {
      "cell_type": "markdown",
      "metadata": {
        "id": "ddWCsjXBeih3"
      },
      "source": [
        "## Test"
      ]
    },
    {
      "cell_type": "code",
      "metadata": {
        "id": "TzXgqXdHP639"
      },
      "source": [
        "negative_mds_test = np.array([x for x in mds_test[np.where(labels!=class_label)]])\n",
        "positive_mds_test = np.array([x for x in mds_test[np.where(labels==class_label)]])"
      ],
      "execution_count": 239,
      "outputs": []
    },
    {
      "cell_type": "code",
      "metadata": {
        "colab": {
          "base_uri": "https://localhost:8080/",
          "height": 281
        },
        "id": "K52-1KVCNPtR",
        "outputId": "9f236d3e-fda2-4dfa-c62b-b25a29c39cd8"
      },
      "source": [
        "x_positive = [row[0] for row in positive_mds_test]\n",
        "y_positive = [row[1] for row in positive_mds_test]\n",
        "\n",
        "x_negative = [row[0] for row in negative_mds_test]\n",
        "y_negative = [row[1] for row in negative_mds_test]\n",
        "\n",
        "plt.plot(x_positive, y_positive, 'x', label='positive class', c = 'blue')\n",
        "plt.plot(x_negative, y_negative, 'o', label='negative class', c = 'red')\n",
        "plt.title('MDS Test Data')\n",
        "plt.legend()\n",
        "plt.show()"
      ],
      "execution_count": 240,
      "outputs": [
        {
          "output_type": "display_data",
          "data": {
            "image/png": "[encoded data removed]",
            "text/plain": [
              "<Figure size 432x288 with 1 Axes>"
            ]
          },
          "metadata": {
            "tags": [],
            "needs_background": "light"
          }
        }
      ]
    },
    {
      "cell_type": "markdown",
      "metadata": {
        "id": "8bhO6UkmchYB"
      },
      "source": [
        "# OC-SVM Fitting "
      ]
    },
    {
      "cell_type": "code",
      "metadata": {
        "id": "F7U2LY8YPbLW"
      },
      "source": [
        "clf = OneClassSVM(gamma='scale', nu=0.15, kernel='rbf').fit(train_data)"
      ],
      "execution_count": 241,
      "outputs": []
    },
    {
      "cell_type": "markdown",
      "metadata": {
        "id": "Tuia1i6pc63Q"
      },
      "source": [
        "# Testing and Evaluating Results"
      ]
    },
    {
      "cell_type": "code",
      "metadata": {
        "id": "wXfI9NmGQKAw",
        "colab": {
          "base_uri": "https://localhost:8080/"
        },
        "outputId": "d660ba90-ad9f-4e1e-9029-f45cb3195446"
      },
      "source": [
        "result_labels = clf.predict(test_data)\n",
        "\n",
        "acc = accuracy_score(occ_labels, result_labels)\n",
        "precision = precision_score(occ_labels, result_labels)\n",
        "recall = recall_score(occ_labels, result_labels)\n",
        "\n",
        "print(\"Accuracy: %.2f\"  % (acc*100) + \"%\")\n",
        "print(\"Precision: %.2f\" % (precision*100) + \"%\")\n",
        "print(\"Recall: %.2f\"    % (recall*100) + \"%\")"
      ],
      "execution_count": 242,
      "outputs": [
        {
          "output_type": "stream",
          "text": [
            "Accuracy: 88.63%\n",
            "Precision: 95.00%\n",
            "Recall: 81.48%\n"
          ],
          "name": "stdout"
        }
      ]
    }
  ]
}