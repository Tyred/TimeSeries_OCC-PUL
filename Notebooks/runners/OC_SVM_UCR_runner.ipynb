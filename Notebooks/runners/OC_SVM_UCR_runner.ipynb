{
  "nbformat": 4,
  "nbformat_minor": 0,
  "metadata": {
    "colab": {
      "name": "OC-SVM_UCR-runner.ipynb",
      "provenance": [],
      "collapsed_sections": [],
      "private_outputs": true,
      "mount_file_id": "1PRxGTFDJMy9yIv6Nj9ohyrGIQTQlddky",
      "authorship_tag": "ABX9TyNcXjKQeq0Cp8sVeSvIQcd4",
      "include_colab_link": true
    },
    "kernelspec": {
      "name": "python3",
      "display_name": "Python 3"
    },
    "language_info": {
      "name": "python"
    }
  },
  "cells": [
    {
      "cell_type": "markdown",
      "metadata": {
        "id": "view-in-github",
        "colab_type": "text"
      },
      "source": [
        "<a href=\"https://colab.research.google.com/github/Tyred/TimeSeries_OCC-PUL/blob/main/Notebooks/runners/OC_SVM_UCR_runner.ipynb\" target=\"_parent\"><img src=\"https://colab.research.google.com/assets/colab-badge.svg\" alt=\"Open In Colab\"/></a>"
      ]
    },
    {
      "cell_type": "markdown",
      "metadata": {
        "id": "Emi8F7ZFdSrK"
      },
      "source": [
        "## Imports"
      ]
    },
    {
      "cell_type": "code",
      "metadata": {
        "id": "nnoW8j3yNpuZ"
      },
      "source": [
        "%matplotlib inline\n",
        "import numpy as np\n",
        "import matplotlib.pyplot as plt\n",
        "\n",
        "from sklearn.svm import OneClassSVM\n",
        "from sklearn.metrics import precision_score, accuracy_score, recall_score, f1_score"
      ],
      "execution_count": null,
      "outputs": []
    },
    {
      "cell_type": "markdown",
      "source": [
        "# Report Function"
      ],
      "metadata": {
        "id": "CWF9Lg4PPQ3J"
      }
    },
    {
      "cell_type": "code",
      "source": [
        "def print_stats(predictions, labels):\n",
        "    print(\"Accuracy = %.2f\"  % (accuracy_score(labels, predictions)  *100) + \"%\")\n",
        "    print(\"Precision = %.2f\" % (precision_score(labels, predictions) *100) + \"%\")\n",
        "    print(\"Recall = %.2f\"    % (recall_score(labels, predictions)    *100) + \"%\")\n",
        "    print(\"F1-Score = %.2f\"  % (f1_score(labels, predictions)        *100) + \"%\")"
      ],
      "metadata": {
        "id": "uf-8K1Ph7cL_"
      },
      "execution_count": null,
      "outputs": []
    },
    {
      "cell_type": "markdown",
      "metadata": {
        "id": "6y-sBkgCb8GM"
      },
      "source": [
        "# Runner cell\n",
        "Runs the classifier in all binary datasets in [UCR Time Series Archive](https://www.cs.ucr.edu/~eamonn/time_series_data_2018/)\n"
      ]
    },
    {
      "cell_type": "code",
      "metadata": {
        "id": "hn5JbVRONu1T"
      },
      "source": [
        "datasets = ['Yoga', 'WormsTwoClass', 'Wine', 'Wafer', 'TwoLeadECG', 'Strawberry', 'SemgHandGenderCh2', \n",
        "            'BeetleFly', 'BirdChicken', 'Computers', 'DistalPhalanxOutlineCorrect', 'Earthquakes',\n",
        "            'ECG200', 'ECGFiveDays', 'FordA', 'FordB', 'HandOutlines', 'ItalyPowerDemand', \n",
        "            'MiddlePhalanxOutlineCorrect', 'Chinatown', 'FreezerRegularTrain', 'FreezerSmallTrain',\n",
        "            'GunPointAgeSpan', 'GunPointMaleVersusFemale', 'GunPointOldVersusYoung', 'PowerCons', 'Coffee',\n",
        "            'Ham', 'Herring', 'Lightning2', 'MoteStrain', 'PhalangesOutlinesCorrect', 'ProximalPhalanxOutlineCorrect',\n",
        "            'ShapeletSim', 'SonyAIBORobotSurface1', 'SonyAIBORobotSurface2', 'ToeSegmentation1', 'ToeSegmentation2',\n",
        "            'HouseTwenty']\n",
        "\n",
        "path = 'drive/My Drive/UFSCar/FAPESP/IC/Data/UCRArchive_2018'\n",
        "\n",
        "for dataset in datasets:\n",
        "    tr_data = np.genfromtxt(path + \"/\" + dataset + \"/\" + dataset + \"_TRAIN.tsv\", \n",
        "                            delimiter=\"\\t\",)\n",
        "    te_data = np.genfromtxt(path + \"/\" + dataset + \"/\" + dataset + \"_TEST.tsv\", \n",
        "                            delimiter=\"\\t\",)\n",
        "\n",
        "    labels = te_data[:, 0]\n",
        "    #print(\"Labels:\", np.unique(labels))\n",
        "    unique_labels = np.unique(labels)\n",
        "    for class_label in unique_labels:\n",
        "        train_data  = tr_data[tr_data[:, 0] == class_label, 1:] # train\n",
        "        test_data   = te_data[:, 1:]\n",
        "\n",
        "        # Labeling\n",
        "        occ_labels = [1 if x == class_label else -1 for x in labels]\n",
        "\n",
        "        # Removing nans\n",
        "        if np.isnan(train_data).any():\n",
        "            train_data = np.where(~np.isnan(train_data), train_data, 0)\n",
        "        \n",
        "        # Fitting\n",
        "        clf = OneClassSVM(gamma='scale', nu=0.15, kernel='rbf').fit(train_data)\n",
        "\n",
        "        result_labels = clf.predict(test_data)\n",
        "        print(\"Dataset:\", dataset, \"Positive Label:\", class_label)\n",
        "        print_stats(result_labels, occ_labels)"
      ],
      "execution_count": null,
      "outputs": []
    }
  ]
}