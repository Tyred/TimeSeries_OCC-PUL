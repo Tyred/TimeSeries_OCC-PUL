{
  "nbformat": 4,
  "nbformat_minor": 0,
  "metadata": {
    "colab": {
      "name": "OC-JKNN_UCR-runner.ipynb",
      "provenance": [],
      "collapsed_sections": [],
      "private_outputs": true,
      "mount_file_id": "14c4kKxccor_Msv2I1E6tL6bli3sR2QUV",
      "authorship_tag": "ABX9TyM9C4f4iZ4IktfGb+98OVWs",
      "include_colab_link": true
    },
    "kernelspec": {
      "display_name": "Python 3",
      "name": "python3"
    },
    "language_info": {
      "name": "python"
    }
  },
  "cells": [
    {
      "cell_type": "markdown",
      "metadata": {
        "id": "view-in-github",
        "colab_type": "text"
      },
      "source": [
        "<a href=\"https://colab.research.google.com/github/Tyred/TimeSeries_OCC-PUL/blob/main/Notebooks/runners/OC_JKNN_UCR_runner.ipynb\" target=\"_parent\"><img src=\"https://colab.research.google.com/assets/colab-badge.svg\" alt=\"Open In Colab\"/></a>"
      ]
    },
    {
      "cell_type": "markdown",
      "metadata": {
        "id": "fPFGm55KXt5p"
      },
      "source": [
        "<h1> One-Class J-K Nearest Neighbor Classifier</h1>\n",
        "\n",
        "The main purpose of this notebook is to run the OneClass JKNN algorithm through all binary datasets in [UCR Time Series Archive](https://www.cs.ucr.edu/~eamonn/time_series_data_2018/) and report the results"
      ]
    },
    {
      "cell_type": "markdown",
      "metadata": {
        "id": "VyhZZAMcsEu8"
      },
      "source": [
        "# Imports"
      ]
    },
    {
      "cell_type": "code",
      "metadata": {
        "id": "yaTKHB_qtT-i"
      },
      "source": [
        "import numpy as np\n",
        "import matplotlib.pyplot as plt\n",
        "\n",
        "from sklearn.neighbors import NearestNeighbors\n",
        "from sklearn.metrics import precision_score, accuracy_score, recall_score, f1_score\n",
        "\n",
        "#from sktime.classification.distance_based import KNeighborsTimeSeriesClassifier\n",
        "#from dtaidistance import dtw\n",
        "#from cdtw import pydtw\n",
        "#from fastdtw import fastdtw\n",
        "#from scipy.spatial.distance import euclidean"
      ],
      "execution_count": null,
      "outputs": []
    },
    {
      "cell_type": "markdown",
      "metadata": {
        "id": "8VvQZvdwUyoQ"
      },
      "source": [
        "# OneClassJKNN Definition"
      ]
    },
    {
      "cell_type": "code",
      "metadata": {
        "id": "t6aUHkPI_kQV"
      },
      "source": [
        "def fastdtw_wrapper(s1, s2):\n",
        "    return fastdtw(s1, s2, dist=euclidean)[0]\n",
        "\n",
        "def pydtw_wrapper(s1, s2):\n",
        "    return pydtw.dtw(s1,s2,pydtw.Settings(step = 'p0sym',       #Sakoe-Chiba symmetric step with slope constraint p = 0\n",
        "                                          window = 'palival',   #type of the window\n",
        "                                          param = 2.0,          #window parameter\n",
        "                                          norm = False,         #normalization\n",
        "                                          compute_path = True)).get_dist()\n",
        "\n",
        "class OneClassJKNN():\n",
        "    \n",
        "    def __init__(self, j, k): # j, k >= 1\n",
        "        self.j = j\n",
        "        self.k = k\n",
        "\n",
        "        self.nbrs = NearestNeighbors(n_neighbors=self.k)\n",
        "\n",
        "    def fit(self, train_data):\n",
        "        self.nbrs.fit(train_data)\n",
        "        distances, indices = self.nbrs.kneighbors()\n",
        "           \n",
        "        self.dist_avg = np.mean(distances, axis=1)\n",
        "        \n",
        "        return self\n",
        "\n",
        "    def predict(self, test_samples, threshold):\n",
        "        predictions = np.zeros(len(test_samples))\n",
        "        sample_no = 0\n",
        "        for test_sample in test_samples:\n",
        "            distances, indices = self.nbrs.kneighbors(test_sample.reshape(1,-1), self.j)\n",
        "            jnbrs_avg = np.mean(distances)\n",
        "                      \n",
        "            j_knbrs_avg = np.sum(self.dist_avg[indices])/self.j\n",
        "\n",
        "            if jnbrs_avg <= (j_knbrs_avg * threshold):\n",
        "                predictions[sample_no] = 1\n",
        "            else:\n",
        "                predictions[sample_no] = -1\n",
        "            \n",
        "            sample_no += 1\n",
        "\n",
        "        return predictions"
      ],
      "execution_count": null,
      "outputs": []
    },
    {
      "cell_type": "markdown",
      "source": [
        "# Reports function"
      ],
      "metadata": {
        "id": "tXthW_J2rppB"
      }
    },
    {
      "cell_type": "code",
      "source": [
        "def print_stats(predictions, labels):\n",
        "    print(\"Accuracy = %.2f\"  % (accuracy_score(labels, predictions)  *100) + \"%\")\n",
        "    print(\"Precision = %.2f\" % (precision_score(labels, predictions) *100) + \"%\")\n",
        "    print(\"Recall = %.2f\"    % (recall_score(labels, predictions)    *100) + \"%\")\n",
        "    print(\"F1-Score = %.2f\"  % (f1_score(labels, predictions)        *100) + \"%\")\n",
        "\n",
        "    return f1_score(labels, predictions)"
      ],
      "metadata": {
        "id": "i176N2udrteM"
      },
      "execution_count": null,
      "outputs": []
    },
    {
      "cell_type": "markdown",
      "metadata": {
        "id": "GmnelSyqsHWd"
      },
      "source": [
        "# Runner cell"
      ]
    },
    {
      "cell_type": "code",
      "metadata": {
        "id": "KSNSL41pyFfq"
      },
      "source": [
        "# Parameter config\n",
        "j = 2\n",
        "k = 5\n",
        "threshold = 1.35\n",
        "\n",
        "datasets = ['Yoga', 'WormsTwoClass', 'Wine', 'Wafer', 'TwoLeadECG', 'Strawberry', 'SemgHandGenderCh2', \n",
        "            'BeetleFly', 'BirdChicken', 'Computers', 'DistalPhalanxOutlineCorrect', 'Earthquakes',\n",
        "            'ECG200', 'ECGFiveDays', 'FordA', 'FordB', 'HandOutlines', 'ItalyPowerDemand', \n",
        "            'MiddlePhalanxOutlineCorrect', 'Chinatown', 'FreezerRegularTrain', 'FreezerSmallTrain',\n",
        "            'GunPointAgeSpan', 'GunPointMaleVersusFemale', 'GunPointOldVersusYoung', 'PowerCons', 'Coffee',\n",
        "            'Ham', 'Herring', 'Lightning2', 'MoteStrain', 'PhalangesOutlinesCorrect', 'ProximalPhalanxOutlineCorrect',\n",
        "            'ShapeletSim', 'SonyAIBORobotSurface1', 'SonyAIBORobotSurface2', 'ToeSegmentation1', 'ToeSegmentation2',\n",
        "            'HouseTwenty']\n",
        "\n",
        "path = 'drive/My Drive/UFSCar/FAPESP/IC/Data/UCRArchive_2018'\n",
        "\n",
        "f1_sum = 0\n",
        "for dataset in datasets:\n",
        "    tr_data = np.genfromtxt(path + \"/\" + dataset + \"/\" + dataset + \"_TRAIN.tsv\", \n",
        "                            delimiter=\"\\t\",)\n",
        "    te_data = np.genfromtxt(path + \"/\" + dataset + \"/\" + dataset + \"_TEST.tsv\", \n",
        "                            delimiter=\"\\t\",)\n",
        "\n",
        "    labels = te_data[:, 0]\n",
        "    #print(\"Labels:\", np.unique(labels))\n",
        "    unique_labels = np.unique(labels)\n",
        "    for class_label in unique_labels:\n",
        "        train_data  = tr_data[tr_data[:, 0] == class_label, 1:] # train\n",
        "        test_data   = te_data[:, 1:]\n",
        "\n",
        "        # Labeling\n",
        "        occ_labels = [1 if x == class_label else -1 for x in labels]\n",
        "\n",
        "        clf = OneClassJKNN(j, k).fit(train_data)\n",
        "\n",
        "        result_labels = clf.predict(test_data, threshold)\n",
        "        print(\"Dataset:\", dataset, \"Positive Label:\", class_label)\n",
        "        f1_sum += print_stats(result_labels, occ_labels)\n",
        "\n",
        "f1_avg = f1_sum/(len(datasets)*2)\n",
        "print(\"F1-Score Average:\", f1_avg)"
      ],
      "execution_count": null,
      "outputs": []
    }
  ]
}