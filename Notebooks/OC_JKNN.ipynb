{
  "nbformat": 4,
  "nbformat_minor": 0,
  "metadata": {
    "colab": {
      "name": "OC-JKNN.ipynb",
      "provenance": [],
      "collapsed_sections": [],
      "mount_file_id": "1v4Hu187jtZuch2FzVUKtA00WzI_8A3mm",
      "authorship_tag": "ABX9TyNgQPXK3Xk+O2KMQZ1BgZAA",
      "include_colab_link": true
    },
    "kernelspec": {
      "display_name": "Python 3",
      "name": "python3"
    },
    "language_info": {
      "name": "python"
    }
  },
  "cells": [
    {
      "cell_type": "markdown",
      "metadata": {
        "id": "view-in-github",
        "colab_type": "text"
      },
      "source": [
        "<a href=\"https://colab.research.google.com/github/Tyred/TimeSeries_OCC-PUL/blob/main/Notebooks/OC_JKNN.ipynb\" target=\"_parent\"><img src=\"https://colab.research.google.com/assets/colab-badge.svg\" alt=\"Open In Colab\"/></a>"
      ]
    },
    {
      "cell_type": "markdown",
      "metadata": {
        "id": "fPFGm55KXt5p"
      },
      "source": [
        "<h1> One-Class J-K Nearest Neighbor Classifier</h1>\n",
        "The main idea is to fit a KNN classifier with data from the positive class only and then perform the OCC as follows [1]:\n",
        "\n",
        "- For each data sample in the test dataset, do:\n",
        "    - Compute the distance to its J nearest neighbours and find their average D_j\n",
        "    - Compute the distance of each J nearest neighbor to its K nearest neighbours and find their average D_k\n",
        "    - if D_j/D_k <= T then the test sample is classified as a member of the positive class.\n",
        "    - else the test sample is classified as not a member of the positive class.\n",
        "\n",
        "- Evaluate the Model's Accuracy, Precision and Recall.\n",
        "\n",
        "We have 3 hyperparameters, K, J and T. The classifier performance may vary a lot with differents values of these hyperparameters. Initially we will use the value 1 for each hyperparameter just for a proof-of-concept. Later we will develop a Parameter Optimization technique.\n",
        "\n",
        "[1] [Relationship between Variants of One-Class Nearest\n",
        "Neighbours and Creating their Accurate Ensembles](https://arxiv.org/abs/1604.01686)"
      ]
    },
    {
      "cell_type": "markdown",
      "metadata": {
        "id": "VyhZZAMcsEu8"
      },
      "source": [
        "# Imports"
      ]
    },
    {
      "cell_type": "code",
      "metadata": {
        "id": "yaTKHB_qtT-i"
      },
      "source": [
        "import numpy as np\n",
        "import matplotlib.pyplot as plt\n",
        "\n",
        "from sklearn.neighbors import NearestNeighbors\n",
        "\n",
        "from sklearn.decomposition import PCA\n",
        "from fastdtw import fastdtw\n",
        "from scipy.spatial.distance import euclidean"
      ],
      "execution_count": 1,
      "outputs": []
    },
    {
      "cell_type": "markdown",
      "metadata": {
        "id": "GmnelSyqsHWd"
      },
      "source": [
        "# Reading Data from Google Drive"
      ]
    },
    {
      "cell_type": "code",
      "metadata": {
        "colab": {
          "base_uri": "https://localhost:8080/"
        },
        "id": "KSNSL41pyFfq",
        "outputId": "add30d4f-374f-43a6-9de6-25e7214e54d4"
      },
      "source": [
        "path = 'drive/My Drive/UFSCar/FAPESP/IC/Data/UCRArchive_2018'\n",
        "\n",
        "dataset = input('Dataset: ')\n",
        "tr_data = np.genfromtxt(path + \"/\" + dataset + \"/\" + dataset + \"_TRAIN.tsv\", delimiter=\"\\t\",)\n",
        "te_data = np.genfromtxt(path + \"/\" + dataset + \"/\" + dataset + \"_TEST.tsv\", delimiter=\"\\t\",)\n",
        "\n",
        "labels      = te_data[:, 0]                             # labels\n",
        "print(\"Labels:\", np.unique(labels))"
      ],
      "execution_count": 2,
      "outputs": [
        {
          "output_type": "stream",
          "text": [
            "Dataset: Wafer\n",
            "Labels: [-1.  1.]\n"
          ],
          "name": "stdout"
        }
      ]
    },
    {
      "cell_type": "markdown",
      "metadata": {
        "id": "Weh6yolnsMg6"
      },
      "source": [
        "# Choosing the Positive Class label\n",
        "This is necessary in order to emulate the One-Class Classification scenario."
      ]
    },
    {
      "cell_type": "code",
      "metadata": {
        "colab": {
          "base_uri": "https://localhost:8080/"
        },
        "id": "hUFkgobkVBf9",
        "outputId": "686e03a6-62a5-470e-80ab-d53340a96c69"
      },
      "source": [
        "class_label = int(input('Positive class label: '))\n",
        "\n",
        "train_data  = tr_data[tr_data[:, 0] == class_label, 1:] # train\n",
        "test_data   = te_data[:, 1:]                            # test\n",
        "\n",
        "print(\"Train data shape:\", train_data.shape)\n",
        "print(\"Test data shape:\", test_data.shape)"
      ],
      "execution_count": 3,
      "outputs": [
        {
          "output_type": "stream",
          "text": [
            "Positive class label: -1\n",
            "Train data shape: (97, 152)\n",
            "Test data shape: (6164, 152)\n"
          ],
          "name": "stdout"
        }
      ]
    },
    {
      "cell_type": "markdown",
      "metadata": {
        "id": "8VvQZvdwUyoQ"
      },
      "source": [
        "# OC_JKNN definition \n",
        "To do: \n",
        "<ul>\n",
        "<li> fix parameter name (J = K) </li>\n",
        "<li> Create a OC_JKNN Class </li>\n",
        "<li> Improve this function </li>\n",
        "</ul>"
      ]
    },
    {
      "cell_type": "code",
      "metadata": {
        "id": "t6aUHkPI_kQV"
      },
      "source": [
        "def OC_KNN(test_sample, k, threshold, distances_avg): # OC-JKNN J = K trocar depois\n",
        "  # New samples classification\n",
        "  distances, indices = nbrs.kneighbors(test_sample.reshape(1,-1), k)\n",
        "  avg = np.mean(distances)\n",
        "  \n",
        "  knbrs_sum = 0\n",
        "  for idx in indices[0]:\n",
        "    knbrs_sum += distances_avg[idx]\n",
        "  \n",
        "  knbrs_avg = knbrs_sum/k\n",
        "\n",
        "  if knbrs_avg != 0:\n",
        "    if avg/knbrs_avg <= threshold:\n",
        "      return True\n",
        "    else:\n",
        "      return False\n",
        "  elif avg == 0: ## Estranho ter esse caso...\n",
        "    return True\n",
        "  else:\n",
        "    return False"
      ],
      "execution_count": 4,
      "outputs": []
    },
    {
      "cell_type": "markdown",
      "metadata": {
        "id": "bqK3URPzWQvC"
      },
      "source": [
        "# PCA and DTW distance testing"
      ]
    },
    {
      "cell_type": "code",
      "metadata": {
        "colab": {
          "base_uri": "https://localhost:8080/",
          "height": 69
        },
        "id": "fOjn8cHlWM_9",
        "outputId": "e2376ed5-57d4-4f3f-8cef-cb919456ac3e"
      },
      "source": [
        "# Principal Component Analysis\n",
        "\"\"\"pca = PCA(n_components=(train_data.shape[1]//3), svd_solver='full') #(train_data.shape[1]//8)\n",
        "\n",
        "train_data = pca.fit_transform(train_data)\n",
        "print(train_data.shape)\n",
        "\n",
        "def dtw(t1, t2):\n",
        "    distance, _ = fastdtw(t1, t2, dist=euclidean)\n",
        "    return distance\n",
        "\n",
        "test_data = pca.transform(test_data)\n",
        "print(test_data.shape)\n",
        "\"\"\""
      ],
      "execution_count": 5,
      "outputs": [
        {
          "output_type": "execute_result",
          "data": {
            "application/vnd.google.colaboratory.intrinsic+json": {
              "type": "string"
            },
            "text/plain": [
              "\"pca = PCA(n_components=(train_data.shape[1]//3), svd_solver='full') #(train_data.shape[1]//8)\\n\\ntrain_data = pca.fit_transform(train_data)\\nprint(train_data.shape)\\n\\ndef dtw(t1, t2):\\n    distance, _ = fastdtw(t1, t2, dist=euclidean)\\n    return distance\\n\\ntest_data = pca.transform(test_data)\\nprint(test_data.shape)\\n\""
            ]
          },
          "metadata": {
            "tags": []
          },
          "execution_count": 5
        }
      ]
    },
    {
      "cell_type": "markdown",
      "metadata": {
        "id": "3wM82K7tV3pw"
      },
      "source": [
        "# Fitting the NN Classifier and calculating the NN average distance for each point \n",
        "To do\n",
        "<ul>\n",
        "<li> Maybe remove the average distance array and use some better solution </li>\n",
        "</ul>"
      ]
    },
    {
      "cell_type": "code",
      "metadata": {
        "id": "QjAAkEPHCjJh"
      },
      "source": [
        "# Fitting OC-KNN \n",
        "j = 1\n",
        "k = 1\n",
        "threshold = 1\n",
        "\n",
        "nbrs = NearestNeighbors(k+1).fit(train_data) #metric=dtw\n",
        "distances, indices = nbrs.kneighbors(train_data)\n",
        "\n",
        "distances_avg = []\n",
        "for sample in distances:\n",
        "  avg = np.mean(sample[1:])\n",
        "  distances_avg.append(avg)"
      ],
      "execution_count": 6,
      "outputs": []
    },
    {
      "cell_type": "markdown",
      "metadata": {
        "id": "fYrHX2emW9ML"
      },
      "source": [
        "# Splitting Positive Class data from other class(es)"
      ]
    },
    {
      "cell_type": "code",
      "metadata": {
        "id": "ZLzRKc0-IW1W",
        "colab": {
          "base_uri": "https://localhost:8080/"
        },
        "outputId": "c172fff1-743f-490f-df9c-82a3d35547f8"
      },
      "source": [
        "target_class = np.where(labels==class_label)\n",
        "negative_class = np.where(labels!=class_label)\n",
        "print(\"Positive samples:\", len(target_class[0]))\n",
        "print(\"Negative samples:\", len(negative_class[0]))"
      ],
      "execution_count": 7,
      "outputs": [
        {
          "output_type": "stream",
          "text": [
            "Positive samples: 665\n",
            "Negative samples: 5499\n"
          ],
          "name": "stdout"
        }
      ]
    },
    {
      "cell_type": "markdown",
      "metadata": {
        "id": "g1RLmnNxXDa1"
      },
      "source": [
        "# Testing and Evaluating"
      ]
    },
    {
      "cell_type": "markdown",
      "metadata": {
        "id": "UzS2O_GzXF92"
      },
      "source": [
        "## Positive Class"
      ]
    },
    {
      "cell_type": "code",
      "metadata": {
        "id": "pHQF_6FiN5O6"
      },
      "source": [
        "tp = 0\n",
        "for sample in test_data[target_class[0]]:\n",
        "  if OC_KNN(sample, j, threshold, distances_avg):\n",
        "    tp += 1\n",
        "\n",
        "fn = len(target_class[0]) - tp"
      ],
      "execution_count": 11,
      "outputs": []
    },
    {
      "cell_type": "markdown",
      "metadata": {
        "id": "rHmrMH1jXJz2"
      },
      "source": [
        "## Negative Class"
      ]
    },
    {
      "cell_type": "code",
      "metadata": {
        "id": "SMlZzHKTRh13"
      },
      "source": [
        "tn = 0\n",
        "for sample in test_data[negative_class[0]]:\n",
        "  if not OC_KNN(sample, j, threshold, distances_avg):\n",
        "    tn += 1\n",
        "\n",
        "fp = len(negative_class[0]) - tn"
      ],
      "execution_count": 12,
      "outputs": []
    },
    {
      "cell_type": "markdown",
      "metadata": {
        "id": "LdXe2CdwdO3I"
      },
      "source": [
        "## Recall, Precision and Accuracy"
      ]
    },
    {
      "cell_type": "code",
      "metadata": {
        "colab": {
          "base_uri": "https://localhost:8080/"
        },
        "id": "j_2o3iX2dGYw",
        "outputId": "bd2f870d-e900-426e-b789-d94ae47591b2"
      },
      "source": [
        "print(\"Recall:\", tp/len(target_class[0]))\n",
        "print(\"Precision:\", tp/(tp+fp))\n",
        "print(\"Accuracy:\", (tp+tn)/(tp+tn+fp+fn))"
      ],
      "execution_count": 13,
      "outputs": [
        {
          "output_type": "stream",
          "text": [
            "Recall: 0.6330827067669172\n",
            "Precision: 0.9293598233995585\n",
            "Accuracy: 0.9552238805970149\n"
          ],
          "name": "stdout"
        }
      ]
    }
  ]
}