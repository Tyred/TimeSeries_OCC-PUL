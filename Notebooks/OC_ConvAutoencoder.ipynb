{
  "nbformat": 4,
  "nbformat_minor": 0,
  "metadata": {
    "colab": {
      "name": "OC_ConvAutoencoder.ipynb",
      "provenance": [],
      "collapsed_sections": [
        "Oywa2HyHk6iC"
      ],
      "mount_file_id": "1M0bKgQRKtmVNEsgNCQCimG6cl4_J_GV_",
      "authorship_tag": "ABX9TyPd69KOYWJsjYYhYrnLXptG",
      "include_colab_link": true
    },
    "kernelspec": {
      "name": "python3",
      "display_name": "Python 3"
    },
    "accelerator": "GPU"
  },
  "cells": [
    {
      "cell_type": "markdown",
      "metadata": {
        "id": "view-in-github",
        "colab_type": "text"
      },
      "source": [
        "<a href=\"https://colab.research.google.com/github/Tyred/TimeSeries_OCC-PUL/blob/main/Notebooks/OC_ConvAutoencoder.ipynb\" target=\"_parent\"><img src=\"https://colab.research.google.com/assets/colab-badge.svg\" alt=\"Open In Colab\"/></a>"
      ]
    },
    {
      "cell_type": "markdown",
      "metadata": {
        "id": "kff21qy6oEe7"
      },
      "source": [
        "<h1> One-Class Classification Using Convolutional Autoencoders </h1>\n",
        "\n",
        "The main idea is to train a CAE (Convolutional Autoencoder) with data from the positive class only and calculate a reconstruction error threshold T based on the reconstruction errors obtained during the training. <br/>\n",
        "Then we perform the One-Class Classification (OCC) as follows:\n",
        "\n",
        "- For each data sample in the test dataset, do:\n",
        "    - Reconstruct the data with the CAE and calculate its reconstruction error E.\n",
        "    - if E <= T the sample is classified as a member of the positive class.\n",
        "    - else (if E > T) the sample is classified as not a member of the positive class.  \n",
        "\n",
        "- Evaluate the Model's Accuracy, Precision and Recall."
      ]
    },
    {
      "cell_type": "markdown",
      "metadata": {
        "id": "OflopftEPi5L"
      },
      "source": [
        "## Imports"
      ]
    },
    {
      "cell_type": "code",
      "metadata": {
        "id": "C2XDcHByvEwN"
      },
      "source": [
        "import numpy as np\n",
        "import matplotlib.pyplot as plt\n",
        "import tensorflow as tf\n",
        "\n",
        "from sklearn.metrics import accuracy_score, precision_score, recall_score, f1_score\n",
        "from tensorflow import keras\n",
        "from sklearn.metrics import mean_squared_error, mean_absolute_error\n",
        "%matplotlib inline"
      ],
      "execution_count": 19,
      "outputs": []
    },
    {
      "cell_type": "markdown",
      "metadata": {
        "id": "ePSM72bBkX6x"
      },
      "source": [
        "# Autoencoders"
      ]
    },
    {
      "cell_type": "markdown",
      "metadata": {
        "id": "3kwmDiXclBaQ"
      },
      "source": [
        "## Convolutional Using MaxPooling\n",
        "- Subclassing"
      ]
    },
    {
      "cell_type": "code",
      "metadata": {
        "id": "7j4Lk7QQxa6P"
      },
      "source": [
        "# Convolutional Autoencoder with MaxPooling:\n",
        "class ConvAutoencoder(tf.keras.Model):\n",
        "    def __init__(self): #, serie_length):\n",
        "        super(ConvAutoencoder, self).__init__()\n",
        "        self.conv_1  = keras.layers.Conv1D(16, 3, activation='swish', padding='same') #, input_shape=(serie_length))\n",
        "        self.max_1   = keras.layers.MaxPooling1D(2)\n",
        "        self.conv_2  = keras.layers.Conv1D(32, 3, activation='swish', padding='same')\n",
        "        self.max_2   = keras.layers.MaxPooling1D(2)\n",
        "        self.conv_3  = keras.layers.Conv1D(64, 3, activation='swish', padding='same')\n",
        "        \n",
        "        # encoded representation\n",
        "        self.encoded = keras.layers.MaxPooling1D(2, padding='same')\n",
        "        \n",
        "        # decoder layers\n",
        "        self.conv_4  = keras.layers.Conv1D(64, 3, activation='swish', padding='same')\n",
        "        self.up_1    = keras.layers.UpSampling1D(2)\n",
        "        self.conv_5  = keras.layers.Conv1D(32, 3, activation='swish', padding='same')\n",
        "        self.up_2    = keras.layers.UpSampling1D(2)\n",
        "        self.conv_6  = keras.layers.Conv1D(16, 3, activation='swish', padding='same')\n",
        "        self.up_3    = keras.layers.UpSampling1D(2)\n",
        "        \n",
        "        # decoded output\n",
        "        self.decoded = keras.layers.Conv1D(1, 3, activation='linear', padding='same')\n",
        "\n",
        "    def encoder(self, inputs):\n",
        "        if self.padding != 0:\n",
        "            inputs = keras.layers.ZeroPadding1D(padding=(8 + 8-self.padding, 0))(inputs)\n",
        "        x = self.conv_1(inputs)\n",
        "        x = self.max_1(x)\n",
        "        x = self.conv_2(x)\n",
        "        x = self.max_2(x)\n",
        "        x = self.conv_3(x)\n",
        "        return self.encoded(x)\n",
        "    \n",
        "    def decoder(self, inputs):\n",
        "        #x = self.encode(inputs)\n",
        "        x = self.conv_4(inputs)\n",
        "        x = self.up_1(x)\n",
        "        x = self.conv_5(x)\n",
        "        x = self.up_2(x)\n",
        "        x = self.conv_6(x)\n",
        "        x = self.up_3(x)\n",
        "        if self.padding != 0:\n",
        "            x = keras.layers.Cropping1D(cropping=(8 + 8-self.padding, 0))(x)\n",
        "        return self.decoded(x)\n",
        "     \n",
        "    def call(self, inputs):\n",
        "        self.padding = inputs.shape[1] % 8\n",
        "        _encoded = self.encoder(inputs)\n",
        "        _decoded = self.decoder(_encoded)\n",
        "\n",
        "        return _decoded\n",
        "\n",
        "    def model(self):\n",
        "        x = keras.layers.Input(shape=(serie_length, 1))\n",
        "        return tf.keras.Model(inputs=[x], outputs=self.call(x))"
      ],
      "execution_count": 2,
      "outputs": []
    },
    {
      "cell_type": "markdown",
      "metadata": {
        "id": "Ad-D4CADlFDa"
      },
      "source": [
        "# Reading Dataset from Google Drive"
      ]
    },
    {
      "cell_type": "code",
      "metadata": {
        "id": "nTl7TYPJv8LK",
        "colab": {
          "base_uri": "https://localhost:8080/"
        },
        "outputId": "a6df337a-4586-45c6-c74d-718f21205c2a"
      },
      "source": [
        "path = 'drive/My Drive/UFSCar/FAPESP/IC/Data/UCRArchive_2018'\n",
        "\n",
        "dataset = input('Dataset: ')\n",
        "tr_data = np.genfromtxt(path + \"/\" + dataset + \"/\" + dataset + \"_TRAIN.tsv\", \n",
        "                        delimiter=\"\\t\",)\n",
        "te_data = np.genfromtxt(path + \"/\" + dataset + \"/\" + dataset + \"_TEST.tsv\", \n",
        "                        delimiter=\"\\t\",)\n",
        "\n",
        "labels = te_data[:, 0]\n",
        "print(\"Labels:\", np.unique(labels))"
      ],
      "execution_count": 3,
      "outputs": [
        {
          "output_type": "stream",
          "text": [
            "Dataset: FordA\n",
            "Labels: [-1.  1.]\n"
          ],
          "name": "stdout"
        }
      ]
    },
    {
      "cell_type": "markdown",
      "metadata": {
        "id": "GMZ-EJx5Gfl7"
      },
      "source": [
        "# Splitting in Train-Test data"
      ]
    },
    {
      "cell_type": "code",
      "metadata": {
        "colab": {
          "base_uri": "https://localhost:8080/"
        },
        "id": "O7kV4zA5FrQX",
        "outputId": "476ddee3-8227-4169-addf-8966fcf46e0f"
      },
      "source": [
        "class_label = int(input('Positive class label: '))\n",
        "\n",
        "train_data  = tr_data[tr_data[:, 0] == class_label, 1:] # train\n",
        "test_data   = te_data[:, 1:]                            # test\n",
        "print(\"Train data shape:\", train_data.shape)\n",
        "print(\"Test data shape:\", test_data.shape)\n",
        "\n",
        "train_data = tf.cast(train_data, tf.float32)\n",
        "test_data  = tf.cast(test_data , tf.float32)\n",
        "\n",
        "train_data = tf.expand_dims(train_data, axis=-1)\n",
        "test_data  = tf.expand_dims(test_data , axis=-1)\n",
        "\n",
        "serie_length = train_data.shape[1]"
      ],
      "execution_count": 4,
      "outputs": [
        {
          "output_type": "stream",
          "text": [
            "Positive class label: 1\n",
            "Train data shape: (1755, 500)\n",
            "Test data shape: (1320, 500)\n"
          ],
          "name": "stdout"
        }
      ]
    },
    {
      "cell_type": "markdown",
      "metadata": {
        "id": "-BHJNqYjH5gy"
      },
      "source": [
        "# Labeling for OCC Task"
      ]
    },
    {
      "cell_type": "code",
      "metadata": {
        "colab": {
          "base_uri": "https://localhost:8080/"
        },
        "id": "DH-dIO1iH4qC",
        "outputId": "114b0aff-cb88-4179-96dc-8e097aaa64e0"
      },
      "source": [
        "occ_labels = [1 if x == class_label else 0 for x in labels]\n",
        "print(\"Positive samples:\", occ_labels.count(1))\n",
        "print(\"Negative samples:\", occ_labels.count(0))\n",
        "\n",
        "positive_test_data = test_data[np.array(occ_labels).astype(bool)]\n",
        "negative_test_data = test_data[~np.array(occ_labels).astype(bool)]"
      ],
      "execution_count": 5,
      "outputs": [
        {
          "output_type": "stream",
          "text": [
            "Positive samples: 639\n",
            "Negative samples: 681\n"
          ],
          "name": "stdout"
        }
      ]
    },
    {
      "cell_type": "markdown",
      "metadata": {
        "id": "Hnog38XJlV0d"
      },
      "source": [
        "# Initializing and training the Conv Autoencoder"
      ]
    },
    {
      "cell_type": "code",
      "metadata": {
        "id": "tpRSOYQQxjd6"
      },
      "source": [
        "autoencoder = ConvAutoencoder() "
      ],
      "execution_count": 6,
      "outputs": []
    },
    {
      "cell_type": "code",
      "metadata": {
        "id": "NqYYFeLGUeoy"
      },
      "source": [
        "autoencoder.compile(optimizer='adam', loss='mse')"
      ],
      "execution_count": 7,
      "outputs": []
    },
    {
      "cell_type": "code",
      "metadata": {
        "colab": {
          "base_uri": "https://localhost:8080/"
        },
        "id": "yBIQVn2ayo1W",
        "outputId": "9d241ee4-d23a-47f1-b4bd-ef6815fd0b72"
      },
      "source": [
        "# Train\n",
        "batch_size = 32\n",
        "epochs = 50\n",
        "\n",
        "history = autoencoder.fit(train_data, train_data, \n",
        "          epochs=epochs, \n",
        "          batch_size=batch_size,\n",
        "          validation_data=(test_data, test_data))"
      ],
      "execution_count": 8,
      "outputs": [
        {
          "output_type": "stream",
          "text": [
            "Epoch 1/50\n",
            "55/55 [==============================] - 35s 30ms/step - loss: 0.2883 - val_loss: 0.1047\n",
            "Epoch 2/50\n",
            "55/55 [==============================] - 1s 11ms/step - loss: 0.0431 - val_loss: 0.0684\n",
            "Epoch 3/50\n",
            "55/55 [==============================] - 1s 11ms/step - loss: 0.0217 - val_loss: 0.0430\n",
            "Epoch 4/50\n",
            "55/55 [==============================] - 1s 11ms/step - loss: 0.0144 - val_loss: 0.0352\n",
            "Epoch 5/50\n",
            "55/55 [==============================] - 1s 11ms/step - loss: 0.0119 - val_loss: 0.0298\n",
            "Epoch 6/50\n",
            "55/55 [==============================] - 1s 11ms/step - loss: 0.0101 - val_loss: 0.0255\n",
            "Epoch 7/50\n",
            "55/55 [==============================] - 1s 11ms/step - loss: 0.0085 - val_loss: 0.0217\n",
            "Epoch 8/50\n",
            "55/55 [==============================] - 1s 11ms/step - loss: 0.0072 - val_loss: 0.0185\n",
            "Epoch 9/50\n",
            "55/55 [==============================] - 1s 11ms/step - loss: 0.0060 - val_loss: 0.0158\n",
            "Epoch 10/50\n",
            "55/55 [==============================] - 1s 11ms/step - loss: 0.0051 - val_loss: 0.0136\n",
            "Epoch 11/50\n",
            "55/55 [==============================] - 1s 11ms/step - loss: 0.0044 - val_loss: 0.0119\n",
            "Epoch 12/50\n",
            "55/55 [==============================] - 1s 12ms/step - loss: 0.0038 - val_loss: 0.0105\n",
            "Epoch 13/50\n",
            "55/55 [==============================] - 1s 12ms/step - loss: 0.0034 - val_loss: 0.0095\n",
            "Epoch 14/50\n",
            "55/55 [==============================] - 1s 11ms/step - loss: 0.0030 - val_loss: 0.0087\n",
            "Epoch 15/50\n",
            "55/55 [==============================] - 1s 11ms/step - loss: 0.0028 - val_loss: 0.0080\n",
            "Epoch 16/50\n",
            "55/55 [==============================] - 1s 11ms/step - loss: 0.0025 - val_loss: 0.0074\n",
            "Epoch 17/50\n",
            "55/55 [==============================] - 1s 11ms/step - loss: 0.0023 - val_loss: 0.0070\n",
            "Epoch 18/50\n",
            "55/55 [==============================] - 1s 11ms/step - loss: 0.0022 - val_loss: 0.0065\n",
            "Epoch 19/50\n",
            "55/55 [==============================] - 1s 11ms/step - loss: 0.0020 - val_loss: 0.0061\n",
            "Epoch 20/50\n",
            "55/55 [==============================] - 1s 11ms/step - loss: 0.0019 - val_loss: 0.0058\n",
            "Epoch 21/50\n",
            "55/55 [==============================] - 1s 11ms/step - loss: 0.0018 - val_loss: 0.0055\n",
            "Epoch 22/50\n",
            "55/55 [==============================] - 1s 11ms/step - loss: 0.0016 - val_loss: 0.0052\n",
            "Epoch 23/50\n",
            "55/55 [==============================] - 1s 11ms/step - loss: 0.0015 - val_loss: 0.0050\n",
            "Epoch 24/50\n",
            "55/55 [==============================] - 1s 11ms/step - loss: 0.0015 - val_loss: 0.0047\n",
            "Epoch 25/50\n",
            "55/55 [==============================] - 1s 11ms/step - loss: 0.0014 - val_loss: 0.0045\n",
            "Epoch 26/50\n",
            "55/55 [==============================] - 1s 11ms/step - loss: 0.0013 - val_loss: 0.0043\n",
            "Epoch 27/50\n",
            "55/55 [==============================] - 1s 11ms/step - loss: 0.0012 - val_loss: 0.0041\n",
            "Epoch 28/50\n",
            "55/55 [==============================] - 1s 12ms/step - loss: 0.0012 - val_loss: 0.0039\n",
            "Epoch 29/50\n",
            "55/55 [==============================] - 1s 12ms/step - loss: 0.0011 - val_loss: 0.0038\n",
            "Epoch 30/50\n",
            "55/55 [==============================] - 1s 11ms/step - loss: 0.0010 - val_loss: 0.0037\n",
            "Epoch 31/50\n",
            "55/55 [==============================] - 1s 11ms/step - loss: 0.0010 - val_loss: 0.0035\n",
            "Epoch 32/50\n",
            "55/55 [==============================] - 1s 11ms/step - loss: 9.5702e-04 - val_loss: 0.0034\n",
            "Epoch 33/50\n",
            "55/55 [==============================] - 1s 11ms/step - loss: 9.2176e-04 - val_loss: 0.0033\n",
            "Epoch 34/50\n",
            "55/55 [==============================] - 1s 11ms/step - loss: 8.8964e-04 - val_loss: 0.0031\n",
            "Epoch 35/50\n",
            "55/55 [==============================] - 1s 11ms/step - loss: 8.5305e-04 - val_loss: 0.0031\n",
            "Epoch 36/50\n",
            "55/55 [==============================] - 1s 12ms/step - loss: 8.2485e-04 - val_loss: 0.0029\n",
            "Epoch 37/50\n",
            "55/55 [==============================] - 1s 12ms/step - loss: 7.9970e-04 - val_loss: 0.0029\n",
            "Epoch 38/50\n",
            "55/55 [==============================] - 1s 11ms/step - loss: 7.8106e-04 - val_loss: 0.0028\n",
            "Epoch 39/50\n",
            "55/55 [==============================] - 1s 11ms/step - loss: 7.4602e-04 - val_loss: 0.0027\n",
            "Epoch 40/50\n",
            "55/55 [==============================] - 1s 11ms/step - loss: 7.2417e-04 - val_loss: 0.0026\n",
            "Epoch 41/50\n",
            "55/55 [==============================] - 1s 11ms/step - loss: 7.0820e-04 - val_loss: 0.0026\n",
            "Epoch 42/50\n",
            "55/55 [==============================] - 1s 11ms/step - loss: 6.8037e-04 - val_loss: 0.0025\n",
            "Epoch 43/50\n",
            "55/55 [==============================] - 1s 11ms/step - loss: 6.6484e-04 - val_loss: 0.0024\n",
            "Epoch 44/50\n",
            "55/55 [==============================] - 1s 11ms/step - loss: 6.5819e-04 - val_loss: 0.0024\n",
            "Epoch 45/50\n",
            "55/55 [==============================] - 1s 11ms/step - loss: 6.3271e-04 - val_loss: 0.0024\n",
            "Epoch 46/50\n",
            "55/55 [==============================] - 1s 11ms/step - loss: 6.4880e-04 - val_loss: 0.0024\n",
            "Epoch 47/50\n",
            "55/55 [==============================] - 1s 11ms/step - loss: 6.3515e-04 - val_loss: 0.0023\n",
            "Epoch 48/50\n",
            "55/55 [==============================] - 1s 11ms/step - loss: 5.9515e-04 - val_loss: 0.0022\n",
            "Epoch 49/50\n",
            "55/55 [==============================] - 1s 12ms/step - loss: 5.8764e-04 - val_loss: 0.0022\n",
            "Epoch 50/50\n",
            "55/55 [==============================] - 1s 12ms/step - loss: 5.7560e-04 - val_loss: 0.0022\n"
          ],
          "name": "stdout"
        }
      ]
    },
    {
      "cell_type": "code",
      "metadata": {
        "colab": {
          "base_uri": "https://localhost:8080/",
          "height": 285
        },
        "id": "XfgVIDyeLxWg",
        "outputId": "a8f61c21-157d-4755-e8e0-84242300d0cf"
      },
      "source": [
        "plt.plot(history.history[\"loss\"], label=\"Training Loss\")\n",
        "plt.plot(history.history[\"val_loss\"], label=\"Validation Loss\")\n",
        "plt.legend()"
      ],
      "execution_count": 9,
      "outputs": [
        {
          "output_type": "execute_result",
          "data": {
            "text/plain": [
              "<matplotlib.legend.Legend at 0x7f9a5ee84c10>"
            ]
          },
          "metadata": {
            "tags": []
          },
          "execution_count": 9
        },
        {
          "output_type": "display_data",
          "data": {
            "image/png": "[encoded data removed]",
            "text/plain": [
              "<Figure size 432x288 with 1 Axes>"
            ]
          },
          "metadata": {
            "tags": [],
            "needs_background": "light"
          }
        }
      ]
    },
    {
      "cell_type": "code",
      "metadata": {
        "colab": {
          "base_uri": "https://localhost:8080/"
        },
        "id": "wh0pxMupq_Mv",
        "outputId": "51ee6168-b738-4b4c-fd5d-07be4bcc0700"
      },
      "source": [
        "autoencoder.model().summary()"
      ],
      "execution_count": 10,
      "outputs": [
        {
          "output_type": "stream",
          "text": [
            "Model: \"model\"\n",
            "_________________________________________________________________\n",
            "Layer (type)                 Output Shape              Param #   \n",
            "=================================================================\n",
            "input_1 (InputLayer)         [(None, 500, 1)]          0         \n",
            "_________________________________________________________________\n",
            "zero_padding1d (ZeroPadding1 (None, 512, 1)            0         \n",
            "_________________________________________________________________\n",
            "conv1d (Conv1D)              (None, 512, 16)           64        \n",
            "_________________________________________________________________\n",
            "max_pooling1d (MaxPooling1D) (None, 256, 16)           0         \n",
            "_________________________________________________________________\n",
            "conv1d_1 (Conv1D)            (None, 256, 32)           1568      \n",
            "_________________________________________________________________\n",
            "max_pooling1d_1 (MaxPooling1 (None, 128, 32)           0         \n",
            "_________________________________________________________________\n",
            "conv1d_2 (Conv1D)            (None, 128, 64)           6208      \n",
            "_________________________________________________________________\n",
            "max_pooling1d_2 (MaxPooling1 (None, 64, 64)            0         \n",
            "_________________________________________________________________\n",
            "conv1d_3 (Conv1D)            (None, 64, 64)            12352     \n",
            "_________________________________________________________________\n",
            "up_sampling1d (UpSampling1D) (None, 128, 64)           0         \n",
            "_________________________________________________________________\n",
            "conv1d_4 (Conv1D)            (None, 128, 32)           6176      \n",
            "_________________________________________________________________\n",
            "up_sampling1d_1 (UpSampling1 (None, 256, 32)           0         \n",
            "_________________________________________________________________\n",
            "conv1d_5 (Conv1D)            (None, 256, 16)           1552      \n",
            "_________________________________________________________________\n",
            "up_sampling1d_2 (UpSampling1 (None, 512, 16)           0         \n",
            "_________________________________________________________________\n",
            "cropping1d (Cropping1D)      (None, 500, 16)           0         \n",
            "_________________________________________________________________\n",
            "conv1d_6 (Conv1D)            (None, 500, 1)            49        \n",
            "=================================================================\n",
            "Total params: 27,969\n",
            "Trainable params: 27,969\n",
            "Non-trainable params: 0\n",
            "_________________________________________________________________\n"
          ],
          "name": "stdout"
        }
      ]
    },
    {
      "cell_type": "markdown",
      "metadata": {
        "id": "yN4ydHR6lnUj"
      },
      "source": [
        "# Reconstruction examples"
      ]
    },
    {
      "cell_type": "markdown",
      "metadata": {
        "id": "NFN9dc-wSAVz"
      },
      "source": [
        "## Positive Class"
      ]
    },
    {
      "cell_type": "code",
      "metadata": {
        "colab": {
          "base_uri": "https://localhost:8080/",
          "height": 265
        },
        "id": "TT6L8-Nl4mRw",
        "outputId": "d015d646-3ea5-41e8-a443-1c561d5e6e2c"
      },
      "source": [
        "encoded_data = autoencoder.encoder(positive_test_data).numpy()\n",
        "decoded_data = autoencoder.decoder(encoded_data).numpy().squeeze()\n",
        "\n",
        "plt.plot(positive_test_data[0], 'b')\n",
        "plt.plot(decoded_data[0], 'r')\n",
        "plt.fill_between(np.arange(serie_length), decoded_data[0], \n",
        "                 np.squeeze(positive_test_data[0]), color='lightcoral')\n",
        "plt.legend(labels=[\"Input\", \"Reconstruction\", \"Error\"])\n",
        "plt.show()"
      ],
      "execution_count": 11,
      "outputs": [
        {
          "output_type": "display_data",
          "data": {
            "image/png": "[encoded data removed]",
            "text/plain": [
              "<Figure size 432x288 with 1 Axes>"
            ]
          },
          "metadata": {
            "tags": [],
            "needs_background": "light"
          }
        }
      ]
    },
    {
      "cell_type": "markdown",
      "metadata": {
        "id": "wPy3kAMRSCk6"
      },
      "source": [
        "## Negative Class"
      ]
    },
    {
      "cell_type": "code",
      "metadata": {
        "colab": {
          "base_uri": "https://localhost:8080/",
          "height": 265
        },
        "id": "sYTUCg2jSEPE",
        "outputId": "250806f4-12e8-4c95-ce4c-f8db42a98438"
      },
      "source": [
        "encoded_data = autoencoder.encoder(negative_test_data).numpy()\n",
        "decoded_data = autoencoder.decoder(encoded_data).numpy().squeeze()\n",
        "\n",
        "plt.plot(negative_test_data[0], 'b')\n",
        "plt.plot(decoded_data[0], 'r')\n",
        "plt.fill_between(np.arange(serie_length), decoded_data[0], \n",
        "                 np.squeeze(negative_test_data[0]), color='lightcoral')\n",
        "plt.legend(labels=[\"Input\", \"Reconstruction\", \"Error\"])\n",
        "plt.show()"
      ],
      "execution_count": 12,
      "outputs": [
        {
          "output_type": "display_data",
          "data": {
            "image/png": "[encoded data removed]",
            "text/plain": [
              "<Figure size 432x288 with 1 Axes>"
            ]
          },
          "metadata": {
            "tags": [],
            "needs_background": "light"
          }
        }
      ]
    },
    {
      "cell_type": "markdown",
      "metadata": {
        "id": "nkfT81Q5SQhL"
      },
      "source": [
        "# Reconstruction Error Histogram"
      ]
    },
    {
      "cell_type": "markdown",
      "metadata": {
        "id": "-4njlmfXSV9l"
      },
      "source": [
        "## Train "
      ]
    },
    {
      "cell_type": "code",
      "metadata": {
        "colab": {
          "base_uri": "https://localhost:8080/",
          "height": 279
        },
        "id": "OqitKAkRSYtC",
        "outputId": "3e8d64b0-5b44-474c-e180-aae38929b9bc"
      },
      "source": [
        "reconstructions = autoencoder.predict(train_data).squeeze()\n",
        "train_loss = tf.keras.losses.mse(reconstructions, train_data.numpy().squeeze())\n",
        "\n",
        "plt.hist(train_loss[None,:], bins=50)\n",
        "plt.xlabel(\"Train loss\")\n",
        "plt.ylabel(\"No of examples\")\n",
        "plt.show()"
      ],
      "execution_count": 13,
      "outputs": [
        {
          "output_type": "display_data",
          "data": {
            "image/png": "[encoded data removed]",
            "text/plain": [
              "<Figure size 432x288 with 1 Axes>"
            ]
          },
          "metadata": {
            "tags": [],
            "needs_background": "light"
          }
        }
      ]
    },
    {
      "cell_type": "markdown",
      "metadata": {
        "id": "IaTOt5tRTQUW"
      },
      "source": [
        "## Test - Negative Class"
      ]
    },
    {
      "cell_type": "code",
      "metadata": {
        "colab": {
          "base_uri": "https://localhost:8080/",
          "height": 279
        },
        "id": "YhnmugJeTVvf",
        "outputId": "cb691869-7a10-440c-d861-b02534075bb6"
      },
      "source": [
        "reconstructions = autoencoder.predict(negative_test_data).squeeze()\n",
        "negative_test_loss = tf.keras.losses.mse(reconstructions, \n",
        "                                 negative_test_data.numpy().squeeze())\n",
        "\n",
        "plt.hist(negative_test_loss[None,:], bins=50)\n",
        "plt.xlabel(\"Test loss - Negative Class\")\n",
        "plt.ylabel(\"No of examples\")\n",
        "plt.show()"
      ],
      "execution_count": 14,
      "outputs": [
        {
          "output_type": "display_data",
          "data": {
            "image/png": "[encoded data removed]",
            "text/plain": [
              "<Figure size 432x288 with 1 Axes>"
            ]
          },
          "metadata": {
            "tags": [],
            "needs_background": "light"
          }
        }
      ]
    },
    {
      "cell_type": "markdown",
      "metadata": {
        "id": "4BuROpikcjRA"
      },
      "source": [
        "## Test - Positive Class"
      ]
    },
    {
      "cell_type": "code",
      "metadata": {
        "colab": {
          "base_uri": "https://localhost:8080/",
          "height": 279
        },
        "id": "P7L7KOJ6V95B",
        "outputId": "8ef771e2-0caf-4359-bafb-d84ec7dadfe6"
      },
      "source": [
        "reconstructions = autoencoder.predict(positive_test_data).squeeze()\n",
        "positive_test_loss = tf.keras.losses.mse(reconstructions, \n",
        "                                 positive_test_data.numpy().squeeze())\n",
        "\n",
        "plt.hist(positive_test_loss[None,:], bins=50)\n",
        "plt.xlabel(\"Test loss - Positive Class\")\n",
        "plt.ylabel(\"No of examples\")\n",
        "plt.show()"
      ],
      "execution_count": 15,
      "outputs": [
        {
          "output_type": "display_data",
          "data": {
            "image/png": "[encoded data removed]",
            "text/plain": [
              "<Figure size 432x288 with 1 Axes>"
            ]
          },
          "metadata": {
            "tags": [],
            "needs_background": "light"
          }
        }
      ]
    },
    {
      "cell_type": "markdown",
      "metadata": {
        "id": "CBV_46b6MPgj"
      },
      "source": [
        "# Threshold Definition and OCC Task\n",
        "\n",
        "\n",
        "\n",
        "\n",
        "\n",
        "\n"
      ]
    },
    {
      "cell_type": "code",
      "metadata": {
        "id": "bMy_o7ZVXsmj",
        "colab": {
          "base_uri": "https://localhost:8080/"
        },
        "outputId": "e1169bba-775b-43da-e562-82c15ddcbd36"
      },
      "source": [
        "threshold = np.mean(train_loss) + np.std(train_loss)\n",
        "print(\"Threshold: \", threshold)"
      ],
      "execution_count": 16,
      "outputs": [
        {
          "output_type": "stream",
          "text": [
            "Threshold:  0.0010213718\n"
          ],
          "name": "stdout"
        }
      ]
    },
    {
      "cell_type": "code",
      "metadata": {
        "id": "LgNdWKXXT5Hl"
      },
      "source": [
        "def predict(model, data, threshold):\n",
        "  reconstructions = model(data)\n",
        "  reconstructions = reconstructions.numpy().squeeze()\n",
        "  data = data.numpy().squeeze()\n",
        "  loss = tf.keras.losses.mse(reconstructions, data)\n",
        "  return tf.math.less_equal(loss, threshold)\n",
        "\n",
        "def print_stats(predictions, labels):\n",
        "  print(\"Accuracy = %.2f\"  % (accuracy_score(labels, predictions)  *100) + \"%\")\n",
        "  print(\"Precision = %.2f\" % (precision_score(labels, predictions) *100) + \"%\")\n",
        "  print(\"Recall = %.2f\"    % (recall_score(labels, predictions)    *100) + \"%\")\n",
        "  print(\"F1-Score = %.2f\"  % (f1_score(labels, predictions)        *100) + \"%\")"
      ],
      "execution_count": 20,
      "outputs": []
    },
    {
      "cell_type": "code",
      "metadata": {
        "colab": {
          "base_uri": "https://localhost:8080/"
        },
        "id": "LxV8cYkBT8Wr",
        "outputId": "f41c319a-6721-40a7-ceb5-a73bd9014c9c"
      },
      "source": [
        "preds = predict(autoencoder, test_data, threshold)\n",
        "print_stats(preds, occ_labels)"
      ],
      "execution_count": 21,
      "outputs": [
        {
          "output_type": "stream",
          "text": [
            "Accuracy = 71.82%\n",
            "Precision = 65.47%\n",
            "Recall = 88.42%\n",
            "F1-Score = 75.23%\n"
          ],
          "name": "stdout"
        }
      ]
    }
  ]
}