{
  "nbformat": 4,
  "nbformat_minor": 0,
  "metadata": {
    "colab": {
      "name": "OC_ConvAutoencoder.ipynb",
      "provenance": [],
      "collapsed_sections": [
        "Oywa2HyHk6iC"
      ],
      "mount_file_id": "1M0bKgQRKtmVNEsgNCQCimG6cl4_J_GV_",
      "authorship_tag": "ABX9TyNMCg7csyhymOJSvyn95GG0",
      "include_colab_link": true
    },
    "kernelspec": {
      "name": "python3",
      "display_name": "Python 3"
    },
    "accelerator": "GPU"
  },
  "cells": [
    {
      "cell_type": "markdown",
      "metadata": {
        "id": "view-in-github",
        "colab_type": "text"
      },
      "source": [
        "<a href=\"https://colab.research.google.com/github/Tyred/TimeSeries_OCC-PUL/blob/main/Notebooks/OC_ConvAutoencoder.ipynb\" target=\"_parent\"><img src=\"https://colab.research.google.com/assets/colab-badge.svg\" alt=\"Open In Colab\"/></a>"
      ]
    },
    {
      "cell_type": "markdown",
      "metadata": {
        "id": "kff21qy6oEe7"
      },
      "source": [
        "<h1> One-Class Classification Using Convolutional Autoencoders </h1>\n",
        "\n",
        "The main idea is to train a CAE (Convolutional Autoencoder) with data from the positive class only and calculate a reconstruction error threshold T based on the reconstruction errors obtained during the training. <br/>\n",
        "Then we perform the One-Class Classification (OCC) as follows:\n",
        "\n",
        "- For each data sample in the test dataset, do:\n",
        "    - Reconstruct the data with the CAE and calculate its reconstruction error E.\n",
        "    - if E <= T the sample is classified as a member of the positive class.\n",
        "    - else (if E > T) the sample is classified as not a member of the positive class.  \n",
        "\n",
        "- Evaluate the Model's Accuracy, Precision and Recall."
      ]
    },
    {
      "cell_type": "markdown",
      "metadata": {
        "id": "OflopftEPi5L"
      },
      "source": [
        "## Imports"
      ]
    },
    {
      "cell_type": "code",
      "metadata": {
        "id": "C2XDcHByvEwN"
      },
      "source": [
        "import numpy as np\n",
        "import matplotlib.pyplot as plt\n",
        "import tensorflow as tf\n",
        "\n",
        "from sklearn.metrics import accuracy_score, precision_score, recall_score\n",
        "from tensorflow import keras\n",
        "from sklearn.metrics import mean_squared_error, mean_absolute_error\n",
        "%matplotlib inline"
      ],
      "execution_count": null,
      "outputs": []
    },
    {
      "cell_type": "markdown",
      "metadata": {
        "id": "ePSM72bBkX6x"
      },
      "source": [
        "# Autoencoders"
      ]
    },
    {
      "cell_type": "markdown",
      "metadata": {
        "id": "3kwmDiXclBaQ"
      },
      "source": [
        "## Convolutional Using MaxPooling\n",
        "- Subclassing"
      ]
    },
    {
      "cell_type": "code",
      "metadata": {
        "id": "7j4Lk7QQxa6P"
      },
      "source": [
        "# Convolutional Autoencoder with MaxPooling:\n",
        "class ConvAutoencoder(tf.keras.Model):\n",
        "    def __init__(self): #, serie_length):\n",
        "        super(ConvAutoencoder, self).__init__()\n",
        "        self.conv_1  = keras.layers.Conv1D(16, 3, activation='swish', padding='same') #, input_shape=(serie_length))\n",
        "        self.max_1   = keras.layers.MaxPooling1D(2)\n",
        "        self.conv_2  = keras.layers.Conv1D(32, 3, activation='swish', padding='same')\n",
        "        self.max_2   = keras.layers.MaxPooling1D(2)\n",
        "        self.conv_3  = keras.layers.Conv1D(64, 3, activation='swish', padding='same')\n",
        "        \n",
        "        # encoded representation\n",
        "        self.encoded = keras.layers.MaxPooling1D(2, padding='same')\n",
        "        \n",
        "        # decoder layers\n",
        "        self.conv_4  = keras.layers.Conv1D(64, 3, activation='swish', padding='same')\n",
        "        self.up_1    = keras.layers.UpSampling1D(2)\n",
        "        self.conv_5  = keras.layers.Conv1D(32, 3, activation='swish', padding='same')\n",
        "        self.up_2    = keras.layers.UpSampling1D(2)\n",
        "        self.conv_6  = keras.layers.Conv1D(16, 3, activation='swish', padding='same')\n",
        "        self.up_3    = keras.layers.UpSampling1D(2)\n",
        "        \n",
        "        # decoded output\n",
        "        self.decoded = keras.layers.Conv1D(1, 3, activation='linear', padding='same')\n",
        "\n",
        "    def encoder(self, inputs):\n",
        "        if self.padding != 0:\n",
        "            inputs = keras.layers.ZeroPadding1D(padding=(8 + 8-self.padding, 0))(inputs)\n",
        "        x = self.conv_1(inputs)\n",
        "        x = self.max_1(x)\n",
        "        x = self.conv_2(x)\n",
        "        x = self.max_2(x)\n",
        "        x = self.conv_3(x)\n",
        "        return self.encoded(x)\n",
        "    \n",
        "    def decoder(self, inputs):\n",
        "        #x = self.encode(inputs)\n",
        "        x = self.conv_4(inputs)\n",
        "        x = self.up_1(x)\n",
        "        x = self.conv_5(x)\n",
        "        x = self.up_2(x)\n",
        "        x = self.conv_6(x)\n",
        "        x = self.up_3(x)\n",
        "        if self.padding != 0:\n",
        "            x = keras.layers.Cropping1D(cropping=(8 + 8-self.padding, 0))(x)\n",
        "        return self.decoded(x)\n",
        "     \n",
        "    def call(self, inputs):\n",
        "        self.padding = inputs.shape[1] % 8\n",
        "        _encoded = self.encoder(inputs)\n",
        "        _decoded = self.decoder(_encoded)\n",
        "\n",
        "        return _decoded\n",
        "\n",
        "    def model(self):\n",
        "        x = keras.layers.Input(shape=(serie_length, 1))\n",
        "        return tf.keras.Model(inputs=[x], outputs=self.call(x))"
      ],
      "execution_count": null,
      "outputs": []
    },
    {
      "cell_type": "markdown",
      "metadata": {
        "id": "Oywa2HyHk6iC"
      },
      "source": [
        "## Using Strides = 2"
      ]
    },
    {
      "cell_type": "code",
      "metadata": {
        "id": "1GojoJycTouw"
      },
      "source": [
        "# Convolutional Autoencoder with Strides:\n",
        "class ConvAutoencoderStrides():\n",
        "  def __init__(self, serie_length):\n",
        "    # encoder layers\n",
        "    input_data = Input(shape=(serie_length, 1))\n",
        "    x = Conv1D(128, (3), strides=2, activation='swish', padding='same')(input_data)\n",
        "    x = Conv1D(64, (3), strides=2, activation='swish', padding='same')(x)\n",
        "    x = Conv1D(32, (3), strides=2, activation='swish', padding='same')(x)\n",
        "    \n",
        "    # encoded representation\n",
        "    encoded = Conv1D(1, (3), activation='swish', padding='same')(x)\n",
        "    \n",
        "    # decoder layers\n",
        "    x = Conv1D(1, (3), activation='swish', padding='same')(x)\n",
        "    x = UpSampling1D((2))(encoded)\n",
        "    x = Conv1D(64, (3), activation='swish', padding='same')(x)\n",
        "    x = UpSampling1D((2))(x)\n",
        "    x = Conv1D(128, (3), activation='swish', padding='same')(x)\n",
        "    x = UpSampling1D((2))(x)\n",
        "    x = Conv1D(1, (3), activation='tanh', padding='same')(x)\n",
        "    \n",
        "    # cropping data so that decoded representation has the same shape as the input\n",
        "    cropping = x.shape[1] - input_data.shape[1] \n",
        "    # decoded representation\n",
        "    decoded = Cropping1D(cropping=(0,cropping))(x)\n",
        "    \n",
        "    # models\n",
        "    self.encoder = Model(input_data, encoded)\n",
        "    self.autoencoder = Model(input_data, decoded)\n",
        "    self.autoencoder.compile(optimizer='adam', loss='mse')\n",
        "    # summary\n",
        "    self.autoencoder.summary()\n",
        "    \n",
        "  def train(self, data, epochs, batch_size):\n",
        "    #self.callback = keras.callbacks.EarlyStopping(monitor='loss', patience=2)\n",
        "    history = self.autoencoder.fit(data, data, epochs= epochs, batch_size= batch_size, validation_split=0.1) #, callbacks = [callback])\n",
        "    \n",
        "    return self.autoencoder"
      ],
      "execution_count": null,
      "outputs": []
    },
    {
      "cell_type": "markdown",
      "metadata": {
        "id": "Ad-D4CADlFDa"
      },
      "source": [
        "# Reading Dataset from Google Drive"
      ]
    },
    {
      "cell_type": "code",
      "metadata": {
        "id": "nTl7TYPJv8LK",
        "colab": {
          "base_uri": "https://localhost:8080/"
        },
        "outputId": "40f751b6-3b60-479c-f23e-d132a1368315"
      },
      "source": [
        "path = 'drive/My Drive/UFSCar/FAPESP/IC/Data/UCRArchive_2018'\n",
        "\n",
        "dataset = input('Dataset: ')\n",
        "tr_data = np.genfromtxt(path + \"/\" + dataset + \"/\" + dataset + \"_TRAIN.tsv\", \n",
        "                        delimiter=\"\\t\",)\n",
        "te_data = np.genfromtxt(path + \"/\" + dataset + \"/\" + dataset + \"_TEST.tsv\", \n",
        "                        delimiter=\"\\t\",)\n",
        "\n",
        "labels = te_data[:, 0]\n",
        "print(\"Labels:\", np.unique(labels))"
      ],
      "execution_count": null,
      "outputs": [
        {
          "output_type": "stream",
          "text": [
            "Dataset: FordA\n",
            "Labels: [-1.  1.]\n"
          ],
          "name": "stdout"
        }
      ]
    },
    {
      "cell_type": "markdown",
      "metadata": {
        "id": "GMZ-EJx5Gfl7"
      },
      "source": [
        "# Splitting in Train-Test data"
      ]
    },
    {
      "cell_type": "code",
      "metadata": {
        "colab": {
          "base_uri": "https://localhost:8080/"
        },
        "id": "O7kV4zA5FrQX",
        "outputId": "c3fe04fb-1a6a-48bf-a432-85f84553f00a"
      },
      "source": [
        "class_label = int(input('Positive class label: '))\n",
        "\n",
        "train_data  = tr_data[tr_data[:, 0] == class_label, 1:] # train\n",
        "test_data   = te_data[:, 1:]                            # test\n",
        "print(\"Train data shape:\", train_data.shape)\n",
        "print(\"Test data shape:\", test_data.shape)\n",
        "\n",
        "train_data = tf.cast(train_data, tf.float32)\n",
        "test_data  = tf.cast(test_data , tf.float32)\n",
        "\n",
        "train_data = tf.expand_dims(train_data, axis=-1)\n",
        "test_data  = tf.expand_dims(test_data , axis=-1)\n",
        "\n",
        "serie_length = train_data.shape[1]"
      ],
      "execution_count": null,
      "outputs": [
        {
          "output_type": "stream",
          "text": [
            "Positive class label: 1\n",
            "Train data shape: (1755, 500)\n",
            "Test data shape: (1320, 500)\n"
          ],
          "name": "stdout"
        }
      ]
    },
    {
      "cell_type": "markdown",
      "metadata": {
        "id": "-BHJNqYjH5gy"
      },
      "source": [
        "# Labeling for OCC Task"
      ]
    },
    {
      "cell_type": "code",
      "metadata": {
        "colab": {
          "base_uri": "https://localhost:8080/"
        },
        "id": "DH-dIO1iH4qC",
        "outputId": "1a542c9d-500c-4103-c8d9-e0caf35141b0"
      },
      "source": [
        "occ_labels = [1 if x == class_label else 0 for x in labels]\n",
        "print(\"Positive samples:\", occ_labels.count(1))\n",
        "print(\"Negative samples:\", occ_labels.count(0))\n",
        "\n",
        "positive_test_data = test_data[np.array(occ_labels).astype(bool)]\n",
        "negative_test_data = test_data[~np.array(occ_labels).astype(bool)]"
      ],
      "execution_count": null,
      "outputs": [
        {
          "output_type": "stream",
          "text": [
            "Positive samples: 639\n",
            "Negative samples: 681\n"
          ],
          "name": "stdout"
        }
      ]
    },
    {
      "cell_type": "markdown",
      "metadata": {
        "id": "IANdtMdskaTE"
      },
      "source": [
        "## MLP Autoencoder"
      ]
    },
    {
      "cell_type": "code",
      "metadata": {
        "id": "1nS8bDYpkkm8"
      },
      "source": [
        "class AnomalyDetector(tf.keras.Model):\n",
        "  def __init__(self, serie_length):\n",
        "    super(AnomalyDetector, self).__init__()\n",
        "    self.encoder = tf.keras.Sequential([\n",
        "      tf.keras.layers.Dense(128, activation=\"swish\"),\n",
        "      tf.keras.layers.Dense(64, activation=\"swish\"),\n",
        "      tf.keras.layers.Dense(16, activation=\"swish\")])\n",
        "\n",
        "    self.decoder = tf.keras.Sequential([\n",
        "      tf.keras.layers.Dense(64, activation=\"swish\"),\n",
        "      tf.keras.layers.Dense(128, activation=\"swish\"),\n",
        "      tf.keras.layers.Dense(serie_length, activation=\"linear\")])\n",
        "\n",
        "  def call(self, x):\n",
        "    encoded = self.encoder(x)\n",
        "    decoded = self.decoder(encoded)\n",
        "    return decoded\n",
        "  \n",
        "  def model(self):\n",
        "    x = keras.layers.Input(shape=(serie_length, 1))\n",
        "    return tf.keras.Model(inputs=[x], outputs=self.call(x))\n",
        "\n",
        "autoencoder = AnomalyDetector(serie_length)"
      ],
      "execution_count": null,
      "outputs": []
    },
    {
      "cell_type": "markdown",
      "metadata": {
        "id": "Hnog38XJlV0d"
      },
      "source": [
        "# Initializing and training the Conv Autoencoder"
      ]
    },
    {
      "cell_type": "code",
      "metadata": {
        "id": "tpRSOYQQxjd6"
      },
      "source": [
        "# Initialize the Autoencoder\n",
        "#input_data = keras.layers.Input(shape=(serie_length, 1))\n",
        "\n",
        "autoencoder = ConvAutoencoder() #(serie_length, 1))"
      ],
      "execution_count": null,
      "outputs": []
    },
    {
      "cell_type": "code",
      "metadata": {
        "id": "NqYYFeLGUeoy"
      },
      "source": [
        "autoencoder.compile(optimizer='adam', loss='mse')"
      ],
      "execution_count": null,
      "outputs": []
    },
    {
      "cell_type": "code",
      "metadata": {
        "colab": {
          "base_uri": "https://localhost:8080/"
        },
        "id": "yBIQVn2ayo1W",
        "outputId": "5d370221-a885-413f-a054-aef4a15f2135"
      },
      "source": [
        "# Train\n",
        "batch_size = 16\n",
        "epochs = 100\n",
        "\n",
        "history = autoencoder.fit(train_data, train_data, \n",
        "          epochs=epochs, \n",
        "          batch_size=batch_size,\n",
        "          validation_data=(test_data, test_data))"
      ],
      "execution_count": null,
      "outputs": [
        {
          "output_type": "stream",
          "text": [
            "Epoch 1/100\n",
            "110/110 [==============================] - 3s 13ms/step - loss: 0.1662 - val_loss: 0.0673\n",
            "Epoch 2/100\n",
            "110/110 [==============================] - 1s 11ms/step - loss: 0.0196 - val_loss: 0.0376\n",
            "Epoch 3/100\n",
            "110/110 [==============================] - 1s 11ms/step - loss: 0.0119 - val_loss: 0.0261\n",
            "Epoch 4/100\n",
            "110/110 [==============================] - 1s 11ms/step - loss: 0.0085 - val_loss: 0.0187\n",
            "Epoch 5/100\n",
            "110/110 [==============================] - 1s 11ms/step - loss: 0.0060 - val_loss: 0.0134\n",
            "Epoch 6/100\n",
            "110/110 [==============================] - 1s 11ms/step - loss: 0.0043 - val_loss: 0.0103\n",
            "Epoch 7/100\n",
            "110/110 [==============================] - 1s 11ms/step - loss: 0.0034 - val_loss: 0.0089\n",
            "Epoch 8/100\n",
            "110/110 [==============================] - 1s 11ms/step - loss: 0.0028 - val_loss: 0.0078\n",
            "Epoch 9/100\n",
            "110/110 [==============================] - 1s 11ms/step - loss: 0.0024 - val_loss: 0.0070\n",
            "Epoch 10/100\n",
            "110/110 [==============================] - 1s 11ms/step - loss: 0.0021 - val_loss: 0.0064\n",
            "Epoch 11/100\n",
            "110/110 [==============================] - 1s 11ms/step - loss: 0.0019 - val_loss: 0.0059\n",
            "Epoch 12/100\n",
            "110/110 [==============================] - 1s 11ms/step - loss: 0.0017 - val_loss: 0.0055\n",
            "Epoch 13/100\n",
            "110/110 [==============================] - 1s 11ms/step - loss: 0.0015 - val_loss: 0.0050\n",
            "Epoch 14/100\n",
            "110/110 [==============================] - 1s 11ms/step - loss: 0.0014 - val_loss: 0.0048\n",
            "Epoch 15/100\n",
            "110/110 [==============================] - 1s 11ms/step - loss: 0.0013 - val_loss: 0.0044\n",
            "Epoch 16/100\n",
            "110/110 [==============================] - 1s 12ms/step - loss: 0.0012 - val_loss: 0.0042\n",
            "Epoch 17/100\n",
            "110/110 [==============================] - 1s 11ms/step - loss: 0.0011 - val_loss: 0.0039\n",
            "Epoch 18/100\n",
            "110/110 [==============================] - 1s 11ms/step - loss: 0.0011 - val_loss: 0.0036\n",
            "Epoch 19/100\n",
            "110/110 [==============================] - 1s 11ms/step - loss: 0.0010 - val_loss: 0.0035\n",
            "Epoch 20/100\n",
            "110/110 [==============================] - 1s 12ms/step - loss: 9.0906e-04 - val_loss: 0.0033\n",
            "Epoch 21/100\n",
            "110/110 [==============================] - 1s 11ms/step - loss: 8.7180e-04 - val_loss: 0.0031\n",
            "Epoch 22/100\n",
            "110/110 [==============================] - 1s 11ms/step - loss: 8.1986e-04 - val_loss: 0.0030\n",
            "Epoch 23/100\n",
            "110/110 [==============================] - 1s 11ms/step - loss: 8.0301e-04 - val_loss: 0.0029\n",
            "Epoch 24/100\n",
            "110/110 [==============================] - 1s 11ms/step - loss: 7.4063e-04 - val_loss: 0.0027\n",
            "Epoch 25/100\n",
            "110/110 [==============================] - 1s 11ms/step - loss: 7.0017e-04 - val_loss: 0.0026\n",
            "Epoch 26/100\n",
            "110/110 [==============================] - 1s 11ms/step - loss: 6.8300e-04 - val_loss: 0.0025\n",
            "Epoch 27/100\n",
            "110/110 [==============================] - 1s 11ms/step - loss: 6.5153e-04 - val_loss: 0.0024\n",
            "Epoch 28/100\n",
            "110/110 [==============================] - 1s 11ms/step - loss: 6.1968e-04 - val_loss: 0.0023\n",
            "Epoch 29/100\n",
            "110/110 [==============================] - 1s 11ms/step - loss: 6.0843e-04 - val_loss: 0.0022\n",
            "Epoch 30/100\n",
            "110/110 [==============================] - 1s 11ms/step - loss: 5.6563e-04 - val_loss: 0.0021\n",
            "Epoch 31/100\n",
            "110/110 [==============================] - 1s 11ms/step - loss: 5.6662e-04 - val_loss: 0.0021\n",
            "Epoch 32/100\n",
            "110/110 [==============================] - 1s 11ms/step - loss: 5.2493e-04 - val_loss: 0.0020\n",
            "Epoch 33/100\n",
            "110/110 [==============================] - 1s 11ms/step - loss: 5.0116e-04 - val_loss: 0.0019\n",
            "Epoch 34/100\n",
            "110/110 [==============================] - 1s 11ms/step - loss: 4.9884e-04 - val_loss: 0.0019\n",
            "Epoch 35/100\n",
            "110/110 [==============================] - 1s 11ms/step - loss: 4.9903e-04 - val_loss: 0.0018\n",
            "Epoch 36/100\n",
            "110/110 [==============================] - 1s 11ms/step - loss: 4.7764e-04 - val_loss: 0.0018\n",
            "Epoch 37/100\n",
            "110/110 [==============================] - 1s 11ms/step - loss: 4.4811e-04 - val_loss: 0.0017\n",
            "Epoch 38/100\n",
            "110/110 [==============================] - 1s 11ms/step - loss: 4.5004e-04 - val_loss: 0.0017\n",
            "Epoch 39/100\n",
            "110/110 [==============================] - 1s 11ms/step - loss: 4.3253e-04 - val_loss: 0.0017\n",
            "Epoch 40/100\n",
            "110/110 [==============================] - 1s 11ms/step - loss: 4.3134e-04 - val_loss: 0.0016\n",
            "Epoch 41/100\n",
            "110/110 [==============================] - 1s 11ms/step - loss: 4.1980e-04 - val_loss: 0.0016\n",
            "Epoch 42/100\n",
            "110/110 [==============================] - 1s 11ms/step - loss: 4.0198e-04 - val_loss: 0.0015\n",
            "Epoch 43/100\n",
            "110/110 [==============================] - 1s 11ms/step - loss: 3.7580e-04 - val_loss: 0.0015\n",
            "Epoch 44/100\n",
            "110/110 [==============================] - 1s 11ms/step - loss: 3.8085e-04 - val_loss: 0.0015\n",
            "Epoch 45/100\n",
            "110/110 [==============================] - 1s 12ms/step - loss: 3.8641e-04 - val_loss: 0.0014\n",
            "Epoch 46/100\n",
            "110/110 [==============================] - 1s 11ms/step - loss: 3.5234e-04 - val_loss: 0.0014\n",
            "Epoch 47/100\n",
            "110/110 [==============================] - 1s 11ms/step - loss: 3.5640e-04 - val_loss: 0.0014\n",
            "Epoch 48/100\n",
            "110/110 [==============================] - 1s 11ms/step - loss: 3.6014e-04 - val_loss: 0.0014\n",
            "Epoch 49/100\n",
            "110/110 [==============================] - 1s 11ms/step - loss: 3.5816e-04 - val_loss: 0.0013\n",
            "Epoch 50/100\n",
            "110/110 [==============================] - 1s 11ms/step - loss: 3.3638e-04 - val_loss: 0.0013\n",
            "Epoch 51/100\n",
            "110/110 [==============================] - 1s 11ms/step - loss: 3.2832e-04 - val_loss: 0.0013\n",
            "Epoch 52/100\n",
            "110/110 [==============================] - 1s 11ms/step - loss: 3.2350e-04 - val_loss: 0.0012\n",
            "Epoch 53/100\n",
            "110/110 [==============================] - 1s 11ms/step - loss: 3.3859e-04 - val_loss: 0.0013\n",
            "Epoch 54/100\n",
            "110/110 [==============================] - 1s 11ms/step - loss: 2.9811e-04 - val_loss: 0.0013\n",
            "Epoch 55/100\n",
            "110/110 [==============================] - 1s 11ms/step - loss: 3.0292e-04 - val_loss: 0.0012\n",
            "Epoch 56/100\n",
            "110/110 [==============================] - 1s 11ms/step - loss: 3.1314e-04 - val_loss: 0.0012\n",
            "Epoch 57/100\n",
            "110/110 [==============================] - 1s 11ms/step - loss: 3.1180e-04 - val_loss: 0.0012\n",
            "Epoch 58/100\n",
            "110/110 [==============================] - 1s 11ms/step - loss: 2.9119e-04 - val_loss: 0.0011\n",
            "Epoch 59/100\n",
            "110/110 [==============================] - 1s 11ms/step - loss: 3.1197e-04 - val_loss: 0.0011\n",
            "Epoch 60/100\n",
            "110/110 [==============================] - 1s 11ms/step - loss: 2.7289e-04 - val_loss: 0.0011\n",
            "Epoch 61/100\n",
            "110/110 [==============================] - 1s 11ms/step - loss: 2.7284e-04 - val_loss: 0.0011\n",
            "Epoch 62/100\n",
            "110/110 [==============================] - 1s 11ms/step - loss: 2.7020e-04 - val_loss: 0.0011\n",
            "Epoch 63/100\n",
            "110/110 [==============================] - 1s 11ms/step - loss: 2.6792e-04 - val_loss: 0.0011\n",
            "Epoch 64/100\n",
            "110/110 [==============================] - 1s 11ms/step - loss: 2.6115e-04 - val_loss: 0.0011\n",
            "Epoch 65/100\n",
            "110/110 [==============================] - 1s 11ms/step - loss: 2.7195e-04 - val_loss: 0.0010\n",
            "Epoch 66/100\n",
            "110/110 [==============================] - 1s 11ms/step - loss: 2.5947e-04 - val_loss: 0.0011\n",
            "Epoch 67/100\n",
            "110/110 [==============================] - 1s 11ms/step - loss: 2.6030e-04 - val_loss: 0.0010\n",
            "Epoch 68/100\n",
            "110/110 [==============================] - 1s 11ms/step - loss: 2.5121e-04 - val_loss: 0.0010\n",
            "Epoch 69/100\n",
            "110/110 [==============================] - 1s 11ms/step - loss: 2.5212e-04 - val_loss: 9.5626e-04\n",
            "Epoch 70/100\n",
            "110/110 [==============================] - 1s 11ms/step - loss: 2.3422e-04 - val_loss: 9.7018e-04\n",
            "Epoch 71/100\n",
            "110/110 [==============================] - 1s 11ms/step - loss: 2.4251e-04 - val_loss: 9.8856e-04\n",
            "Epoch 72/100\n",
            "110/110 [==============================] - 1s 11ms/step - loss: 2.5674e-04 - val_loss: 0.0010\n",
            "Epoch 73/100\n",
            "110/110 [==============================] - 1s 11ms/step - loss: 2.4533e-04 - val_loss: 9.2766e-04\n",
            "Epoch 74/100\n",
            "110/110 [==============================] - 1s 11ms/step - loss: 2.3704e-04 - val_loss: 9.5859e-04\n",
            "Epoch 75/100\n",
            "110/110 [==============================] - 1s 11ms/step - loss: 2.4269e-04 - val_loss: 9.2645e-04\n",
            "Epoch 76/100\n",
            "110/110 [==============================] - 1s 11ms/step - loss: 2.2122e-04 - val_loss: 9.0791e-04\n",
            "Epoch 77/100\n",
            "110/110 [==============================] - 1s 11ms/step - loss: 2.2938e-04 - val_loss: 8.6877e-04\n",
            "Epoch 78/100\n",
            "110/110 [==============================] - 1s 11ms/step - loss: 2.0704e-04 - val_loss: 8.7760e-04\n",
            "Epoch 79/100\n",
            "110/110 [==============================] - 1s 11ms/step - loss: 2.2312e-04 - val_loss: 9.8548e-04\n",
            "Epoch 80/100\n",
            "110/110 [==============================] - 1s 12ms/step - loss: 2.3382e-04 - val_loss: 8.6656e-04\n",
            "Epoch 81/100\n",
            "110/110 [==============================] - 1s 11ms/step - loss: 2.0882e-04 - val_loss: 8.9059e-04\n",
            "Epoch 82/100\n",
            "110/110 [==============================] - 1s 11ms/step - loss: 2.1746e-04 - val_loss: 8.7584e-04\n",
            "Epoch 83/100\n",
            "110/110 [==============================] - 1s 11ms/step - loss: 2.2055e-04 - val_loss: 8.2376e-04\n",
            "Epoch 84/100\n",
            "110/110 [==============================] - 1s 11ms/step - loss: 1.9653e-04 - val_loss: 8.2386e-04\n",
            "Epoch 85/100\n",
            "110/110 [==============================] - 1s 11ms/step - loss: 2.0693e-04 - val_loss: 8.1197e-04\n",
            "Epoch 86/100\n",
            "110/110 [==============================] - 1s 11ms/step - loss: 2.0604e-04 - val_loss: 8.8984e-04\n",
            "Epoch 87/100\n",
            "110/110 [==============================] - 1s 11ms/step - loss: 2.1347e-04 - val_loss: 7.9456e-04\n",
            "Epoch 88/100\n",
            "110/110 [==============================] - 1s 12ms/step - loss: 1.8971e-04 - val_loss: 9.2010e-04\n",
            "Epoch 89/100\n",
            "110/110 [==============================] - 1s 12ms/step - loss: 2.0875e-04 - val_loss: 8.3650e-04\n",
            "Epoch 90/100\n",
            "110/110 [==============================] - 1s 11ms/step - loss: 2.0150e-04 - val_loss: 7.6896e-04\n",
            "Epoch 91/100\n",
            "110/110 [==============================] - 1s 11ms/step - loss: 1.8642e-04 - val_loss: 7.8047e-04\n",
            "Epoch 92/100\n",
            "110/110 [==============================] - 1s 11ms/step - loss: 1.9722e-04 - val_loss: 7.7803e-04\n",
            "Epoch 93/100\n",
            "110/110 [==============================] - 1s 11ms/step - loss: 2.0416e-04 - val_loss: 7.6538e-04\n",
            "Epoch 94/100\n",
            "110/110 [==============================] - 1s 11ms/step - loss: 1.7884e-04 - val_loss: 7.3754e-04\n",
            "Epoch 95/100\n",
            "110/110 [==============================] - 1s 11ms/step - loss: 1.9954e-04 - val_loss: 8.1109e-04\n",
            "Epoch 96/100\n",
            "110/110 [==============================] - 1s 11ms/step - loss: 1.6890e-04 - val_loss: 7.5297e-04\n",
            "Epoch 97/100\n",
            "110/110 [==============================] - 1s 11ms/step - loss: 1.9066e-04 - val_loss: 7.8879e-04\n",
            "Epoch 98/100\n",
            "110/110 [==============================] - 1s 11ms/step - loss: 1.9121e-04 - val_loss: 7.8543e-04\n",
            "Epoch 99/100\n",
            "110/110 [==============================] - 1s 11ms/step - loss: 1.7473e-04 - val_loss: 7.6695e-04\n",
            "Epoch 100/100\n",
            "110/110 [==============================] - 1s 11ms/step - loss: 1.8697e-04 - val_loss: 6.9901e-04\n"
          ],
          "name": "stdout"
        }
      ]
    },
    {
      "cell_type": "code",
      "metadata": {
        "colab": {
          "base_uri": "https://localhost:8080/",
          "height": 282
        },
        "id": "XfgVIDyeLxWg",
        "outputId": "77ffd6e2-a548-438b-9916-50b002a25aa0"
      },
      "source": [
        "plt.plot(history.history[\"loss\"], label=\"Training Loss\")\n",
        "plt.plot(history.history[\"val_loss\"], label=\"Validation Loss\")\n",
        "plt.legend()"
      ],
      "execution_count": null,
      "outputs": [
        {
          "output_type": "execute_result",
          "data": {
            "text/plain": [
              "<matplotlib.legend.Legend at 0x7fa6b6036cd0>"
            ]
          },
          "metadata": {
            "tags": []
          },
          "execution_count": 880
        },
        {
          "output_type": "display_data",
          "data": {
            "image/png": "[encoded data removed]",
            "text/plain": [
              "<Figure size 432x288 with 1 Axes>"
            ]
          },
          "metadata": {
            "tags": [],
            "needs_background": "light"
          }
        }
      ]
    },
    {
      "cell_type": "code",
      "metadata": {
        "colab": {
          "base_uri": "https://localhost:8080/"
        },
        "id": "wh0pxMupq_Mv",
        "outputId": "86675d8b-e3f6-440c-a23b-d49d47f20f60"
      },
      "source": [
        "autoencoder.model().summary()"
      ],
      "execution_count": null,
      "outputs": [
        {
          "output_type": "stream",
          "text": [
            "Model: \"model_37\"\n",
            "_________________________________________________________________\n",
            "Layer (type)                 Output Shape              Param #   \n",
            "=================================================================\n",
            "input_38 (InputLayer)        [(None, 500, 1)]          0         \n",
            "_________________________________________________________________\n",
            "zero_padding1d_37 (ZeroPaddi (None, 512, 1)            0         \n",
            "_________________________________________________________________\n",
            "conv1d_273 (Conv1D)          (None, 512, 16)           64        \n",
            "_________________________________________________________________\n",
            "max_pooling1d_117 (MaxPoolin (None, 256, 16)           0         \n",
            "_________________________________________________________________\n",
            "conv1d_274 (Conv1D)          (None, 256, 32)           1568      \n",
            "_________________________________________________________________\n",
            "max_pooling1d_118 (MaxPoolin (None, 128, 32)           0         \n",
            "_________________________________________________________________\n",
            "conv1d_275 (Conv1D)          (None, 128, 64)           6208      \n",
            "_________________________________________________________________\n",
            "max_pooling1d_119 (MaxPoolin (None, 64, 64)            0         \n",
            "_________________________________________________________________\n",
            "conv1d_276 (Conv1D)          (None, 64, 64)            12352     \n",
            "_________________________________________________________________\n",
            "up_sampling1d_117 (UpSamplin (None, 128, 64)           0         \n",
            "_________________________________________________________________\n",
            "conv1d_277 (Conv1D)          (None, 128, 32)           6176      \n",
            "_________________________________________________________________\n",
            "up_sampling1d_118 (UpSamplin (None, 256, 32)           0         \n",
            "_________________________________________________________________\n",
            "conv1d_278 (Conv1D)          (None, 256, 16)           1552      \n",
            "_________________________________________________________________\n",
            "up_sampling1d_119 (UpSamplin (None, 512, 16)           0         \n",
            "_________________________________________________________________\n",
            "cropping1d_37 (Cropping1D)   (None, 500, 16)           0         \n",
            "_________________________________________________________________\n",
            "conv1d_279 (Conv1D)          (None, 500, 1)            49        \n",
            "=================================================================\n",
            "Total params: 27,969\n",
            "Trainable params: 27,969\n",
            "Non-trainable params: 0\n",
            "_________________________________________________________________\n"
          ],
          "name": "stdout"
        }
      ]
    },
    {
      "cell_type": "markdown",
      "metadata": {
        "id": "yN4ydHR6lnUj"
      },
      "source": [
        "# Reconstruction examples"
      ]
    },
    {
      "cell_type": "markdown",
      "metadata": {
        "id": "NFN9dc-wSAVz"
      },
      "source": [
        "## Positive Class"
      ]
    },
    {
      "cell_type": "code",
      "metadata": {
        "colab": {
          "base_uri": "https://localhost:8080/",
          "height": 265
        },
        "id": "TT6L8-Nl4mRw",
        "outputId": "a51ae661-ebb3-475c-e210-fdb54af68615"
      },
      "source": [
        "encoded_data = autoencoder.encoder(positive_test_data).numpy()\n",
        "decoded_data = autoencoder.decoder(encoded_data).numpy().squeeze()\n",
        "\n",
        "plt.plot(positive_test_data[0], 'b')\n",
        "plt.plot(decoded_data[0], 'r')\n",
        "plt.fill_between(np.arange(serie_length), decoded_data[0], \n",
        "                 np.squeeze(positive_test_data[0]), color='lightcoral')\n",
        "plt.legend(labels=[\"Input\", \"Reconstruction\", \"Error\"])\n",
        "plt.show()"
      ],
      "execution_count": null,
      "outputs": [
        {
          "output_type": "display_data",
          "data": {
            "image/png": "[encoded data removed]",
            "text/plain": [
              "<Figure size 432x288 with 1 Axes>"
            ]
          },
          "metadata": {
            "tags": [],
            "needs_background": "light"
          }
        }
      ]
    },
    {
      "cell_type": "markdown",
      "metadata": {
        "id": "wPy3kAMRSCk6"
      },
      "source": [
        "## Negative Class"
      ]
    },
    {
      "cell_type": "code",
      "metadata": {
        "colab": {
          "base_uri": "https://localhost:8080/",
          "height": 265
        },
        "id": "sYTUCg2jSEPE",
        "outputId": "393cfab8-7d07-4876-d9b5-281e115a3c50"
      },
      "source": [
        "encoded_data = autoencoder.encoder(negative_test_data).numpy()\n",
        "decoded_data = autoencoder.decoder(encoded_data).numpy().squeeze()\n",
        "\n",
        "plt.plot(negative_test_data[0], 'b')\n",
        "plt.plot(decoded_data[0], 'r')\n",
        "plt.fill_between(np.arange(serie_length), decoded_data[0], \n",
        "                 np.squeeze(negative_test_data[0]), color='lightcoral')\n",
        "plt.legend(labels=[\"Input\", \"Reconstruction\", \"Error\"])\n",
        "plt.show()"
      ],
      "execution_count": null,
      "outputs": [
        {
          "output_type": "display_data",
          "data": {
            "image/png": "[encoded data removed]",
            "text/plain": [
              "<Figure size 432x288 with 1 Axes>"
            ]
          },
          "metadata": {
            "tags": [],
            "needs_background": "light"
          }
        }
      ]
    },
    {
      "cell_type": "markdown",
      "metadata": {
        "id": "nkfT81Q5SQhL"
      },
      "source": [
        "# Reconstruction Error Histogram"
      ]
    },
    {
      "cell_type": "markdown",
      "metadata": {
        "id": "-4njlmfXSV9l"
      },
      "source": [
        "## Train "
      ]
    },
    {
      "cell_type": "code",
      "metadata": {
        "colab": {
          "base_uri": "https://localhost:8080/",
          "height": 279
        },
        "id": "OqitKAkRSYtC",
        "outputId": "c4a3d712-7621-469f-9001-9379e74ca674"
      },
      "source": [
        "reconstructions = autoencoder.predict(train_data).squeeze()\n",
        "train_loss = tf.keras.losses.mse(reconstructions, train_data.numpy().squeeze())\n",
        "\n",
        "plt.hist(train_loss[None,:], bins=50)\n",
        "plt.xlabel(\"Train loss\")\n",
        "plt.ylabel(\"No of examples\")\n",
        "plt.show()"
      ],
      "execution_count": null,
      "outputs": [
        {
          "output_type": "display_data",
          "data": {
            "image/png": "[encoded data removed]",
            "text/plain": [
              "<Figure size 432x288 with 1 Axes>"
            ]
          },
          "metadata": {
            "tags": [],
            "needs_background": "light"
          }
        }
      ]
    },
    {
      "cell_type": "markdown",
      "metadata": {
        "id": "IaTOt5tRTQUW"
      },
      "source": [
        "## Test - Negative Class"
      ]
    },
    {
      "cell_type": "code",
      "metadata": {
        "colab": {
          "base_uri": "https://localhost:8080/",
          "height": 279
        },
        "id": "YhnmugJeTVvf",
        "outputId": "3848bd0d-df89-4d27-993c-b4ef98622c60"
      },
      "source": [
        "reconstructions = autoencoder.predict(negative_test_data).squeeze()\n",
        "train_loss = tf.keras.losses.mse(reconstructions, \n",
        "                                 negative_test_data.numpy().squeeze())\n",
        "\n",
        "plt.hist(train_loss[None,:], bins=50)\n",
        "plt.xlabel(\"Test loss - Negative Class\")\n",
        "plt.ylabel(\"No of examples\")\n",
        "plt.show()"
      ],
      "execution_count": null,
      "outputs": [
        {
          "output_type": "display_data",
          "data": {
            "image/png": "[encoded data removed]",
            "text/plain": [
              "<Figure size 432x288 with 1 Axes>"
            ]
          },
          "metadata": {
            "tags": [],
            "needs_background": "light"
          }
        }
      ]
    },
    {
      "cell_type": "markdown",
      "metadata": {
        "id": "4BuROpikcjRA"
      },
      "source": [
        "## Test - Positive Class"
      ]
    },
    {
      "cell_type": "code",
      "metadata": {
        "colab": {
          "base_uri": "https://localhost:8080/",
          "height": 279
        },
        "id": "P7L7KOJ6V95B",
        "outputId": "b4713501-079d-45ee-cad5-aeb9e84c1915"
      },
      "source": [
        "reconstructions = autoencoder.predict(positive_test_data).squeeze()\n",
        "train_loss = tf.keras.losses.mse(reconstructions, \n",
        "                                 positive_test_data.numpy().squeeze())\n",
        "\n",
        "plt.hist(train_loss[None,:], bins=50)\n",
        "plt.xlabel(\"Test loss - Positive Class\")\n",
        "plt.ylabel(\"No of examples\")\n",
        "plt.show()"
      ],
      "execution_count": null,
      "outputs": [
        {
          "output_type": "display_data",
          "data": {
            "image/png": "[encoded data removed]",
            "text/plain": [
              "<Figure size 432x288 with 1 Axes>"
            ]
          },
          "metadata": {
            "tags": [],
            "needs_background": "light"
          }
        }
      ]
    },
    {
      "cell_type": "markdown",
      "metadata": {
        "id": "CBV_46b6MPgj"
      },
      "source": [
        "# Threshold Definition and OCC Task\n",
        "\n",
        "\n",
        "\n",
        "\n",
        "\n",
        "\n"
      ]
    },
    {
      "cell_type": "code",
      "metadata": {
        "id": "bMy_o7ZVXsmj",
        "colab": {
          "base_uri": "https://localhost:8080/"
        },
        "outputId": "d4725ace-7480-4b8a-dc19-b96f9057e71d"
      },
      "source": [
        "threshold = np.mean(train_loss) + np.std(train_loss)\n",
        "print(\"Threshold: \", threshold)"
      ],
      "execution_count": null,
      "outputs": [
        {
          "output_type": "stream",
          "text": [
            "Threshold:  0.00034179515\n"
          ],
          "name": "stdout"
        }
      ]
    },
    {
      "cell_type": "code",
      "metadata": {
        "id": "LgNdWKXXT5Hl"
      },
      "source": [
        "def predict(model, data, threshold):\n",
        "  reconstructions = model(data)\n",
        "  reconstructions = reconstructions.numpy().squeeze()\n",
        "  data = data.numpy().squeeze()\n",
        "  loss = tf.keras.losses.mse(reconstructions, data)\n",
        "  return tf.math.less(loss, threshold)\n",
        "\n",
        "def print_stats(predictions, labels):\n",
        "  print(\"Accuracy = %.2f\"  % (accuracy_score(labels, predictions)  *100) + \"%\")\n",
        "  print(\"Precision = %.2f\" % (precision_score(labels, predictions) *100) + \"%\")\n",
        "  print(\"Recall = %.2f\"    % (recall_score(labels, predictions)    *100) + \"%\")"
      ],
      "execution_count": null,
      "outputs": []
    },
    {
      "cell_type": "code",
      "metadata": {
        "colab": {
          "base_uri": "https://localhost:8080/"
        },
        "id": "LxV8cYkBT8Wr",
        "outputId": "9eedf7c0-34ef-4e51-d359-fd34f90cd803"
      },
      "source": [
        "preds = predict(autoencoder, test_data, threshold)\n",
        "print_stats(preds, occ_labels)"
      ],
      "execution_count": null,
      "outputs": [
        {
          "output_type": "stream",
          "text": [
            "Accuracy = 73.11%\n",
            "Precision = 65.64%\n",
            "Recall = 93.27%\n"
          ],
          "name": "stdout"
        }
      ]
    }
  ]
}