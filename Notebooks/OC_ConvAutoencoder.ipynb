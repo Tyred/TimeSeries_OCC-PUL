{
  "nbformat": 4,
  "nbformat_minor": 0,
  "metadata": {
    "colab": {
      "name": "OCC_Histogram.ipynb",
      "provenance": [],
      "collapsed_sections": [],
      "mount_file_id": "1M0bKgQRKtmVNEsgNCQCimG6cl4_J_GV_",
      "authorship_tag": "ABX9TyPSSako60t69cSxEhrvOWW5",
      "include_colab_link": true
    },
    "kernelspec": {
      "name": "python3",
      "display_name": "Python 3"
    },
    "accelerator": "GPU"
  },
  "cells": [
    {
      "cell_type": "markdown",
      "metadata": {
        "id": "view-in-github",
        "colab_type": "text"
      },
      "source": [
        "<a href=\"https://colab.research.google.com/github/Tyred/TimeSeries_OCC-PUL/blob/main/OCC_Histogram.ipynb\" target=\"_parent\"><img src=\"https://colab.research.google.com/assets/colab-badge.svg\" alt=\"Open In Colab\"/></a>"
      ]
    },
    {
      "cell_type": "code",
      "metadata": {
        "id": "C2XDcHByvEwN"
      },
      "source": [
        "import numpy as np\n",
        "import tensorflow as tf\n",
        "import keras\n",
        "import matplotlib.pyplot as plt\n",
        "\n",
        "from keras.layers import Input, Conv1D, Activation, MaxPooling1D, UpSampling1D, ZeroPadding1D, Cropping1D, Flatten\n",
        "from keras.models import Model, load_model\n",
        "from keras import backend as K\n",
        "from keras.utils.generic_utils import get_custom_objects\n",
        "\n",
        "from sklearn.metrics import mean_squared_error\n",
        "%matplotlib inline"
      ],
      "execution_count": 1,
      "outputs": []
    },
    {
      "cell_type": "code",
      "metadata": {
        "id": "YJq766Qtv7bT"
      },
      "source": [
        "class Swish(Activation):\n",
        "    def __init__(self, activation, **kwargs):\n",
        "        super(Swish, self).__init__(activation, **kwargs)\n",
        "        self.__name__ = 'swish'\n",
        "\n",
        "def swish(x):\n",
        "    return (K.sigmoid(x) * x)\n",
        "\n",
        "get_custom_objects().update({'swish': Swish(swish)})"
      ],
      "execution_count": 2,
      "outputs": []
    },
    {
      "cell_type": "code",
      "metadata": {
        "id": "7j4Lk7QQxa6P"
      },
      "source": [
        "# Convolutional Autoencoder with MaxPooling:\n",
        "class ConvAutoencoder():\n",
        "  def __init__(self, serie_length):\n",
        "    # encoder layers\n",
        "    input_data = Input(shape=(serie_length, 1))\n",
        "    x = Conv1D(128, (3), activation='swish', padding='same')(input_data)\n",
        "    x = MaxPooling1D((2), padding='same')(x)\n",
        "    x = Conv1D(64, (3), activation='swish', padding='same')(x)\n",
        "    x = MaxPooling1D((2), padding='same')(x)\n",
        "    x = Conv1D(1, (3), activation='swish', padding='same')(x)\n",
        "  \n",
        "    # encoded representation\n",
        "    encoded = MaxPooling1D((2), padding='same')(x)\n",
        "    \n",
        "    # decoder layers\n",
        "    x = Conv1D(1, (3), activation='swish', padding='same')(x)\n",
        "    x = UpSampling1D((2))(encoded)\n",
        "    x = Conv1D(64, (3), activation='swish', padding='same')(x)\n",
        "    x = UpSampling1D((2))(x)\n",
        "    x = Conv1D(128, (3), activation='swish', padding='same')(x)\n",
        "    x = UpSampling1D((2))(x)\n",
        "    x = Conv1D(1, (3), activation='linear', padding='same')(x)\n",
        "    \n",
        "    # cropping data so that decoded representation has the same shape as the input\n",
        "    cropping = x.shape[1] - input_data.shape[1] \n",
        "\n",
        "    # decoded representation\n",
        "    decoded = Cropping1D(cropping=(0,cropping))(x)\n",
        "    \n",
        "    # models\n",
        "    self.encoder = Model(input_data, encoded)\n",
        "    self.autoencoder = Model(input_data, decoded)\n",
        "    self.autoencoder.compile(optimizer='adam', loss='mse')\n",
        "    # summary\n",
        "    self.autoencoder.summary()\n",
        "    \n",
        "  def train(self, data, epochs, batch_size):\n",
        "    #self.callback = keras.callbacks.EarlyStopping(monitor='loss', patience=2)\n",
        "    history = self.autoencoder.fit(data, data, epochs= epochs, batch_size= batch_size, validation_split=0.1) #, callbacks = [callback])\n",
        "    \n",
        "    return self.autoencoder\n",
        "\n",
        "# Convolutional Autoencoder with Strides:\n",
        "class ConvAutoencoderStrides():\n",
        "  def __init__(self, serie_length):\n",
        "    # encoder layers\n",
        "    input_data = Input(shape=(serie_length, 1))\n",
        "    x = Conv1D(128, (3), strides=2, activation='swish', padding='same')(input_data)\n",
        "    x = Conv1D(64, (3), strides=2, activation='swish', padding='same')(x)\n",
        "    x = Conv1D(32, (3), strides=2, activation='swish', padding='same')(x)\n",
        "    \n",
        "    # encoded representation\n",
        "    encoded = Conv1D(1, (3), activation='swish', padding='same')(x)\n",
        "    \n",
        "    # decoder layers\n",
        "    x = Conv1D(1, (3), activation='swish', padding='same')(x)\n",
        "    x = UpSampling1D((2))(encoded)\n",
        "    x = Conv1D(64, (3), activation='swish', padding='same')(x)\n",
        "    x = UpSampling1D((2))(x)\n",
        "    x = Conv1D(128, (3), activation='swish', padding='same')(x)\n",
        "    x = UpSampling1D((2))(x)\n",
        "    x = Conv1D(1, (3), activation='tanh', padding='same')(x)\n",
        "    \n",
        "    # cropping data so that decoded representation has the same shape as the input\n",
        "    cropping = x.shape[1] - input_data.shape[1] \n",
        "    # decoded representation\n",
        "    decoded = Cropping1D(cropping=(0,cropping))(x)\n",
        "    \n",
        "    # models\n",
        "    self.encoder = Model(input_data, encoded)\n",
        "    self.autoencoder = Model(input_data, decoded)\n",
        "    self.autoencoder.compile(optimizer='adam', loss='mse')\n",
        "    # summary\n",
        "    self.autoencoder.summary()\n",
        "    \n",
        "  def train(self, data, epochs, batch_size):\n",
        "    #self.callback = keras.callbacks.EarlyStopping(monitor='loss', patience=2)\n",
        "    history = self.autoencoder.fit(data, data, epochs= epochs, batch_size= batch_size, validation_split=0.1) #, callbacks = [callback])\n",
        "    \n",
        "    return self.autoencoder"
      ],
      "execution_count": 3,
      "outputs": []
    },
    {
      "cell_type": "code",
      "metadata": {
        "id": "nTl7TYPJv8LK",
        "colab": {
          "base_uri": "https://localhost:8080/"
        },
        "outputId": "a392a552-a20e-486e-d526-30110ae01fb4"
      },
      "source": [
        "path = 'drive/My Drive/UFSCar/FAPESP/IC/Data/UCRArchive_2018'\n",
        "\n",
        "dataset = input('Dataset: ')\n",
        "tr_data = np.genfromtxt(path + \"/\" + dataset + \"/\" + dataset + \"_TRAIN.tsv\", delimiter=\"\\t\",)\n",
        "te_data = np.genfromtxt(path + \"/\" + dataset + \"/\" + dataset + \"_TEST.tsv\", delimiter=\"\\t\",)\n",
        "\n",
        "print(tr_data[:, 0])\n",
        "\n",
        "class_label = 1\n",
        "tr_data = tr_data[tr_data[:,0] == class_label, 1:] # train\n",
        "tc_data = te_data[te_data[:,0] == class_label, 1:] # target class - test\n",
        "oc_data = te_data[te_data[:,0] != class_label, 1:] # other classes - test\n",
        "\n",
        "print(\"Train data shape: \", tr_data.shape)\n",
        "print(\"Test data shape (target class): \", tc_data.shape)\n",
        "print(\"Test data shape (other class(es)): \", oc_data.shape)"
      ],
      "execution_count": 4,
      "outputs": [
        {
          "output_type": "stream",
          "text": [
            "Dataset: FordA\n",
            "[-1.  1. -1. ... -1.  1. -1.]\n",
            "Train data shape:  (1755, 500)\n",
            "Test data shape (target class):  (639, 500)\n",
            "Test data shape (other class(es)):  (681, 500)\n"
          ],
          "name": "stdout"
        }
      ]
    },
    {
      "cell_type": "code",
      "metadata": {
        "colab": {
          "base_uri": "https://localhost:8080/"
        },
        "id": "tpRSOYQQxjd6",
        "outputId": "c95793c9-a0b4-4208-f54e-2ec3675367b5"
      },
      "source": [
        "# Initialize the Autoencoder\n",
        "serie_length = tr_data.shape[1]\n",
        "model = ConvAutoencoder(serie_length)"
      ],
      "execution_count": 5,
      "outputs": [
        {
          "output_type": "stream",
          "text": [
            "Model: \"model_1\"\n",
            "_________________________________________________________________\n",
            "Layer (type)                 Output Shape              Param #   \n",
            "=================================================================\n",
            "input_1 (InputLayer)         [(None, 500, 1)]          0         \n",
            "_________________________________________________________________\n",
            "conv1d (Conv1D)              (None, 500, 128)          512       \n",
            "_________________________________________________________________\n",
            "max_pooling1d (MaxPooling1D) (None, 250, 128)          0         \n",
            "_________________________________________________________________\n",
            "conv1d_1 (Conv1D)            (None, 250, 64)           24640     \n",
            "_________________________________________________________________\n",
            "max_pooling1d_1 (MaxPooling1 (None, 125, 64)           0         \n",
            "_________________________________________________________________\n",
            "conv1d_2 (Conv1D)            (None, 125, 1)            193       \n",
            "_________________________________________________________________\n",
            "max_pooling1d_2 (MaxPooling1 (None, 63, 1)             0         \n",
            "_________________________________________________________________\n",
            "up_sampling1d (UpSampling1D) (None, 126, 1)            0         \n",
            "_________________________________________________________________\n",
            "conv1d_4 (Conv1D)            (None, 126, 64)           256       \n",
            "_________________________________________________________________\n",
            "up_sampling1d_1 (UpSampling1 (None, 252, 64)           0         \n",
            "_________________________________________________________________\n",
            "conv1d_5 (Conv1D)            (None, 252, 128)          24704     \n",
            "_________________________________________________________________\n",
            "up_sampling1d_2 (UpSampling1 (None, 504, 128)          0         \n",
            "_________________________________________________________________\n",
            "conv1d_6 (Conv1D)            (None, 504, 1)            385       \n",
            "_________________________________________________________________\n",
            "cropping1d (Cropping1D)      (None, 500, 1)            0         \n",
            "=================================================================\n",
            "Total params: 50,690\n",
            "Trainable params: 50,690\n",
            "Non-trainable params: 0\n",
            "_________________________________________________________________\n"
          ],
          "name": "stdout"
        }
      ]
    },
    {
      "cell_type": "code",
      "metadata": {
        "colab": {
          "base_uri": "https://localhost:8080/"
        },
        "id": "yBIQVn2ayo1W",
        "outputId": "9089ecfe-0310-4bb9-ec6c-19d3a8ad5b5e"
      },
      "source": [
        "# Train\n",
        "batch_size = 32\n",
        "epochs = 50\n",
        "\n",
        "autoencoder = model.train(tr_data, epochs, batch_size)"
      ],
      "execution_count": 6,
      "outputs": [
        {
          "output_type": "stream",
          "text": [
            "Epoch 1/50\n",
            "50/50 [==============================] - 35s 24ms/step - loss: 0.6315 - val_loss: 0.2167\n",
            "Epoch 2/50\n",
            "50/50 [==============================] - 1s 11ms/step - loss: 0.2059 - val_loss: 0.1737\n",
            "Epoch 3/50\n",
            "50/50 [==============================] - 1s 11ms/step - loss: 0.1812 - val_loss: 0.1660\n",
            "Epoch 4/50\n",
            "50/50 [==============================] - 1s 11ms/step - loss: 0.1756 - val_loss: 0.1609\n",
            "Epoch 5/50\n",
            "50/50 [==============================] - 1s 11ms/step - loss: 0.1697 - val_loss: 0.1577\n",
            "Epoch 6/50\n",
            "50/50 [==============================] - 1s 11ms/step - loss: 0.1702 - val_loss: 0.1537\n",
            "Epoch 7/50\n",
            "50/50 [==============================] - 1s 11ms/step - loss: 0.1655 - val_loss: 0.1513\n",
            "Epoch 8/50\n",
            "50/50 [==============================] - 1s 11ms/step - loss: 0.1629 - val_loss: 0.1500\n",
            "Epoch 9/50\n",
            "50/50 [==============================] - 1s 11ms/step - loss: 0.1638 - val_loss: 0.1489\n",
            "Epoch 10/50\n",
            "50/50 [==============================] - 1s 11ms/step - loss: 0.1596 - val_loss: 0.1479\n",
            "Epoch 11/50\n",
            "50/50 [==============================] - 1s 11ms/step - loss: 0.1562 - val_loss: 0.1465\n",
            "Epoch 12/50\n",
            "50/50 [==============================] - 1s 11ms/step - loss: 0.1577 - val_loss: 0.1458\n",
            "Epoch 13/50\n",
            "50/50 [==============================] - 1s 11ms/step - loss: 0.1589 - val_loss: 0.1454\n",
            "Epoch 14/50\n",
            "50/50 [==============================] - 1s 10ms/step - loss: 0.1586 - val_loss: 0.1455\n",
            "Epoch 15/50\n",
            "50/50 [==============================] - 1s 11ms/step - loss: 0.1548 - val_loss: 0.1451\n",
            "Epoch 16/50\n",
            "50/50 [==============================] - 1s 11ms/step - loss: 0.1581 - val_loss: 0.1439\n",
            "Epoch 17/50\n",
            "50/50 [==============================] - 1s 11ms/step - loss: 0.1553 - val_loss: 0.1443\n",
            "Epoch 18/50\n",
            "50/50 [==============================] - 1s 11ms/step - loss: 0.1559 - val_loss: 0.1431\n",
            "Epoch 19/50\n",
            "50/50 [==============================] - 1s 11ms/step - loss: 0.1542 - val_loss: 0.1429\n",
            "Epoch 20/50\n",
            "50/50 [==============================] - 1s 11ms/step - loss: 0.1552 - val_loss: 0.1433\n",
            "Epoch 21/50\n",
            "50/50 [==============================] - 1s 11ms/step - loss: 0.1519 - val_loss: 0.1457\n",
            "Epoch 22/50\n",
            "50/50 [==============================] - 1s 10ms/step - loss: 0.1522 - val_loss: 0.1452\n",
            "Epoch 23/50\n",
            "50/50 [==============================] - 1s 11ms/step - loss: 0.1495 - val_loss: 0.1422\n",
            "Epoch 24/50\n",
            "50/50 [==============================] - 1s 11ms/step - loss: 0.1545 - val_loss: 0.1419\n",
            "Epoch 25/50\n",
            "50/50 [==============================] - 1s 11ms/step - loss: 0.1493 - val_loss: 0.1455\n",
            "Epoch 26/50\n",
            "50/50 [==============================] - 1s 11ms/step - loss: 0.1567 - val_loss: 0.1445\n",
            "Epoch 27/50\n",
            "50/50 [==============================] - 1s 11ms/step - loss: 0.1530 - val_loss: 0.1419\n",
            "Epoch 28/50\n",
            "50/50 [==============================] - 1s 11ms/step - loss: 0.1503 - val_loss: 0.1422\n",
            "Epoch 29/50\n",
            "50/50 [==============================] - 1s 11ms/step - loss: 0.1538 - val_loss: 0.1422\n",
            "Epoch 30/50\n",
            "50/50 [==============================] - 1s 11ms/step - loss: 0.1498 - val_loss: 0.1424\n",
            "Epoch 31/50\n",
            "50/50 [==============================] - 1s 10ms/step - loss: 0.1497 - val_loss: 0.1408\n",
            "Epoch 32/50\n",
            "50/50 [==============================] - 1s 11ms/step - loss: 0.1526 - val_loss: 0.1410\n",
            "Epoch 33/50\n",
            "50/50 [==============================] - 1s 11ms/step - loss: 0.1495 - val_loss: 0.1405\n",
            "Epoch 34/50\n",
            "50/50 [==============================] - 1s 11ms/step - loss: 0.1496 - val_loss: 0.1408\n",
            "Epoch 35/50\n",
            "50/50 [==============================] - 1s 11ms/step - loss: 0.1494 - val_loss: 0.1402\n",
            "Epoch 36/50\n",
            "50/50 [==============================] - 1s 11ms/step - loss: 0.1534 - val_loss: 0.1418\n",
            "Epoch 37/50\n",
            "50/50 [==============================] - 1s 10ms/step - loss: 0.1537 - val_loss: 0.1402\n",
            "Epoch 38/50\n",
            "50/50 [==============================] - 1s 11ms/step - loss: 0.1524 - val_loss: 0.1424\n",
            "Epoch 39/50\n",
            "50/50 [==============================] - 1s 11ms/step - loss: 0.1537 - val_loss: 0.1401\n",
            "Epoch 40/50\n",
            "50/50 [==============================] - 1s 10ms/step - loss: 0.1488 - val_loss: 0.1404\n",
            "Epoch 41/50\n",
            "50/50 [==============================] - 1s 10ms/step - loss: 0.1499 - val_loss: 0.1397\n",
            "Epoch 42/50\n",
            "50/50 [==============================] - 1s 11ms/step - loss: 0.1526 - val_loss: 0.1394\n",
            "Epoch 43/50\n",
            "50/50 [==============================] - 1s 11ms/step - loss: 0.1536 - val_loss: 0.1402\n",
            "Epoch 44/50\n",
            "50/50 [==============================] - 1s 10ms/step - loss: 0.1560 - val_loss: 0.1397\n",
            "Epoch 45/50\n",
            "50/50 [==============================] - 1s 11ms/step - loss: 0.1487 - val_loss: 0.1400\n",
            "Epoch 46/50\n",
            "50/50 [==============================] - 1s 11ms/step - loss: 0.1510 - val_loss: 0.1391\n",
            "Epoch 47/50\n",
            "50/50 [==============================] - 1s 11ms/step - loss: 0.1515 - val_loss: 0.1395\n",
            "Epoch 48/50\n",
            "50/50 [==============================] - 1s 11ms/step - loss: 0.1529 - val_loss: 0.1393\n",
            "Epoch 49/50\n",
            "50/50 [==============================] - 1s 11ms/step - loss: 0.1507 - val_loss: 0.1390\n",
            "Epoch 50/50\n",
            "50/50 [==============================] - 1s 11ms/step - loss: 0.1530 - val_loss: 0.1387\n"
          ],
          "name": "stdout"
        }
      ]
    },
    {
      "cell_type": "code",
      "metadata": {
        "colab": {
          "base_uri": "https://localhost:8080/"
        },
        "id": "TT6L8-Nl4mRw",
        "outputId": "9852f9d6-eb9c-4783-9d6d-dc439992d4fc"
      },
      "source": [
        "tc_data_reconstructed = autoencoder.predict(tc_data)\n",
        "oc_data_reconstructed = autoencoder.predict(oc_data)\n",
        "tr_data_reconstructed = autoencoder.predict(tr_data)\n",
        "# Reshaping\n",
        "tc_data_reconstructed.shape = tc_data_reconstructed.shape[0], tc_data_reconstructed.shape[1]\n",
        "oc_data_reconstructed.shape = oc_data_reconstructed.shape[0], oc_data_reconstructed.shape[1]\n",
        "tr_data_reconstructed.shape = tr_data_reconstructed.shape[0], tr_data_reconstructed.shape[1]\n",
        "\n",
        "\n",
        "print(\"Target Class test shape:\", tc_data_reconstructed.shape, tc_data.shape)\n",
        "print(\"Other Class(es) test shape:\", oc_data_reconstructed.shape, oc_data.shape)"
      ],
      "execution_count": 7,
      "outputs": [
        {
          "output_type": "stream",
          "text": [
            "Target Class test shape: (639, 500) (639, 500)\n",
            "Other Class(es) test shape: (681, 500) (681, 500)\n"
          ],
          "name": "stdout"
        }
      ]
    },
    {
      "cell_type": "code",
      "metadata": {
        "colab": {
          "base_uri": "https://localhost:8080/",
          "height": 311
        },
        "id": "cixmBdpuhj6j",
        "outputId": "1028e951-1663-42a5-8c45-f1ed0f806821"
      },
      "source": [
        "index = 22\n",
        "fig, (ax1, ax2) = plt.subplots(1, 2)\n",
        "fig.suptitle('CAE Reconstruction Example - Positive Class')\n",
        "ax1.plot(tc_data[index])\n",
        "ax2.plot(tc_data_reconstructed[index])\n",
        "print(\"MSE:\", mean_squared_error(tc_data[index], tc_data_reconstructed[index]))\n",
        "fig.savefig(f'drive/My Drive/UFSCar/FAPESP/IC_2.0/Results/ex_{index}_{dataset}_pc.png') # Positive Class"
      ],
      "execution_count": 8,
      "outputs": [
        {
          "output_type": "stream",
          "text": [
            "MSE: 0.08392482207131483\n"
          ],
          "name": "stdout"
        },
        {
          "output_type": "display_data",
          "data": {
            "image/png": "[encoded data removed]",
            "text/plain": [
              "<Figure size 432x288 with 2 Axes>"
            ]
          },
          "metadata": {
            "tags": [],
            "needs_background": "light"
          }
        }
      ]
    },
    {
      "cell_type": "code",
      "metadata": {
        "colab": {
          "base_uri": "https://localhost:8080/",
          "height": 311
        },
        "id": "TJ_C5oOOPMdD",
        "outputId": "861d0c52-e608-44e2-f30b-95d4e2e5aa79"
      },
      "source": [
        "index = 8\n",
        "fig, (ax1, ax2) = plt.subplots(1, 2)\n",
        "fig.suptitle('CAE Reconstruction Example - Negative Class')\n",
        "ax1.plot(oc_data[index])\n",
        "ax2.plot(oc_data_reconstructed[index])\n",
        "print(\"MSE:\", mean_squared_error(oc_data[index], oc_data_reconstructed[index]))\n",
        "fig.savefig(f'drive/My Drive/UFSCar/FAPESP/IC_2.0/Results/ex_{index}_{dataset}_nc.png') # Negative Class"
      ],
      "execution_count": 9,
      "outputs": [
        {
          "output_type": "stream",
          "text": [
            "MSE: 0.08987414333914523\n"
          ],
          "name": "stdout"
        },
        {
          "output_type": "display_data",
          "data": {
            "image/png": "[encoded data removed]",
            "text/plain": [
              "<Figure size 432x288 with 2 Axes>"
            ]
          },
          "metadata": {
            "tags": [],
            "needs_background": "light"
          }
        }
      ]
    },
    {
      "cell_type": "code",
      "metadata": {
        "id": "rfA9GB6mqJo6"
      },
      "source": [
        "def err_hist_occ(original_data, encoded_data):\n",
        "  mse = []\n",
        "  for i in range(original_data.shape[0]):\n",
        "    mse.append(mean_squared_error(original_data[i], encoded_data[i]))\n",
        "\n",
        "  mse = np.array(mse)\n",
        "  mean = np.mean(mse)\n",
        "  dp = np.std(mse)\n",
        "  print(\"Média:\", mean)\n",
        "  print(\"Desvio padrão:\", dp)\n",
        "\n",
        "  return mse"
      ],
      "execution_count": 10,
      "outputs": []
    },
    {
      "cell_type": "code",
      "metadata": {
        "colab": {
          "base_uri": "https://localhost:8080/",
          "height": 342
        },
        "id": "pzKW4aTDWUKM",
        "outputId": "c5803ef6-891d-42a3-a8a6-559034fa1da0"
      },
      "source": [
        "# Treino\n",
        "plt.hist(err_hist_occ(tr_data, tr_data_reconstructed), bins = 30)\n",
        "plt.ylabel('Count')\n",
        "plt.xlabel('Mean Squared Error');\n",
        "plt.suptitle('Error Histogram - Train')\n",
        "plt.savefig(f'drive/My Drive/UFSCar/FAPESP/IC_2.0/Results/hist_{dataset}_train.png') # Train"
      ],
      "execution_count": 11,
      "outputs": [
        {
          "output_type": "stream",
          "text": [
            "Média: 0.1486325527272758\n",
            "Desvio padrão: 0.0881391633040455\n"
          ],
          "name": "stdout"
        },
        {
          "output_type": "display_data",
          "data": {
            "image/png": "[encoded data removed]",
            "text/plain": [
              "<Figure size 432x288 with 1 Axes>"
            ]
          },
          "metadata": {
            "tags": [],
            "needs_background": "light"
          }
        }
      ]
    },
    {
      "cell_type": "code",
      "metadata": {
        "id": "tQQNCUAm7IZ1",
        "colab": {
          "base_uri": "https://localhost:8080/",
          "height": 359
        },
        "outputId": "01291e3c-ef91-4d73-977b-d6e89da152c3"
      },
      "source": [
        "# Teste só com dado da classe de interesse\n",
        "mse_pc = err_hist_occ(tc_data, tc_data_reconstructed) \n",
        "\n",
        "plt.hist(mse_pc, bins = 30)\n",
        "plt.ylabel('Count')\n",
        "plt.xlabel('Mean Squared Error');\n",
        "plt.suptitle('Error Histogram - Test (Positive Class)')\n",
        "plt.savefig(f'drive/My Drive/UFSCar/FAPESP/IC_2.0/Results/hist_{dataset}_pc.png') # Positive Class\n",
        "\n",
        "# testing an arbitrary threshold\n",
        "threshold = 0.25\n",
        "accuracy = len(mse_pc[mse_pc <= threshold])/len(mse_pc)\n",
        "print(\"Accuracy positive class:\" , accuracy)"
      ],
      "execution_count": 12,
      "outputs": [
        {
          "output_type": "stream",
          "text": [
            "Média: 0.15235841616250487\n",
            "Desvio padrão: 0.09166519089632304\n",
            "Accuracy positive class: 0.8466353677621283\n"
          ],
          "name": "stdout"
        },
        {
          "output_type": "display_data",
          "data": {
            "image/png": "[encoded data removed]",
            "text/plain": [
              "<Figure size 432x288 with 1 Axes>"
            ]
          },
          "metadata": {
            "tags": [],
            "needs_background": "light"
          }
        }
      ]
    },
    {
      "cell_type": "code",
      "metadata": {
        "id": "Tzq2Hswk7pS0",
        "colab": {
          "base_uri": "https://localhost:8080/",
          "height": 359
        },
        "outputId": "2907401c-1b00-4a55-9965-a1901586eda5"
      },
      "source": [
        "# Teste com dados da classe negativa\n",
        "mse_nc = err_hist_occ(oc_data, oc_data_reconstructed)\n",
        "\n",
        "plt.hist(mse_nc, bins = 30)\n",
        "plt.ylabel('Count')\n",
        "plt.xlabel('Mean Squared Error');\n",
        "plt.suptitle('Error Histogram - Test (Negative Class)')\n",
        "plt.savefig(f'drive/My Drive/UFSCar/FAPESP/IC_2.0/Results/hist_{dataset}_nc.png') # Negative Class\n",
        "\n",
        "# testing an arbitrary threshold\n",
        "threshold = 0.25\n",
        "accuracy = len(mse_nc[mse_nc > threshold])/len(mse_nc)\n",
        "print(\"Accuracy negative class:\" , accuracy)"
      ],
      "execution_count": 13,
      "outputs": [
        {
          "output_type": "stream",
          "text": [
            "Média: 0.21618364496201642\n",
            "Desvio padrão: 0.1853251990675194\n",
            "Accuracy negative class: 0.39500734214390604\n"
          ],
          "name": "stdout"
        },
        {
          "output_type": "display_data",
          "data": {
            "image/png": "[encoded data removed]",
            "text/plain": [
              "<Figure size 432x288 with 1 Axes>"
            ]
          },
          "metadata": {
            "tags": [],
            "needs_background": "light"
          }
        }
      ]
    },
    {
      "cell_type": "markdown",
      "metadata": {
        "id": "ae6zv_HCmsU8"
      },
      "source": [
        "# **Alguns Testes aqui**\n"
      ]
    },
    {
      "cell_type": "code",
      "metadata": {
        "id": "GokJVB1nqv0S"
      },
      "source": [
        "threshold = 0.25"
      ],
      "execution_count": 18,
      "outputs": []
    },
    {
      "cell_type": "code",
      "metadata": {
        "colab": {
          "base_uri": "https://localhost:8080/"
        },
        "id": "q_0nWE9gm_2k",
        "outputId": "6196edc7-bf5b-4461-d0d9-be7cc7d112f0"
      },
      "source": [
        "mse = err_hist_occ(oc_data, oc_data_reconstructed)\n",
        "false_positive = len(mse[mse<=threshold])\n",
        "true_negative = len(mse[mse>threshold])\n",
        "print(\"False Positive:\", false_positive)\n",
        "print(\"True Negative:\", true_negative)"
      ],
      "execution_count": 19,
      "outputs": [
        {
          "output_type": "stream",
          "text": [
            "Média: 0.21618364496201642\n",
            "Desvio padrão: 0.1853251990675194\n",
            "False Positive: 412\n",
            "True Negative: 269\n"
          ],
          "name": "stdout"
        }
      ]
    },
    {
      "cell_type": "code",
      "metadata": {
        "colab": {
          "base_uri": "https://localhost:8080/"
        },
        "id": "4EYIYh_Xqbb3",
        "outputId": "e7fe842a-c97e-4e9b-8610-952a0d9e47a1"
      },
      "source": [
        "mse = err_hist_occ(tc_data, tc_data_reconstructed)\n",
        "true_positive = len(mse[mse<=threshold])\n",
        "false_negative = len(mse[mse>threshold])\n",
        "print(\"True Positive:\", true_positive)\n",
        "print(\"False Negative:\", false_negative)"
      ],
      "execution_count": 20,
      "outputs": [
        {
          "output_type": "stream",
          "text": [
            "Média: 0.15235841616250487\n",
            "Desvio padrão: 0.09166519089632304\n",
            "True Positive: 541\n",
            "False Negative: 98\n"
          ],
          "name": "stdout"
        }
      ]
    },
    {
      "cell_type": "code",
      "metadata": {
        "colab": {
          "base_uri": "https://localhost:8080/"
        },
        "id": "eLc8A8YxwFNF",
        "outputId": "73fbe3bb-bea5-4a2a-f1f2-343af7ed6be8"
      },
      "source": [
        "total = false_positive + true_negative + true_positive + false_negative\n",
        "print(\"Total:\", total)\n",
        "accuracy = (true_positive + true_negative)/total\n",
        "precision = true_positive/(true_positive + false_positive)\n",
        "recall = true_positive/(true_positive + false_negative)\n",
        "\n",
        "print(\"Accuracy:\", accuracy)\n",
        "print(\"Precision:\", precision)\n",
        "print(\"Recall:\", recall)"
      ],
      "execution_count": 21,
      "outputs": [
        {
          "output_type": "stream",
          "text": [
            "Total: 1320\n",
            "Accuracy: 0.6136363636363636\n",
            "Precision: 0.5676810073452256\n",
            "Recall: 0.8466353677621283\n"
          ],
          "name": "stdout"
        }
      ]
    },
    {
      "cell_type": "markdown",
      "metadata": {
        "id": "CBV_46b6MPgj"
      },
      "source": [
        "#**Definição do Threshold e Classificação**\n",
        "\n",
        "\n",
        "\n",
        "\n",
        "\n",
        "\n"
      ]
    },
    {
      "cell_type": "code",
      "metadata": {
        "id": "bMy_o7ZVXsmj"
      },
      "source": [
        "#Placeholder - Algoritmo para def de Threshold e Classificação"
      ],
      "execution_count": null,
      "outputs": []
    }
  ]
}
