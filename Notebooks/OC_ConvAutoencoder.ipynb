{
  "nbformat": 4,
  "nbformat_minor": 0,
  "metadata": {
    "colab": {
      "name": "OC_ConvAutoencoder.ipynb",
      "provenance": [],
      "collapsed_sections": [],
      "mount_file_id": "1M0bKgQRKtmVNEsgNCQCimG6cl4_J_GV_",
      "authorship_tag": "ABX9TyP8XMNEP5MouFd98bWF3Zte",
      "include_colab_link": true
    },
    "kernelspec": {
      "name": "python3",
      "display_name": "Python 3"
    },
    "accelerator": "GPU"
  },
  "cells": [
    {
      "cell_type": "markdown",
      "metadata": {
        "id": "view-in-github",
        "colab_type": "text"
      },
      "source": [
        "<a href=\"https://colab.research.google.com/github/Tyred/TimeSeries_OCC-PUL/blob/main/Notebooks/OC_ConvAutoencoder.ipynb\" target=\"_parent\"><img src=\"https://colab.research.google.com/assets/colab-badge.svg\" alt=\"Open In Colab\"/></a>"
      ]
    },
    {
      "cell_type": "markdown",
      "metadata": {
        "id": "kff21qy6oEe7"
      },
      "source": [
        "<h1> One-Class Classification Using Convolutional Autoencoders </h1>\n",
        "\n",
        "The main idea is to train a CAE (Convolutional Autoencoder) with data from the positive class only and calculate a reconstruction error threshold T based on the reconstruction errors obtained during the training. <br/>\n",
        "Then we perform the One-Class Classification (OCC) as follows:\n",
        "\n",
        "- For each data sample in the test dataset, do:\n",
        "    - Reconstruct the data with the CAE and calculate its reconstruction error E.\n",
        "    - if E <= T the sample is classified as a member of the positive class.\n",
        "    - else (if E > T) the sample is classified as not a member of the positive class.  \n",
        "\n",
        "- Evaluate the Model's Accuracy, Precision and Recall."
      ]
    },
    {
      "cell_type": "markdown",
      "metadata": {
        "id": "OflopftEPi5L"
      },
      "source": [
        "## Imports"
      ]
    },
    {
      "cell_type": "code",
      "metadata": {
        "id": "C2XDcHByvEwN"
      },
      "source": [
        "import numpy as np\n",
        "import matplotlib.pyplot as plt\n",
        "import tensorflow as tf\n",
        "\n",
        "from tensorflow import keras\n",
        "from sklearn.metrics import mean_squared_error\n",
        "%matplotlib inline"
      ],
      "execution_count": null,
      "outputs": []
    },
    {
      "cell_type": "markdown",
      "metadata": {
        "id": "ePSM72bBkX6x"
      },
      "source": [
        "# Convolutional Autoencoders"
      ]
    },
    {
      "cell_type": "markdown",
      "metadata": {
        "id": "3kwmDiXclBaQ"
      },
      "source": [
        "## Using MaxPooling\n",
        "- Subclassing"
      ]
    },
    {
      "cell_type": "code",
      "metadata": {
        "id": "7j4Lk7QQxa6P"
      },
      "source": [
        "# Convolutional Autoencoder with MaxPooling:\n",
        "class ConvAutoencoder(tf.keras.Model):\n",
        "    def __init__(self, serie_length):\n",
        "        super(ConvAutoencoder, self).__init__()\n",
        "        self.conv_1 = keras.layers.Conv1D(128, 3, activation='swish', padding='same', input_shape=(serie_length))\n",
        "        self.max_1 = keras.layers.MaxPooling1D(2, padding='same')\n",
        "        self.conv_2 = keras.layers.Conv1D(64, 3, activation='swish', padding='same')\n",
        "        self.max_2 = keras.layers.MaxPooling1D(2, padding='same')\n",
        "        self.conv_3 = keras.layers.Conv1D(1, 3, activation='swish', padding='same')\n",
        "    \n",
        "        # encoded representation\n",
        "        self.encoded = keras.layers.MaxPooling1D(2, padding='same')\n",
        "        \n",
        "        # decoder layers\n",
        "        self.conv_4 = keras.layers.Conv1D(1, 3, activation='swish', padding='same')\n",
        "        self.up_1 = keras.layers.UpSampling1D(2)\n",
        "        self.conv_5 = keras.layers.Conv1D(64, 3, activation='swish', padding='same')\n",
        "        self.up_2 = keras.layers.UpSampling1D(2)\n",
        "        self.conv_6 = keras.layers.Conv1D(128, 3, activation='swish', padding='same')\n",
        "        self.up_3 = keras.layers.UpSampling1D(2)\n",
        "        self.decoded = keras.layers.Conv1D(1, 3, activation='linear', padding='same')\n",
        "        \n",
        "    def call(self, inputs):\n",
        "        print(inputs.shape)\n",
        "        x = self.conv_1(inputs)\n",
        "        x = self.max_1(x)\n",
        "        x = self.conv_2(x)\n",
        "        x = self.max_2(x)\n",
        "        x = self.conv_3(x)\n",
        "        x = self.encoded(x)\n",
        "        x = self.conv_4(x)\n",
        "        x = self.up_1(x)\n",
        "        x = self.conv_5(x)\n",
        "        x = self.up_2(x)\n",
        "        x = self.conv_6(x)\n",
        "        x = self.up_3(x)\n",
        "        return self.decoded(x)\n",
        "        #x = self.conv_7(x)\n",
        "        #self.cropping = x.shape[1] - inputs.shape[1] \n",
        "        #return keras.layers.Cropping1D(cropping=(0,self.cropping))(x)\n",
        "    \n",
        "    def model(self):\n",
        "        x = keras.layers.Input(shape=(serie_length, 1))\n",
        "        return tf.keras.Model(inputs=[x], outputs=self.call(x))"
      ],
      "execution_count": null,
      "outputs": []
    },
    {
      "cell_type": "markdown",
      "metadata": {
        "id": "Oywa2HyHk6iC"
      },
      "source": [
        "## Using Strides = 2"
      ]
    },
    {
      "cell_type": "code",
      "metadata": {
        "id": "1GojoJycTouw"
      },
      "source": [
        "# Convolutional Autoencoder with Strides:\n",
        "class ConvAutoencoderStrides():\n",
        "  def __init__(self, serie_length):\n",
        "    # encoder layers\n",
        "    input_data = Input(shape=(serie_length, 1))\n",
        "    x = Conv1D(128, (3), strides=2, activation='swish', padding='same')(input_data)\n",
        "    x = Conv1D(64, (3), strides=2, activation='swish', padding='same')(x)\n",
        "    x = Conv1D(32, (3), strides=2, activation='swish', padding='same')(x)\n",
        "    \n",
        "    # encoded representation\n",
        "    encoded = Conv1D(1, (3), activation='swish', padding='same')(x)\n",
        "    \n",
        "    # decoder layers\n",
        "    x = Conv1D(1, (3), activation='swish', padding='same')(x)\n",
        "    x = UpSampling1D((2))(encoded)\n",
        "    x = Conv1D(64, (3), activation='swish', padding='same')(x)\n",
        "    x = UpSampling1D((2))(x)\n",
        "    x = Conv1D(128, (3), activation='swish', padding='same')(x)\n",
        "    x = UpSampling1D((2))(x)\n",
        "    x = Conv1D(1, (3), activation='tanh', padding='same')(x)\n",
        "    \n",
        "    # cropping data so that decoded representation has the same shape as the input\n",
        "    cropping = x.shape[1] - input_data.shape[1] \n",
        "    # decoded representation\n",
        "    decoded = Cropping1D(cropping=(0,cropping))(x)\n",
        "    \n",
        "    # models\n",
        "    self.encoder = Model(input_data, encoded)\n",
        "    self.autoencoder = Model(input_data, decoded)\n",
        "    self.autoencoder.compile(optimizer='adam', loss='mse')\n",
        "    # summary\n",
        "    self.autoencoder.summary()\n",
        "    \n",
        "  def train(self, data, epochs, batch_size):\n",
        "    #self.callback = keras.callbacks.EarlyStopping(monitor='loss', patience=2)\n",
        "    history = self.autoencoder.fit(data, data, epochs= epochs, batch_size= batch_size, validation_split=0.1) #, callbacks = [callback])\n",
        "    \n",
        "    return self.autoencoder"
      ],
      "execution_count": null,
      "outputs": []
    },
    {
      "cell_type": "markdown",
      "metadata": {
        "id": "Ad-D4CADlFDa"
      },
      "source": [
        "# Reading Dataset from Google Drive"
      ]
    },
    {
      "cell_type": "code",
      "metadata": {
        "id": "nTl7TYPJv8LK",
        "colab": {
          "base_uri": "https://localhost:8080/"
        },
        "outputId": "6b29fb09-5b7f-46e1-cef1-aa1bdc518d06"
      },
      "source": [
        "path = 'drive/My Drive/UFSCar/FAPESP/IC/Data/UCRArchive_2018'\n",
        "\n",
        "dataset = input('Dataset: ')\n",
        "tr_data = np.genfromtxt(path + \"/\" + dataset + \"/\" + dataset + \"_TRAIN.tsv\", delimiter=\"\\t\",)\n",
        "te_data = np.genfromtxt(path + \"/\" + dataset + \"/\" + dataset + \"_TEST.tsv\", delimiter=\"\\t\",)\n",
        "\n",
        "print(\"Labels:\", np.unique(tr_data[:, 0]))\n",
        "\n",
        "class_label = 1\n",
        "tr_data = tr_data[tr_data[:,0] == class_label, 1:] # train\n",
        "tc_data = te_data[te_data[:,0] == class_label, 1:] # target class - test\n",
        "oc_data = te_data[te_data[:,0] != class_label, 1:] # other classes - test\n",
        "\n",
        "print(\"Train data shape: \", tr_data.shape)\n",
        "print(\"Test data shape (target class): \", tc_data.shape)\n",
        "print(\"Test data shape (other class(es)): \", oc_data.shape)"
      ],
      "execution_count": null,
      "outputs": [
        {
          "output_type": "stream",
          "text": [
            "Dataset: StarLightCurves\n",
            "Labels: [1. 2. 3.]\n",
            "Train data shape:  (152, 1024)\n",
            "Test data shape (target class):  (1177, 1024)\n",
            "Test data shape (other class(es)):  (7059, 1024)\n"
          ],
          "name": "stdout"
        }
      ]
    },
    {
      "cell_type": "markdown",
      "metadata": {
        "id": "Hnog38XJlV0d"
      },
      "source": [
        "# Initializing and training the Conv Autoencoder"
      ]
    },
    {
      "cell_type": "code",
      "metadata": {
        "colab": {
          "base_uri": "https://localhost:8080/"
        },
        "id": "tpRSOYQQxjd6",
        "outputId": "4e4633f8-0560-4843-fd3f-3b419f010752"
      },
      "source": [
        "# Initialize the Autoencoder\n",
        "serie_length = tr_data.shape[1]\n",
        "#input_data = keras.layers.Input(shape=(serie_length, 1))\n",
        "\n",
        "model = ConvAutoencoder((serie_length, 1))"
      ],
      "execution_count": null,
      "outputs": [
        {
          "output_type": "stream",
          "text": [
            "(1024, 1)\n"
          ],
          "name": "stdout"
        }
      ]
    },
    {
      "cell_type": "code",
      "metadata": {
        "id": "NqYYFeLGUeoy"
      },
      "source": [
        "model.compile(optimizer='adam', loss='mse')"
      ],
      "execution_count": null,
      "outputs": []
    },
    {
      "cell_type": "code",
      "metadata": {
        "id": "fd5JeSkCfQ-M"
      },
      "source": [
        "tr_data.shape = tr_data.shape[0], tr_data.shape[1], 1\n",
        "tc_data.shape = tc_data.shape[0], tc_data.shape[1], 1\n",
        "oc_data.shape = oc_data.shape[0], oc_data.shape[1], 1"
      ],
      "execution_count": null,
      "outputs": []
    },
    {
      "cell_type": "code",
      "metadata": {
        "colab": {
          "base_uri": "https://localhost:8080/"
        },
        "id": "yBIQVn2ayo1W",
        "outputId": "b573609d-ceb7-40db-ac3c-b0abf512975c"
      },
      "source": [
        "# Train\n",
        "batch_size = 32\n",
        "epochs = 50\n",
        "\n",
        "\n",
        "model.fit(tr_data, tr_data, epochs=epochs, batch_size=batch_size)\n",
        "autoencoder = model"
      ],
      "execution_count": null,
      "outputs": [
        {
          "output_type": "stream",
          "text": [
            "Epoch 1/50\n",
            "(None, 1024, 1)\n",
            "(None, 1024, 1)\n",
            "5/5 [==============================] - 4s 23ms/step - loss: 0.9977\n",
            "Epoch 2/50\n",
            "5/5 [==============================] - 0s 20ms/step - loss: 0.9781\n",
            "Epoch 3/50\n",
            "5/5 [==============================] - 0s 20ms/step - loss: 0.9103\n",
            "Epoch 4/50\n",
            "5/5 [==============================] - 0s 19ms/step - loss: 0.7821\n",
            "Epoch 5/50\n",
            "5/5 [==============================] - 0s 19ms/step - loss: 0.6271\n",
            "Epoch 6/50\n",
            "5/5 [==============================] - 0s 18ms/step - loss: 0.4782\n",
            "Epoch 7/50\n",
            "5/5 [==============================] - 0s 19ms/step - loss: 0.4090\n",
            "Epoch 8/50\n",
            "5/5 [==============================] - 0s 20ms/step - loss: 0.3548\n",
            "Epoch 9/50\n",
            "5/5 [==============================] - 0s 20ms/step - loss: 0.3476\n",
            "Epoch 10/50\n",
            "5/5 [==============================] - 0s 19ms/step - loss: 0.3407\n",
            "Epoch 11/50\n",
            "5/5 [==============================] - 0s 20ms/step - loss: 0.3298\n",
            "Epoch 12/50\n",
            "5/5 [==============================] - 0s 19ms/step - loss: 0.3215\n",
            "Epoch 13/50\n",
            "5/5 [==============================] - 0s 19ms/step - loss: 0.3184\n",
            "Epoch 14/50\n",
            "5/5 [==============================] - 0s 19ms/step - loss: 0.3154\n",
            "Epoch 15/50\n",
            "5/5 [==============================] - 0s 19ms/step - loss: 0.3140\n",
            "Epoch 16/50\n",
            "5/5 [==============================] - 0s 20ms/step - loss: 0.3133\n",
            "Epoch 17/50\n",
            "5/5 [==============================] - 0s 20ms/step - loss: 0.3131\n",
            "Epoch 18/50\n",
            "5/5 [==============================] - 0s 20ms/step - loss: 0.3129\n",
            "Epoch 19/50\n",
            "5/5 [==============================] - 0s 19ms/step - loss: 0.3124\n",
            "Epoch 20/50\n",
            "5/5 [==============================] - 0s 21ms/step - loss: 0.3121\n",
            "Epoch 21/50\n",
            "5/5 [==============================] - 0s 19ms/step - loss: 0.3118\n",
            "Epoch 22/50\n",
            "5/5 [==============================] - 0s 19ms/step - loss: 0.3116\n",
            "Epoch 23/50\n",
            "5/5 [==============================] - 0s 19ms/step - loss: 0.3114\n",
            "Epoch 24/50\n",
            "5/5 [==============================] - 0s 19ms/step - loss: 0.3113\n",
            "Epoch 25/50\n",
            "5/5 [==============================] - 0s 18ms/step - loss: 0.3111\n",
            "Epoch 26/50\n",
            "5/5 [==============================] - 0s 19ms/step - loss: 0.3109\n",
            "Epoch 27/50\n",
            "5/5 [==============================] - 0s 20ms/step - loss: 0.3108\n",
            "Epoch 28/50\n",
            "5/5 [==============================] - 0s 20ms/step - loss: 0.3106\n",
            "Epoch 29/50\n",
            "5/5 [==============================] - 0s 20ms/step - loss: 0.3105\n",
            "Epoch 30/50\n",
            "5/5 [==============================] - 0s 19ms/step - loss: 0.3104\n",
            "Epoch 31/50\n",
            "5/5 [==============================] - 0s 19ms/step - loss: 0.3102\n",
            "Epoch 32/50\n",
            "5/5 [==============================] - 0s 19ms/step - loss: 0.3101\n",
            "Epoch 33/50\n",
            "5/5 [==============================] - 0s 18ms/step - loss: 0.3100\n",
            "Epoch 34/50\n",
            "5/5 [==============================] - 0s 20ms/step - loss: 0.3099\n",
            "Epoch 35/50\n",
            "5/5 [==============================] - 0s 21ms/step - loss: 0.3098\n",
            "Epoch 36/50\n",
            "5/5 [==============================] - 0s 19ms/step - loss: 0.3097\n",
            "Epoch 37/50\n",
            "5/5 [==============================] - 0s 19ms/step - loss: 0.3097\n",
            "Epoch 38/50\n",
            "5/5 [==============================] - 0s 20ms/step - loss: 0.3096\n",
            "Epoch 39/50\n",
            "5/5 [==============================] - 0s 19ms/step - loss: 0.3095\n",
            "Epoch 40/50\n",
            "5/5 [==============================] - 0s 19ms/step - loss: 0.3094\n",
            "Epoch 41/50\n",
            "5/5 [==============================] - 0s 20ms/step - loss: 0.3094\n",
            "Epoch 42/50\n",
            "5/5 [==============================] - 0s 20ms/step - loss: 0.3094\n",
            "Epoch 43/50\n",
            "5/5 [==============================] - 0s 19ms/step - loss: 0.3094\n",
            "Epoch 44/50\n",
            "5/5 [==============================] - 0s 18ms/step - loss: 0.3093\n",
            "Epoch 45/50\n",
            "5/5 [==============================] - 0s 18ms/step - loss: 0.3093\n",
            "Epoch 46/50\n",
            "5/5 [==============================] - 0s 19ms/step - loss: 0.3092\n",
            "Epoch 47/50\n",
            "5/5 [==============================] - 0s 19ms/step - loss: 0.3092\n",
            "Epoch 48/50\n",
            "5/5 [==============================] - 0s 20ms/step - loss: 0.3091\n",
            "Epoch 49/50\n",
            "5/5 [==============================] - 0s 19ms/step - loss: 0.3091\n",
            "Epoch 50/50\n",
            "5/5 [==============================] - 0s 18ms/step - loss: 0.3091\n"
          ],
          "name": "stdout"
        }
      ]
    },
    {
      "cell_type": "code",
      "metadata": {
        "id": "fx1kF9XTbE_M"
      },
      "source": [
        "model.model().summary()"
      ],
      "execution_count": null,
      "outputs": []
    },
    {
      "cell_type": "markdown",
      "metadata": {
        "id": "yN4ydHR6lnUj"
      },
      "source": [
        "# Predicting and Reshaping Data"
      ]
    },
    {
      "cell_type": "code",
      "metadata": {
        "colab": {
          "base_uri": "https://localhost:8080/"
        },
        "id": "TT6L8-Nl4mRw",
        "outputId": "0dadfed8-72c4-4d0e-f2ec-bbe5fff4ed5d"
      },
      "source": [
        "# Predicting\n",
        "tc_data_reconstructed = autoencoder.predict(tc_data)\n",
        "oc_data_reconstructed = autoencoder.predict(oc_data)\n",
        "tr_data_reconstructed = autoencoder.predict(tr_data)\n",
        "# Reshaping\n",
        "tc_data_reconstructed.shape = tc_data_reconstructed.shape[0], tc_data_reconstructed.shape[1]\n",
        "oc_data_reconstructed.shape = oc_data_reconstructed.shape[0], oc_data_reconstructed.shape[1]\n",
        "tr_data_reconstructed.shape = tr_data_reconstructed.shape[0], tr_data_reconstructed.shape[1]\n",
        "\n",
        "\n",
        "print(\"Target Class test shape:\", tc_data_reconstructed.shape, tc_data.shape)\n",
        "print(\"Other Class(es) test shape:\", oc_data_reconstructed.shape, oc_data.shape)"
      ],
      "execution_count": null,
      "outputs": [
        {
          "output_type": "stream",
          "text": [
            "Tensor(\"IteratorGetNext:0\", shape=(None, 1024, 1), dtype=float32)\n",
            "Target Class test shape: (1177, 1024) (1177, 1024, 1)\n",
            "Other Class(es) test shape: (7059, 1024) (7059, 1024, 1)\n"
          ],
          "name": "stdout"
        }
      ]
    },
    {
      "cell_type": "markdown",
      "metadata": {
        "id": "73tY1wJVlwYx"
      },
      "source": [
        "# Reconstruction Examples"
      ]
    },
    {
      "cell_type": "markdown",
      "metadata": {
        "id": "pUGNlJTfmv3P"
      },
      "source": [
        "## Positive Class"
      ]
    },
    {
      "cell_type": "code",
      "metadata": {
        "colab": {
          "base_uri": "https://localhost:8080/",
          "height": 311
        },
        "id": "cixmBdpuhj6j",
        "outputId": "d87868bf-0ef2-4af1-a2e3-8bb589ec0cbb"
      },
      "source": [
        "index = 22\n",
        "fig, (ax1, ax2) = plt.subplots(1, 2)\n",
        "fig.suptitle('CAE Reconstruction Example - Positive Class')\n",
        "ax1.plot(tc_data[index])\n",
        "ax2.plot(tc_data_reconstructed[index])\n",
        "print(\"MSE:\", mean_squared_error(tc_data[index], tc_data_reconstructed[index]))\n",
        "#fig.savefig(f'drive/My Drive/UFSCar/FAPESP/IC_2.0/Results/ex_{index}_{dataset}_pc.png') # Positive Class"
      ],
      "execution_count": null,
      "outputs": [
        {
          "output_type": "stream",
          "text": [
            "MSE: 0.2874314311506479\n"
          ],
          "name": "stdout"
        },
        {
          "output_type": "display_data",
          "data": {
            "image/png": "[encoded data removed]",
            "text/plain": [
              "<Figure size 432x288 with 2 Axes>"
            ]
          },
          "metadata": {
            "tags": [],
            "needs_background": "light"
          }
        }
      ]
    },
    {
      "cell_type": "markdown",
      "metadata": {
        "id": "YyILhEWbmyDV"
      },
      "source": [
        "## Negative Class"
      ]
    },
    {
      "cell_type": "code",
      "metadata": {
        "colab": {
          "base_uri": "https://localhost:8080/",
          "height": 311
        },
        "id": "TJ_C5oOOPMdD",
        "outputId": "fdb27896-eddb-4a8a-e4a4-efd8ccef04f5"
      },
      "source": [
        "index = 0\n",
        "fig, (ax1, ax2) = plt.subplots(1, 2)\n",
        "fig.suptitle('CAE Reconstruction Example - Negative Class')\n",
        "ax1.plot(oc_data[index])\n",
        "ax2.plot(oc_data_reconstructed[index])\n",
        "print(\"MSE:\", mean_squared_error(oc_data[index], oc_data_reconstructed[index]))\n",
        "fig.savefig(f'drive/My Drive/UFSCar/FAPESP/IC_2.0/Results/ex_{index}_{dataset}_nc.png') # Negative Class"
      ],
      "execution_count": null,
      "outputs": [
        {
          "output_type": "stream",
          "text": [
            "MSE: 0.2258553116745296\n"
          ],
          "name": "stdout"
        },
        {
          "output_type": "display_data",
          "data": {
            "image/png": "[encoded data removed]",
            "text/plain": [
              "<Figure size 432x288 with 2 Axes>"
            ]
          },
          "metadata": {
            "tags": [],
            "needs_background": "light"
          }
        }
      ]
    },
    {
      "cell_type": "markdown",
      "metadata": {
        "id": "NkfNpaOWl1aS"
      },
      "source": [
        "# Reconstruction Error Histogram"
      ]
    },
    {
      "cell_type": "code",
      "metadata": {
        "id": "rfA9GB6mqJo6"
      },
      "source": [
        "def err_hist_occ(original_data, encoded_data):\n",
        "  mse = []\n",
        "  for i in range(original_data.shape[0]):\n",
        "    mse.append(mean_squared_error(original_data[i], encoded_data[i]))\n",
        "\n",
        "  mse = np.array(mse)\n",
        "  mean = np.mean(mse)\n",
        "  dp = np.std(mse)\n",
        "  print(\"Média:\", mean)\n",
        "  print(\"Desvio padrão:\", dp)\n",
        "\n",
        "  return mse"
      ],
      "execution_count": null,
      "outputs": []
    },
    {
      "cell_type": "markdown",
      "metadata": {
        "id": "H7ZjR1u9l_e2"
      },
      "source": [
        "## Train Data"
      ]
    },
    {
      "cell_type": "code",
      "metadata": {
        "colab": {
          "base_uri": "https://localhost:8080/",
          "height": 342
        },
        "id": "pzKW4aTDWUKM",
        "outputId": "77e07c6d-642e-47f0-92bb-78dcc1478f9d"
      },
      "source": [
        "# Treino\n",
        "plt.hist(err_hist_occ(tr_data, tr_data_reconstructed), bins = 30)\n",
        "plt.ylabel('Count')\n",
        "plt.xlabel('Mean Squared Error');\n",
        "plt.suptitle('Error Histogram - Train')\n",
        "plt.savefig(f'drive/My Drive/UFSCar/FAPESP/IC_2.0/Results/hist_{dataset}_train.png') # Train"
      ],
      "execution_count": null,
      "outputs": [
        {
          "output_type": "stream",
          "text": [
            "Média: 0.30874310553167916\n",
            "Desvio padrão: 0.03537147814976966\n"
          ],
          "name": "stdout"
        },
        {
          "output_type": "display_data",
          "data": {
            "image/png": "[encoded data removed]",
            "text/plain": [
              "<Figure size 432x288 with 1 Axes>"
            ]
          },
          "metadata": {
            "tags": [],
            "needs_background": "light"
          }
        }
      ]
    },
    {
      "cell_type": "markdown",
      "metadata": {
        "id": "tvDE3T2-m48u"
      },
      "source": [
        "## Test Data - Positive Class"
      ]
    },
    {
      "cell_type": "code",
      "metadata": {
        "id": "tQQNCUAm7IZ1",
        "colab": {
          "base_uri": "https://localhost:8080/",
          "height": 359
        },
        "outputId": "e81416ca-fdb9-4caf-aebd-b08ba0efc2e9"
      },
      "source": [
        "# Teste só com dado da classe de interesse\n",
        "mse_pc = err_hist_occ(tc_data, tc_data_reconstructed) \n",
        "\n",
        "plt.hist(mse_pc, bins = 30)\n",
        "plt.ylabel('Count')\n",
        "plt.xlabel('Mean Squared Error');\n",
        "plt.suptitle('Error Histogram - Test (Positive Class)')\n",
        "plt.savefig(f'drive/My Drive/UFSCar/FAPESP/IC_2.0/Results/hist_{dataset}_pc.png') # Positive Class\n",
        "\n",
        "# testing an arbitrary threshold\n",
        "threshold = 0.25\n",
        "accuracy = len(mse_pc[mse_pc <= threshold])/len(mse_pc)\n",
        "print(\"Accuracy positive class:\" , accuracy)"
      ],
      "execution_count": null,
      "outputs": [
        {
          "output_type": "stream",
          "text": [
            "Média: 0.30696137573506105\n",
            "Desvio padrão: 0.033782306540251494\n",
            "Accuracy positive class: 0.055225148683092605\n"
          ],
          "name": "stdout"
        },
        {
          "output_type": "display_data",
          "data": {
            "image/png": "[encoded data removed]",
            "text/plain": [
              "<Figure size 432x288 with 1 Axes>"
            ]
          },
          "metadata": {
            "tags": [],
            "needs_background": "light"
          }
        }
      ]
    },
    {
      "cell_type": "markdown",
      "metadata": {
        "id": "G1NpnYNAm_ZS"
      },
      "source": [
        "## Test Data - Negative Class"
      ]
    },
    {
      "cell_type": "code",
      "metadata": {
        "id": "Tzq2Hswk7pS0",
        "colab": {
          "base_uri": "https://localhost:8080/",
          "height": 359
        },
        "outputId": "4928c8d5-4fd6-4482-a226-272bccf44faa"
      },
      "source": [
        "# Teste com dados da classe negativa\n",
        "mse_nc = err_hist_occ(oc_data, oc_data_reconstructed)\n",
        "\n",
        "plt.hist(mse_nc, bins = 30)\n",
        "plt.ylabel('Count')\n",
        "plt.xlabel('Mean Squared Error');\n",
        "plt.suptitle('Error Histogram - Test (Negative Class)')\n",
        "plt.savefig(f'drive/My Drive/UFSCar/FAPESP/IC_2.0/Results/hist_{dataset}_nc.png') # Negative Class\n",
        "\n",
        "# testing an arbitrary threshold\n",
        "threshold = 0.25\n",
        "accuracy = len(mse_nc[mse_nc > threshold])/len(mse_nc)\n",
        "print(\"Accuracy negative class:\" , accuracy)"
      ],
      "execution_count": null,
      "outputs": [
        {
          "output_type": "stream",
          "text": [
            "Média: 0.3326672287029857\n",
            "Desvio padrão: 0.08031155980850538\n",
            "Accuracy negative class: 0.8717948717948718\n"
          ],
          "name": "stdout"
        },
        {
          "output_type": "display_data",
          "data": {
            "image/png": "[encoded data removed]",
            "text/plain": [
              "<Figure size 432x288 with 1 Axes>"
            ]
          },
          "metadata": {
            "tags": [],
            "needs_background": "light"
          }
        }
      ]
    },
    {
      "cell_type": "markdown",
      "metadata": {
        "id": "ae6zv_HCmsU8"
      },
      "source": [
        "# Some tests\n"
      ]
    },
    {
      "cell_type": "code",
      "metadata": {
        "id": "GokJVB1nqv0S"
      },
      "source": [
        "threshold = 0.25"
      ],
      "execution_count": null,
      "outputs": []
    },
    {
      "cell_type": "code",
      "metadata": {
        "colab": {
          "base_uri": "https://localhost:8080/"
        },
        "id": "q_0nWE9gm_2k",
        "outputId": "939ee78a-7160-4a03-9822-2cf6f09206e7"
      },
      "source": [
        "mse = err_hist_occ(oc_data, oc_data_reconstructed)\n",
        "false_positive = len(mse[mse<=threshold])\n",
        "true_negative = len(mse[mse>threshold])\n",
        "print(\"False Positive:\", false_positive)\n",
        "print(\"True Negative:\", true_negative)"
      ],
      "execution_count": null,
      "outputs": [
        {
          "output_type": "stream",
          "text": [
            "Média: 0.3326672287029857\n",
            "Desvio padrão: 0.08031155980850538\n",
            "False Positive: 905\n",
            "True Negative: 6154\n"
          ],
          "name": "stdout"
        }
      ]
    },
    {
      "cell_type": "code",
      "metadata": {
        "colab": {
          "base_uri": "https://localhost:8080/"
        },
        "id": "4EYIYh_Xqbb3",
        "outputId": "3a847790-69f2-437e-90af-77a0dd15e09a"
      },
      "source": [
        "mse = err_hist_occ(tc_data, tc_data_reconstructed)\n",
        "true_positive = len(mse[mse<=threshold])\n",
        "false_negative = len(mse[mse>threshold])\n",
        "print(\"True Positive:\", true_positive)\n",
        "print(\"False Negative:\", false_negative)"
      ],
      "execution_count": null,
      "outputs": [
        {
          "output_type": "stream",
          "text": [
            "Média: 0.30696137573506105\n",
            "Desvio padrão: 0.033782306540251494\n",
            "True Positive: 65\n",
            "False Negative: 1112\n"
          ],
          "name": "stdout"
        }
      ]
    },
    {
      "cell_type": "code",
      "metadata": {
        "colab": {
          "base_uri": "https://localhost:8080/"
        },
        "id": "eLc8A8YxwFNF",
        "outputId": "87ff6cd4-296b-4e33-a9a5-d437e89f5940"
      },
      "source": [
        "total = false_positive + true_negative + true_positive + false_negative\n",
        "print(\"Total:\", total)\n",
        "accuracy = (true_positive + true_negative)/total\n",
        "precision = true_positive/(true_positive + false_positive)\n",
        "recall = true_positive/(true_positive + false_negative)\n",
        "\n",
        "print(\"Accuracy:\", accuracy)\n",
        "print(\"Precision:\", precision)\n",
        "print(\"Recall:\", recall)"
      ],
      "execution_count": null,
      "outputs": [
        {
          "output_type": "stream",
          "text": [
            "Total: 8236\n",
            "Accuracy: 0.755099562894609\n",
            "Precision: 0.06701030927835051\n",
            "Recall: 0.055225148683092605\n"
          ],
          "name": "stdout"
        }
      ]
    },
    {
      "cell_type": "markdown",
      "metadata": {
        "id": "CBV_46b6MPgj"
      },
      "source": [
        "# Threshold Definition and OCC Task\n",
        "\n",
        "\n",
        "\n",
        "\n",
        "\n",
        "\n"
      ]
    },
    {
      "cell_type": "code",
      "metadata": {
        "id": "bMy_o7ZVXsmj"
      },
      "source": [
        "#Placeholder - Algoritmo para def de Threshold e Classificação"
      ],
      "execution_count": null,
      "outputs": []
    }
  ]
}