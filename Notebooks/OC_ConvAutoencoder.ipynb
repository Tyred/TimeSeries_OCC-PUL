{
  "nbformat": 4,
  "nbformat_minor": 0,
  "metadata": {
    "colab": {
      "name": "OC_ConvAutoencoder.ipynb",
      "provenance": [],
      "collapsed_sections": [
        "Oywa2HyHk6iC"
      ],
      "mount_file_id": "1M0bKgQRKtmVNEsgNCQCimG6cl4_J_GV_",
      "authorship_tag": "ABX9TyOasOfHYQEyA4of93sYqGCk",
      "include_colab_link": true
    },
    "kernelspec": {
      "name": "python3",
      "display_name": "Python 3"
    },
    "accelerator": "GPU"
  },
  "cells": [
    {
      "cell_type": "markdown",
      "metadata": {
        "id": "view-in-github",
        "colab_type": "text"
      },
      "source": [
        "<a href=\"https://colab.research.google.com/github/Tyred/TimeSeries_OCC-PUL/blob/main/Notebooks/OC_ConvAutoencoder.ipynb\" target=\"_parent\"><img src=\"https://colab.research.google.com/assets/colab-badge.svg\" alt=\"Open In Colab\"/></a>"
      ]
    },
    {
      "cell_type": "markdown",
      "metadata": {
        "id": "kff21qy6oEe7"
      },
      "source": [
        "<h1> One-Class Classification Using Convolutional Autoencoders </h1>\n",
        "\n",
        "The main idea is to train a CAE (Convolutional Autoencoder) with data from the positive class only and calculate a reconstruction error threshold T based on the reconstruction errors obtained during the training. <br/>\n",
        "Then we perform the One-Class Classification (OCC) as follows:\n",
        "\n",
        "- For each data sample in the test dataset, do:\n",
        "    - Reconstruct the data with the CAE and calculate its reconstruction error E.\n",
        "    - if E <= T the sample is classified as a member of the positive class.\n",
        "    - else (if E > T) the sample is classified as not a member of the positive class.  \n",
        "\n",
        "- Evaluate the Model's Accuracy, Precision and Recall."
      ]
    },
    {
      "cell_type": "markdown",
      "metadata": {
        "id": "OflopftEPi5L"
      },
      "source": [
        "## Imports"
      ]
    },
    {
      "cell_type": "code",
      "metadata": {
        "id": "C2XDcHByvEwN"
      },
      "source": [
        "import numpy as np\n",
        "import matplotlib.pyplot as plt\n",
        "import tensorflow as tf\n",
        "\n",
        "from tensorflow import keras\n",
        "from sklearn.metrics import mean_squared_error\n",
        "%matplotlib inline"
      ],
      "execution_count": 1,
      "outputs": []
    },
    {
      "cell_type": "markdown",
      "metadata": {
        "id": "ePSM72bBkX6x"
      },
      "source": [
        "# Convolutional Autoencoders"
      ]
    },
    {
      "cell_type": "markdown",
      "metadata": {
        "id": "3kwmDiXclBaQ"
      },
      "source": [
        "## Using MaxPooling\n",
        "- Subclassing"
      ]
    },
    {
      "cell_type": "code",
      "metadata": {
        "id": "7j4Lk7QQxa6P"
      },
      "source": [
        "# Convolutional Autoencoder with MaxPooling:\n",
        "class ConvAutoencoder(tf.keras.Model):\n",
        "    def __init__(self, serie_length):\n",
        "        super(ConvAutoencoder, self).__init__()\n",
        "        self.conv_1 = keras.layers.Conv1D(128, 3, activation='swish', padding='same', input_shape=(serie_length))\n",
        "        self.max_1 = keras.layers.MaxPooling1D(2, padding='same')\n",
        "        self.conv_2 = keras.layers.Conv1D(64, 3, activation='swish', padding='same')\n",
        "        self.max_2 = keras.layers.MaxPooling1D(2, padding='same')\n",
        "        self.conv_3 = keras.layers.Conv1D(1, 3, activation='swish', padding='same')\n",
        "    \n",
        "        # encoded representation\n",
        "        self.encoded = keras.layers.MaxPooling1D(2, padding='same')\n",
        "        \n",
        "        # decoder layers\n",
        "        self.conv_4 = keras.layers.Conv1D(1, 3, activation='swish', padding='same')\n",
        "        self.up_1 = keras.layers.UpSampling1D(2)\n",
        "        self.conv_5 = keras.layers.Conv1D(64, 3, activation='swish', padding='same')\n",
        "        self.up_2 = keras.layers.UpSampling1D(2)\n",
        "        self.conv_6 = keras.layers.Conv1D(128, 3, activation='swish', padding='same')\n",
        "        self.up_3 = keras.layers.UpSampling1D(2)\n",
        "        self.decoded = keras.layers.Conv1D(1, 3, activation='linear', padding='same')\n",
        "        \n",
        "    def call(self, inputs):\n",
        "        padding = inputs.shape[1] % 8\n",
        "        x = self.encode(inputs)\n",
        "        x = self.conv_4(x)\n",
        "        x = self.up_1(x)\n",
        "        x = self.conv_5(x)\n",
        "        x = self.up_2(x)\n",
        "        x = self.conv_6(x)\n",
        "        x = self.up_3(x)\n",
        "        if padding != 0:\n",
        "            x = keras.layers.Cropping1D(cropping=(padding, 0))(x)\n",
        "        return self.decoded(x)\n",
        "    \n",
        "    def encode(self, inputs):\n",
        "        padding = inputs.shape[1] % 8\n",
        "        if padding != 0:\n",
        "            inputs = keras.layers.ZeroPadding1D(padding=(padding, 0))(inputs)\n",
        "        x = self.conv_1(inputs)\n",
        "        x = self.max_1(x)\n",
        "        x = self.conv_2(x)\n",
        "        x = self.max_2(x)\n",
        "        x = self.conv_3(x)\n",
        "        return self.encoded(x)\n",
        "        \n",
        "    \n",
        "    def model(self):\n",
        "        x = keras.layers.Input(shape=(serie_length, 1))\n",
        "        return tf.keras.Model(inputs=[x], outputs=self.call(x))"
      ],
      "execution_count": 40,
      "outputs": []
    },
    {
      "cell_type": "markdown",
      "metadata": {
        "id": "Oywa2HyHk6iC"
      },
      "source": [
        "## Using Strides = 2"
      ]
    },
    {
      "cell_type": "code",
      "metadata": {
        "id": "1GojoJycTouw"
      },
      "source": [
        "# Convolutional Autoencoder with Strides:\n",
        "class ConvAutoencoderStrides():\n",
        "  def __init__(self, serie_length):\n",
        "    # encoder layers\n",
        "    input_data = Input(shape=(serie_length, 1))\n",
        "    x = Conv1D(128, (3), strides=2, activation='swish', padding='same')(input_data)\n",
        "    x = Conv1D(64, (3), strides=2, activation='swish', padding='same')(x)\n",
        "    x = Conv1D(32, (3), strides=2, activation='swish', padding='same')(x)\n",
        "    \n",
        "    # encoded representation\n",
        "    encoded = Conv1D(1, (3), activation='swish', padding='same')(x)\n",
        "    \n",
        "    # decoder layers\n",
        "    x = Conv1D(1, (3), activation='swish', padding='same')(x)\n",
        "    x = UpSampling1D((2))(encoded)\n",
        "    x = Conv1D(64, (3), activation='swish', padding='same')(x)\n",
        "    x = UpSampling1D((2))(x)\n",
        "    x = Conv1D(128, (3), activation='swish', padding='same')(x)\n",
        "    x = UpSampling1D((2))(x)\n",
        "    x = Conv1D(1, (3), activation='tanh', padding='same')(x)\n",
        "    \n",
        "    # cropping data so that decoded representation has the same shape as the input\n",
        "    cropping = x.shape[1] - input_data.shape[1] \n",
        "    # decoded representation\n",
        "    decoded = Cropping1D(cropping=(0,cropping))(x)\n",
        "    \n",
        "    # models\n",
        "    self.encoder = Model(input_data, encoded)\n",
        "    self.autoencoder = Model(input_data, decoded)\n",
        "    self.autoencoder.compile(optimizer='adam', loss='mse')\n",
        "    # summary\n",
        "    self.autoencoder.summary()\n",
        "    \n",
        "  def train(self, data, epochs, batch_size):\n",
        "    #self.callback = keras.callbacks.EarlyStopping(monitor='loss', patience=2)\n",
        "    history = self.autoencoder.fit(data, data, epochs= epochs, batch_size= batch_size, validation_split=0.1) #, callbacks = [callback])\n",
        "    \n",
        "    return self.autoencoder"
      ],
      "execution_count": 3,
      "outputs": []
    },
    {
      "cell_type": "markdown",
      "metadata": {
        "id": "Ad-D4CADlFDa"
      },
      "source": [
        "# Reading Dataset from Google Drive"
      ]
    },
    {
      "cell_type": "code",
      "metadata": {
        "id": "nTl7TYPJv8LK",
        "colab": {
          "base_uri": "https://localhost:8080/"
        },
        "outputId": "8d559721-6d19-485e-a5bb-43ed721dbf11"
      },
      "source": [
        "path = 'drive/My Drive/UFSCar/FAPESP/IC/Data/UCRArchive_2018'\n",
        "\n",
        "dataset = input('Dataset: ')\n",
        "tr_data = np.genfromtxt(path + \"/\" + dataset + \"/\" + dataset + \"_TRAIN.tsv\", delimiter=\"\\t\",)\n",
        "te_data = np.genfromtxt(path + \"/\" + dataset + \"/\" + dataset + \"_TEST.tsv\", delimiter=\"\\t\",)\n",
        "\n",
        "print(\"Labels:\", np.unique(tr_data[:, 0]))\n",
        "\n",
        "class_label = int(input('Positive class label: '))\n",
        "tr_data = tr_data[tr_data[:,0] == class_label, 1:] # train\n",
        "tc_data = te_data[te_data[:,0] == class_label, 1:] # target class - test\n",
        "oc_data = te_data[te_data[:,0] != class_label, 1:] # other classes - test\n",
        "\n",
        "print(\"Train data shape: \", tr_data.shape)\n",
        "print(\"Test data shape (target class): \", tc_data.shape)\n",
        "print(\"Test data shape (other class(es)): \", oc_data.shape)"
      ],
      "execution_count": 4,
      "outputs": [
        {
          "output_type": "stream",
          "text": [
            "Dataset: Wafer\n",
            "Labels: [-1.  1.]\n",
            "Positive class label: -1\n",
            "Train data shape:  (97, 152)\n",
            "Test data shape (target class):  (665, 152)\n",
            "Test data shape (other class(es)):  (5499, 152)\n"
          ],
          "name": "stdout"
        }
      ]
    },
    {
      "cell_type": "markdown",
      "metadata": {
        "id": "Hnog38XJlV0d"
      },
      "source": [
        "# Initializing and training the Conv Autoencoder"
      ]
    },
    {
      "cell_type": "code",
      "metadata": {
        "id": "tpRSOYQQxjd6"
      },
      "source": [
        "# Initialize the Autoencoder\n",
        "serie_length = tr_data.shape[1]\n",
        "#input_data = keras.layers.Input(shape=(serie_length, 1))\n",
        "\n",
        "model = ConvAutoencoder((serie_length, 1))"
      ],
      "execution_count": 41,
      "outputs": []
    },
    {
      "cell_type": "code",
      "metadata": {
        "id": "NqYYFeLGUeoy"
      },
      "source": [
        "model.compile(optimizer='adam', loss='mse')"
      ],
      "execution_count": 42,
      "outputs": []
    },
    {
      "cell_type": "code",
      "metadata": {
        "id": "fd5JeSkCfQ-M"
      },
      "source": [
        "tr_data.shape = tr_data.shape[0], tr_data.shape[1], 1\n",
        "tc_data.shape = tc_data.shape[0], tc_data.shape[1], 1\n",
        "oc_data.shape = oc_data.shape[0], oc_data.shape[1], 1"
      ],
      "execution_count": 43,
      "outputs": []
    },
    {
      "cell_type": "code",
      "metadata": {
        "colab": {
          "base_uri": "https://localhost:8080/"
        },
        "id": "yBIQVn2ayo1W",
        "outputId": "f0d2a93f-1e2b-469e-a3b5-43bf04bf2f42"
      },
      "source": [
        "# Train\n",
        "batch_size = 8\n",
        "epochs = 100\n",
        "\n",
        "model.fit(tr_data, tr_data, epochs=epochs, batch_size=batch_size)\n",
        "autoencoder = model"
      ],
      "execution_count": 44,
      "outputs": [
        {
          "output_type": "stream",
          "text": [
            "Epoch 1/100\n",
            "13/13 [==============================] - 1s 6ms/step - loss: 0.9472\n",
            "Epoch 2/100\n",
            "13/13 [==============================] - 0s 6ms/step - loss: 0.5650\n",
            "Epoch 3/100\n",
            "13/13 [==============================] - 0s 6ms/step - loss: 0.3378\n",
            "Epoch 4/100\n",
            "13/13 [==============================] - 0s 6ms/step - loss: 0.3072\n",
            "Epoch 5/100\n",
            "13/13 [==============================] - 0s 7ms/step - loss: 0.2798\n",
            "Epoch 6/100\n",
            "13/13 [==============================] - 0s 6ms/step - loss: 0.2567\n",
            "Epoch 7/100\n",
            "13/13 [==============================] - 0s 6ms/step - loss: 0.2360\n",
            "Epoch 8/100\n",
            "13/13 [==============================] - 0s 6ms/step - loss: 0.2156\n",
            "Epoch 9/100\n",
            "13/13 [==============================] - 0s 6ms/step - loss: 0.2035\n",
            "Epoch 10/100\n",
            "13/13 [==============================] - 0s 6ms/step - loss: 0.1883\n",
            "Epoch 11/100\n",
            "13/13 [==============================] - 0s 6ms/step - loss: 0.1796\n",
            "Epoch 12/100\n",
            "13/13 [==============================] - 0s 6ms/step - loss: 0.1749\n",
            "Epoch 13/100\n",
            "13/13 [==============================] - 0s 6ms/step - loss: 0.1766\n",
            "Epoch 14/100\n",
            "13/13 [==============================] - 0s 6ms/step - loss: 0.1722\n",
            "Epoch 15/100\n",
            "13/13 [==============================] - 0s 7ms/step - loss: 0.1737\n",
            "Epoch 16/100\n",
            "13/13 [==============================] - 0s 6ms/step - loss: 0.1707\n",
            "Epoch 17/100\n",
            "13/13 [==============================] - 0s 7ms/step - loss: 0.1722\n",
            "Epoch 18/100\n",
            "13/13 [==============================] - 0s 6ms/step - loss: 0.1665\n",
            "Epoch 19/100\n",
            "13/13 [==============================] - 0s 6ms/step - loss: 0.1649\n",
            "Epoch 20/100\n",
            "13/13 [==============================] - 0s 7ms/step - loss: 0.1640\n",
            "Epoch 21/100\n",
            "13/13 [==============================] - 0s 6ms/step - loss: 0.1631\n",
            "Epoch 22/100\n",
            "13/13 [==============================] - 0s 6ms/step - loss: 0.1624\n",
            "Epoch 23/100\n",
            "13/13 [==============================] - 0s 6ms/step - loss: 0.1635\n",
            "Epoch 24/100\n",
            "13/13 [==============================] - 0s 6ms/step - loss: 0.1617\n",
            "Epoch 25/100\n",
            "13/13 [==============================] - 0s 6ms/step - loss: 0.1607\n",
            "Epoch 26/100\n",
            "13/13 [==============================] - 0s 6ms/step - loss: 0.1832\n",
            "Epoch 27/100\n",
            "13/13 [==============================] - 0s 6ms/step - loss: 0.1741\n",
            "Epoch 28/100\n",
            "13/13 [==============================] - 0s 7ms/step - loss: 0.1663\n",
            "Epoch 29/100\n",
            "13/13 [==============================] - 0s 7ms/step - loss: 0.1647\n",
            "Epoch 30/100\n",
            "13/13 [==============================] - 0s 6ms/step - loss: 0.1610\n",
            "Epoch 31/100\n",
            "13/13 [==============================] - 0s 6ms/step - loss: 0.1613\n",
            "Epoch 32/100\n",
            "13/13 [==============================] - 0s 6ms/step - loss: 0.1601\n",
            "Epoch 33/100\n",
            "13/13 [==============================] - 0s 6ms/step - loss: 0.1592\n",
            "Epoch 34/100\n",
            "13/13 [==============================] - 0s 6ms/step - loss: 0.1590\n",
            "Epoch 35/100\n",
            "13/13 [==============================] - 0s 7ms/step - loss: 0.1579\n",
            "Epoch 36/100\n",
            "13/13 [==============================] - 0s 6ms/step - loss: 0.1582\n",
            "Epoch 37/100\n",
            "13/13 [==============================] - 0s 6ms/step - loss: 0.1577\n",
            "Epoch 38/100\n",
            "13/13 [==============================] - 0s 6ms/step - loss: 0.1565\n",
            "Epoch 39/100\n",
            "13/13 [==============================] - 0s 6ms/step - loss: 0.1565\n",
            "Epoch 40/100\n",
            "13/13 [==============================] - 0s 6ms/step - loss: 0.1559\n",
            "Epoch 41/100\n",
            "13/13 [==============================] - 0s 7ms/step - loss: 0.1565\n",
            "Epoch 42/100\n",
            "13/13 [==============================] - 0s 6ms/step - loss: 0.1558\n",
            "Epoch 43/100\n",
            "13/13 [==============================] - 0s 7ms/step - loss: 0.1561\n",
            "Epoch 44/100\n",
            "13/13 [==============================] - 0s 7ms/step - loss: 0.1554\n",
            "Epoch 45/100\n",
            "13/13 [==============================] - 0s 6ms/step - loss: 0.1562\n",
            "Epoch 46/100\n",
            "13/13 [==============================] - 0s 6ms/step - loss: 0.1576\n",
            "Epoch 47/100\n",
            "13/13 [==============================] - 0s 6ms/step - loss: 0.1599\n",
            "Epoch 48/100\n",
            "13/13 [==============================] - 0s 6ms/step - loss: 0.1575\n",
            "Epoch 49/100\n",
            "13/13 [==============================] - 0s 6ms/step - loss: 0.1560\n",
            "Epoch 50/100\n",
            "13/13 [==============================] - 0s 6ms/step - loss: 0.1558\n",
            "Epoch 51/100\n",
            "13/13 [==============================] - 0s 6ms/step - loss: 0.1558\n",
            "Epoch 52/100\n",
            "13/13 [==============================] - 0s 7ms/step - loss: 0.1559\n",
            "Epoch 53/100\n",
            "13/13 [==============================] - 0s 7ms/step - loss: 0.1563\n",
            "Epoch 54/100\n",
            "13/13 [==============================] - 0s 6ms/step - loss: 0.1551\n",
            "Epoch 55/100\n",
            "13/13 [==============================] - 0s 7ms/step - loss: 0.1540\n",
            "Epoch 56/100\n",
            "13/13 [==============================] - 0s 6ms/step - loss: 0.1536\n",
            "Epoch 57/100\n",
            "13/13 [==============================] - 0s 6ms/step - loss: 0.1531\n",
            "Epoch 58/100\n",
            "13/13 [==============================] - 0s 6ms/step - loss: 0.1531\n",
            "Epoch 59/100\n",
            "13/13 [==============================] - 0s 7ms/step - loss: 0.1531\n",
            "Epoch 60/100\n",
            "13/13 [==============================] - 0s 6ms/step - loss: 0.1527\n",
            "Epoch 61/100\n",
            "13/13 [==============================] - 0s 6ms/step - loss: 0.1531\n",
            "Epoch 62/100\n",
            "13/13 [==============================] - 0s 6ms/step - loss: 0.1539\n",
            "Epoch 63/100\n",
            "13/13 [==============================] - 0s 6ms/step - loss: 0.1546\n",
            "Epoch 64/100\n",
            "13/13 [==============================] - 0s 7ms/step - loss: 0.1544\n",
            "Epoch 65/100\n",
            "13/13 [==============================] - 0s 6ms/step - loss: 0.1528\n",
            "Epoch 66/100\n",
            "13/13 [==============================] - 0s 7ms/step - loss: 0.1524\n",
            "Epoch 67/100\n",
            "13/13 [==============================] - 0s 6ms/step - loss: 0.1530\n",
            "Epoch 68/100\n",
            "13/13 [==============================] - 0s 6ms/step - loss: 0.1519\n",
            "Epoch 69/100\n",
            "13/13 [==============================] - 0s 6ms/step - loss: 0.1516\n",
            "Epoch 70/100\n",
            "13/13 [==============================] - 0s 8ms/step - loss: 0.1520\n",
            "Epoch 71/100\n",
            "13/13 [==============================] - 0s 6ms/step - loss: 0.1516\n",
            "Epoch 72/100\n",
            "13/13 [==============================] - 0s 6ms/step - loss: 0.1514\n",
            "Epoch 73/100\n",
            "13/13 [==============================] - 0s 6ms/step - loss: 0.1514\n",
            "Epoch 74/100\n",
            "13/13 [==============================] - 0s 6ms/step - loss: 0.1516\n",
            "Epoch 75/100\n",
            "13/13 [==============================] - 0s 7ms/step - loss: 0.1513\n",
            "Epoch 76/100\n",
            "13/13 [==============================] - 0s 6ms/step - loss: 0.1510\n",
            "Epoch 77/100\n",
            "13/13 [==============================] - 0s 6ms/step - loss: 0.1515\n",
            "Epoch 78/100\n",
            "13/13 [==============================] - 0s 6ms/step - loss: 0.1513\n",
            "Epoch 79/100\n",
            "13/13 [==============================] - 0s 6ms/step - loss: 0.1510\n",
            "Epoch 80/100\n",
            "13/13 [==============================] - 0s 6ms/step - loss: 0.1540\n",
            "Epoch 81/100\n",
            "13/13 [==============================] - 0s 6ms/step - loss: 0.1508\n",
            "Epoch 82/100\n",
            "13/13 [==============================] - 0s 6ms/step - loss: 0.1508\n",
            "Epoch 83/100\n",
            "13/13 [==============================] - 0s 6ms/step - loss: 0.1507\n",
            "Epoch 84/100\n",
            "13/13 [==============================] - 0s 6ms/step - loss: 0.1502\n",
            "Epoch 85/100\n",
            "13/13 [==============================] - 0s 6ms/step - loss: 0.1504\n",
            "Epoch 86/100\n",
            "13/13 [==============================] - 0s 6ms/step - loss: 0.1499\n",
            "Epoch 87/100\n",
            "13/13 [==============================] - 0s 7ms/step - loss: 0.1499\n",
            "Epoch 88/100\n",
            "13/13 [==============================] - 0s 6ms/step - loss: 0.1499\n",
            "Epoch 89/100\n",
            "13/13 [==============================] - 0s 6ms/step - loss: 0.1501\n",
            "Epoch 90/100\n",
            "13/13 [==============================] - 0s 6ms/step - loss: 0.1497\n",
            "Epoch 91/100\n",
            "13/13 [==============================] - 0s 6ms/step - loss: 0.1504\n",
            "Epoch 92/100\n",
            "13/13 [==============================] - 0s 6ms/step - loss: 0.1505\n",
            "Epoch 93/100\n",
            "13/13 [==============================] - 0s 6ms/step - loss: 0.1495\n",
            "Epoch 94/100\n",
            "13/13 [==============================] - 0s 6ms/step - loss: 0.1497\n",
            "Epoch 95/100\n",
            "13/13 [==============================] - 0s 6ms/step - loss: 0.1502\n",
            "Epoch 96/100\n",
            "13/13 [==============================] - 0s 6ms/step - loss: 0.1503\n",
            "Epoch 97/100\n",
            "13/13 [==============================] - 0s 6ms/step - loss: 0.1496\n",
            "Epoch 98/100\n",
            "13/13 [==============================] - 0s 7ms/step - loss: 0.1498\n",
            "Epoch 99/100\n",
            "13/13 [==============================] - 0s 6ms/step - loss: 0.1493\n",
            "Epoch 100/100\n",
            "13/13 [==============================] - 0s 6ms/step - loss: 0.1491\n"
          ],
          "name": "stdout"
        }
      ]
    },
    {
      "cell_type": "code",
      "metadata": {
        "colab": {
          "base_uri": "https://localhost:8080/"
        },
        "id": "fx1kF9XTbE_M",
        "outputId": "cded6937-7392-42e5-c5f7-7021bdfd879a"
      },
      "source": [
        "model.model().summary()"
      ],
      "execution_count": 45,
      "outputs": [
        {
          "output_type": "stream",
          "text": [
            "Model: \"model_2\"\n",
            "_________________________________________________________________\n",
            "Layer (type)                 Output Shape              Param #   \n",
            "=================================================================\n",
            "input_3 (InputLayer)         [(None, 152, 1)]          0         \n",
            "_________________________________________________________________\n",
            "conv1d_14 (Conv1D)           (None, 152, 128)          512       \n",
            "_________________________________________________________________\n",
            "max_pooling1d_6 (MaxPooling1 (None, 76, 128)           0         \n",
            "_________________________________________________________________\n",
            "conv1d_15 (Conv1D)           (None, 76, 64)            24640     \n",
            "_________________________________________________________________\n",
            "max_pooling1d_7 (MaxPooling1 (None, 38, 64)            0         \n",
            "_________________________________________________________________\n",
            "conv1d_16 (Conv1D)           (None, 38, 1)             193       \n",
            "_________________________________________________________________\n",
            "max_pooling1d_8 (MaxPooling1 (None, 19, 1)             0         \n",
            "_________________________________________________________________\n",
            "conv1d_17 (Conv1D)           (None, 19, 1)             4         \n",
            "_________________________________________________________________\n",
            "up_sampling1d_6 (UpSampling1 (None, 38, 1)             0         \n",
            "_________________________________________________________________\n",
            "conv1d_18 (Conv1D)           (None, 38, 64)            256       \n",
            "_________________________________________________________________\n",
            "up_sampling1d_7 (UpSampling1 (None, 76, 64)            0         \n",
            "_________________________________________________________________\n",
            "conv1d_19 (Conv1D)           (None, 76, 128)           24704     \n",
            "_________________________________________________________________\n",
            "up_sampling1d_8 (UpSampling1 (None, 152, 128)          0         \n",
            "_________________________________________________________________\n",
            "conv1d_20 (Conv1D)           (None, 152, 1)            385       \n",
            "=================================================================\n",
            "Total params: 50,694\n",
            "Trainable params: 50,694\n",
            "Non-trainable params: 0\n",
            "_________________________________________________________________\n"
          ],
          "name": "stdout"
        }
      ]
    },
    {
      "cell_type": "markdown",
      "metadata": {
        "id": "yN4ydHR6lnUj"
      },
      "source": [
        "# Predicting and Reshaping Data"
      ]
    },
    {
      "cell_type": "code",
      "metadata": {
        "colab": {
          "base_uri": "https://localhost:8080/"
        },
        "id": "TT6L8-Nl4mRw",
        "outputId": "e3ad3cb0-4088-4048-a78b-72028b49d92b"
      },
      "source": [
        "# Predicting\n",
        "tc_data_reconstructed = autoencoder.predict(tc_data)\n",
        "oc_data_reconstructed = autoencoder.predict(oc_data)\n",
        "tr_data_reconstructed = autoencoder.predict(tr_data)\n",
        "# Reshaping\n",
        "tc_data_reconstructed.shape = tc_data_reconstructed.shape[0], tc_data_reconstructed.shape[1]\n",
        "oc_data_reconstructed.shape = oc_data_reconstructed.shape[0], oc_data_reconstructed.shape[1]\n",
        "tr_data_reconstructed.shape = tr_data_reconstructed.shape[0], tr_data_reconstructed.shape[1]\n",
        "\n",
        "\n",
        "print(\"Target Class test shape:\", tc_data_reconstructed.shape, tc_data.shape)\n",
        "print(\"Other Class(es) test shape:\", oc_data_reconstructed.shape, oc_data.shape)"
      ],
      "execution_count": 46,
      "outputs": [
        {
          "output_type": "stream",
          "text": [
            "Target Class test shape: (665, 152) (665, 152, 1)\n",
            "Other Class(es) test shape: (5499, 152) (5499, 152, 1)\n"
          ],
          "name": "stdout"
        }
      ]
    },
    {
      "cell_type": "markdown",
      "metadata": {
        "id": "73tY1wJVlwYx"
      },
      "source": [
        "# Reconstruction Examples"
      ]
    },
    {
      "cell_type": "markdown",
      "metadata": {
        "id": "pUGNlJTfmv3P"
      },
      "source": [
        "## Positive Class"
      ]
    },
    {
      "cell_type": "code",
      "metadata": {
        "colab": {
          "base_uri": "https://localhost:8080/",
          "height": 311
        },
        "id": "cixmBdpuhj6j",
        "outputId": "e880cad6-833e-4732-e00f-0008aa060849"
      },
      "source": [
        "index = 22\n",
        "fig, (ax1, ax2) = plt.subplots(1, 2)\n",
        "fig.suptitle('CAE Reconstruction Example - Positive Class')\n",
        "ax1.plot(tc_data[index])\n",
        "ax2.plot(tc_data_reconstructed[index])\n",
        "print(\"MSE:\", mean_squared_error(tc_data[index], tc_data_reconstructed[index]))\n",
        "#fig.savefig(f'drive/My Drive/UFSCar/FAPESP/IC_2.0/Results/ex_{index}_{dataset}_pc.png') # Positive Class"
      ],
      "execution_count": 47,
      "outputs": [
        {
          "output_type": "stream",
          "text": [
            "MSE: 0.09880221581849125\n"
          ],
          "name": "stdout"
        },
        {
          "output_type": "display_data",
          "data": {
            "image/png": "[encoded data removed]",
            "text/plain": [
              "<Figure size 432x288 with 2 Axes>"
            ]
          },
          "metadata": {
            "tags": [],
            "needs_background": "light"
          }
        }
      ]
    },
    {
      "cell_type": "markdown",
      "metadata": {
        "id": "YyILhEWbmyDV"
      },
      "source": [
        "## Negative Class"
      ]
    },
    {
      "cell_type": "code",
      "metadata": {
        "colab": {
          "base_uri": "https://localhost:8080/",
          "height": 311
        },
        "id": "TJ_C5oOOPMdD",
        "outputId": "1bd79171-f512-4d8a-f70e-bd5fe3f2c8e3"
      },
      "source": [
        "index = 0\n",
        "fig, (ax1, ax2) = plt.subplots(1, 2)\n",
        "fig.suptitle('CAE Reconstruction Example - Negative Class')\n",
        "ax1.plot(oc_data[index])\n",
        "ax2.plot(oc_data_reconstructed[index])\n",
        "print(\"MSE:\", mean_squared_error(oc_data[index], oc_data_reconstructed[index]))\n",
        "fig.savefig(f'drive/My Drive/UFSCar/FAPESP/IC_2.0/Results/ex_{index}_{dataset}_nc.png') # Negative Class"
      ],
      "execution_count": 48,
      "outputs": [
        {
          "output_type": "stream",
          "text": [
            "MSE: 0.10311206003622471\n"
          ],
          "name": "stdout"
        },
        {
          "output_type": "display_data",
          "data": {
            "image/png": "[encoded data removed]",
            "text/plain": [
              "<Figure size 432x288 with 2 Axes>"
            ]
          },
          "metadata": {
            "tags": [],
            "needs_background": "light"
          }
        }
      ]
    },
    {
      "cell_type": "markdown",
      "metadata": {
        "id": "NkfNpaOWl1aS"
      },
      "source": [
        "# Reconstruction Error Histogram"
      ]
    },
    {
      "cell_type": "code",
      "metadata": {
        "id": "rfA9GB6mqJo6"
      },
      "source": [
        "def err_hist_occ(original_data, encoded_data):\n",
        "  mse = []\n",
        "  for i in range(original_data.shape[0]):\n",
        "    mse.append(mean_squared_error(original_data[i], encoded_data[i]))\n",
        "\n",
        "  mse = np.array(mse)\n",
        "  mean = np.mean(mse)\n",
        "  dp = np.std(mse)\n",
        "  print(\"Média:\", mean)\n",
        "  print(\"Desvio padrão:\", dp)\n",
        "\n",
        "  return mse"
      ],
      "execution_count": 49,
      "outputs": []
    },
    {
      "cell_type": "markdown",
      "metadata": {
        "id": "H7ZjR1u9l_e2"
      },
      "source": [
        "## Train Data"
      ]
    },
    {
      "cell_type": "code",
      "metadata": {
        "colab": {
          "base_uri": "https://localhost:8080/",
          "height": 342
        },
        "id": "pzKW4aTDWUKM",
        "outputId": "6af95077-583e-4229-e8c0-20f512632fbc"
      },
      "source": [
        "# Treino\n",
        "plt.hist(err_hist_occ(tr_data, tr_data_reconstructed), bins = 30)\n",
        "plt.ylabel('Count')\n",
        "plt.xlabel('Mean Squared Error');\n",
        "plt.suptitle('Error Histogram - Train')\n",
        "plt.savefig(f'drive/My Drive/UFSCar/FAPESP/IC_2.0/Results/hist_{dataset}_train.png') # Train"
      ],
      "execution_count": 50,
      "outputs": [
        {
          "output_type": "stream",
          "text": [
            "Média: 0.14887491307303657\n",
            "Desvio padrão: 0.18196516269665391\n"
          ],
          "name": "stdout"
        },
        {
          "output_type": "display_data",
          "data": {
            "image/png": "[encoded data removed]",
            "text/plain": [
              "<Figure size 432x288 with 1 Axes>"
            ]
          },
          "metadata": {
            "tags": [],
            "needs_background": "light"
          }
        }
      ]
    },
    {
      "cell_type": "markdown",
      "metadata": {
        "id": "tvDE3T2-m48u"
      },
      "source": [
        "## Test Data - Positive Class"
      ]
    },
    {
      "cell_type": "code",
      "metadata": {
        "id": "tQQNCUAm7IZ1",
        "colab": {
          "base_uri": "https://localhost:8080/",
          "height": 359
        },
        "outputId": "c92a64f5-0386-48cb-bf28-414f5c483953"
      },
      "source": [
        "# Teste só com dado da classe de interesse\n",
        "mse_pc = err_hist_occ(tc_data, tc_data_reconstructed) \n",
        "\n",
        "plt.hist(mse_pc, bins = 30)\n",
        "plt.ylabel('Count')\n",
        "plt.xlabel('Mean Squared Error');\n",
        "plt.suptitle('Error Histogram - Test (Positive Class)')\n",
        "plt.savefig(f'drive/My Drive/UFSCar/FAPESP/IC_2.0/Results/hist_{dataset}_pc.png') # Positive Class\n",
        "\n",
        "# testing an arbitrary threshold\n",
        "threshold = 0.2\n",
        "accuracy = len(mse_pc[mse_pc <= threshold])/len(mse_pc)\n",
        "print(\"Accuracy positive class:\" , accuracy)"
      ],
      "execution_count": 51,
      "outputs": [
        {
          "output_type": "stream",
          "text": [
            "Média: 0.13105375848417747\n",
            "Desvio padrão: 0.1521855833322861\n",
            "Accuracy positive class: 0.8947368421052632\n"
          ],
          "name": "stdout"
        },
        {
          "output_type": "display_data",
          "data": {
            "image/png": "[encoded data removed]",
            "text/plain": [
              "<Figure size 432x288 with 1 Axes>"
            ]
          },
          "metadata": {
            "tags": [],
            "needs_background": "light"
          }
        }
      ]
    },
    {
      "cell_type": "markdown",
      "metadata": {
        "id": "G1NpnYNAm_ZS"
      },
      "source": [
        "## Test Data - Negative Class"
      ]
    },
    {
      "cell_type": "code",
      "metadata": {
        "id": "Tzq2Hswk7pS0",
        "colab": {
          "base_uri": "https://localhost:8080/",
          "height": 359
        },
        "outputId": "fd4e243c-c98b-4c73-a993-85304c079e06"
      },
      "source": [
        "# Teste com dados da classe negativa\n",
        "mse_nc = err_hist_occ(oc_data, oc_data_reconstructed)\n",
        "\n",
        "plt.hist(mse_nc, bins = 30)\n",
        "plt.ylabel('Count')\n",
        "plt.xlabel('Mean Squared Error');\n",
        "plt.suptitle('Error Histogram - Test (Negative Class)')\n",
        "plt.savefig(f'drive/My Drive/UFSCar/FAPESP/IC_2.0/Results/hist_{dataset}_nc.png') # Negative Class\n",
        "\n",
        "# testing an arbitrary threshold\n",
        "threshold = 0.2\n",
        "accuracy = len(mse_nc[mse_nc > threshold])/len(mse_nc)\n",
        "print(\"Accuracy negative class:\" , accuracy)"
      ],
      "execution_count": 52,
      "outputs": [
        {
          "output_type": "stream",
          "text": [
            "Média: 0.1589972495197408\n",
            "Desvio padrão: 0.1792198362174853\n",
            "Accuracy negative class: 0.1254773595199127\n"
          ],
          "name": "stdout"
        },
        {
          "output_type": "display_data",
          "data": {
            "image/png": "[encoded data removed]",
            "text/plain": [
              "<Figure size 432x288 with 1 Axes>"
            ]
          },
          "metadata": {
            "tags": [],
            "needs_background": "light"
          }
        }
      ]
    },
    {
      "cell_type": "markdown",
      "metadata": {
        "id": "ae6zv_HCmsU8"
      },
      "source": [
        "# Some tests\n"
      ]
    },
    {
      "cell_type": "code",
      "metadata": {
        "id": "GokJVB1nqv0S"
      },
      "source": [
        "threshold = 0.25"
      ],
      "execution_count": 17,
      "outputs": []
    },
    {
      "cell_type": "code",
      "metadata": {
        "colab": {
          "base_uri": "https://localhost:8080/"
        },
        "id": "q_0nWE9gm_2k",
        "outputId": "8b6586ce-1a36-4692-8f15-3a49e9f2351c"
      },
      "source": [
        "mse = err_hist_occ(oc_data, oc_data_reconstructed)\n",
        "false_positive = len(mse[mse<=threshold])\n",
        "true_negative = len(mse[mse>threshold])\n",
        "print(\"False Positive:\", false_positive)\n",
        "print(\"True Negative:\", true_negative)"
      ],
      "execution_count": 18,
      "outputs": [
        {
          "output_type": "stream",
          "text": [
            "Média: 0.19481630658292517\n",
            "Desvio padrão: 0.18157047836988005\n",
            "False Positive: 4742\n",
            "True Negative: 757\n"
          ],
          "name": "stdout"
        }
      ]
    },
    {
      "cell_type": "code",
      "metadata": {
        "colab": {
          "base_uri": "https://localhost:8080/"
        },
        "id": "4EYIYh_Xqbb3",
        "outputId": "f893e2b0-e2f4-48be-f77c-13ec3c28edf1"
      },
      "source": [
        "mse = err_hist_occ(tc_data, tc_data_reconstructed)\n",
        "true_positive = len(mse[mse<=threshold])\n",
        "false_negative = len(mse[mse>threshold])\n",
        "print(\"True Positive:\", true_positive)\n",
        "print(\"False Negative:\", false_negative)"
      ],
      "execution_count": 19,
      "outputs": [
        {
          "output_type": "stream",
          "text": [
            "Média: 0.16650176344313183\n",
            "Desvio padrão: 0.15310134395389782\n",
            "True Positive: 588\n",
            "False Negative: 77\n"
          ],
          "name": "stdout"
        }
      ]
    },
    {
      "cell_type": "code",
      "metadata": {
        "colab": {
          "base_uri": "https://localhost:8080/"
        },
        "id": "eLc8A8YxwFNF",
        "outputId": "ae3837eb-c9ac-4855-b530-35100868e65b"
      },
      "source": [
        "total = false_positive + true_negative + true_positive + false_negative\n",
        "print(\"Total:\", total)\n",
        "accuracy = (true_positive + true_negative)/total\n",
        "precision = true_positive/(true_positive + false_positive)\n",
        "recall = true_positive/(true_positive + false_negative)\n",
        "\n",
        "print(\"Accuracy:\", accuracy)\n",
        "print(\"Precision:\", precision)\n",
        "print(\"Recall:\", recall)"
      ],
      "execution_count": 20,
      "outputs": [
        {
          "output_type": "stream",
          "text": [
            "Total: 6164\n",
            "Accuracy: 0.2182024659312135\n",
            "Precision: 0.11031894934333959\n",
            "Recall: 0.8842105263157894\n"
          ],
          "name": "stdout"
        }
      ]
    },
    {
      "cell_type": "markdown",
      "metadata": {
        "id": "CBV_46b6MPgj"
      },
      "source": [
        "# Threshold Definition and OCC Task\n",
        "\n",
        "\n",
        "\n",
        "\n",
        "\n",
        "\n"
      ]
    },
    {
      "cell_type": "code",
      "metadata": {
        "id": "bMy_o7ZVXsmj"
      },
      "source": [
        "#Placeholder - Algoritmo para def de Threshold e Classificação"
      ],
      "execution_count": 21,
      "outputs": []
    }
  ]
}