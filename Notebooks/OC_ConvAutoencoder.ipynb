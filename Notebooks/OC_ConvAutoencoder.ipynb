{
  "nbformat": 4,
  "nbformat_minor": 0,
  "metadata": {
    "colab": {
      "name": "OC_ConvAutoencoder.ipynb",
      "provenance": [],
      "collapsed_sections": [],
      "mount_file_id": "1M0bKgQRKtmVNEsgNCQCimG6cl4_J_GV_",
      "authorship_tag": "ABX9TyPcA1s+QVkdvKm5U4GQlDLs",
      "include_colab_link": true
    },
    "kernelspec": {
      "name": "python3",
      "display_name": "Python 3"
    },
    "accelerator": "GPU"
  },
  "cells": [
    {
      "cell_type": "markdown",
      "metadata": {
        "id": "view-in-github",
        "colab_type": "text"
      },
      "source": [
        "<a href=\"https://colab.research.google.com/github/Tyred/TimeSeries_OCC-PUL/blob/main/Notebooks/OC_ConvAutoencoder.ipynb\" target=\"_parent\"><img src=\"https://colab.research.google.com/assets/colab-badge.svg\" alt=\"Open In Colab\"/></a>"
      ]
    },
    {
      "cell_type": "markdown",
      "metadata": {
        "id": "kff21qy6oEe7"
      },
      "source": [
        "<h1> One-Class Classification Using Convolutional Autoencoders </h1>\n",
        "\n",
        "The main idea is to train a CAE (Convolutional Autoencoder) with data from the positive class only and calculate a reconstruction error threshold T based on the reconstruction errors obtained during the training. <br/>\n",
        "Then we perform the One-Class Classification (OCC) as follows:\n",
        "\n",
        "- For each data sample in the test dataset, do:\n",
        "    - Reconstruct the data with the CAE and calculate its reconstruction error E.\n",
        "    - if E <= T the sample is classified as a member of the positive class.\n",
        "    - else (if E > T) the sample is classified as not a member of the positive class.  \n",
        "\n",
        "- Evaluate the Model's Accuracy, Precision and Recall."
      ]
    },
    {
      "cell_type": "markdown",
      "metadata": {
        "id": "OflopftEPi5L"
      },
      "source": [
        "## Imports"
      ]
    },
    {
      "cell_type": "code",
      "metadata": {
        "id": "C2XDcHByvEwN"
      },
      "source": [
        "import numpy as np\n",
        "import matplotlib.pyplot as plt\n",
        "import tensorflow as tf\n",
        "\n",
        "from sklearn.metrics import (accuracy_score, precision_score, recall_score, f1_score,\n",
        "                            roc_auc_score)\n",
        "from tensorflow import keras\n",
        "from sklearn.metrics import mean_squared_error, mean_absolute_error\n",
        "%matplotlib inline"
      ],
      "execution_count": 389,
      "outputs": []
    },
    {
      "cell_type": "markdown",
      "metadata": {
        "id": "ePSM72bBkX6x"
      },
      "source": [
        "# Autoencoders"
      ]
    },
    {
      "cell_type": "markdown",
      "metadata": {
        "id": "3kwmDiXclBaQ"
      },
      "source": [
        "## Convolutional Using MaxPooling\n",
        "- Subclassing"
      ]
    },
    {
      "cell_type": "code",
      "metadata": {
        "id": "7j4Lk7QQxa6P"
      },
      "source": [
        "# Convolutional Autoencoder with MaxPooling:\n",
        "class ConvAutoencoder(tf.keras.Model):\n",
        "    def __init__(self, serie_length): #, serie_length):\n",
        "        super(ConvAutoencoder, self).__init__()\n",
        "        self.conv_1  = keras.layers.Conv1D(32, 3, activation='swish', padding='causal') #, input_shape=(serie_length))\n",
        "        self.max_1   = keras.layers.MaxPooling1D(2)\n",
        "        self.conv_2  = keras.layers.Conv1D(64, 3, activation='swish', padding='causal')\n",
        "        self.max_2   = keras.layers.MaxPooling1D(2)\n",
        "        self.conv_3  = keras.layers.Conv1D(128, 3, activation='swish', padding='causal')\n",
        "        \n",
        "        # encoded representation\n",
        "        self.encoded = keras.layers.MaxPooling1D(2)\n",
        "        \n",
        "        # decoder layers\n",
        "        self.conv_4  = keras.layers.Conv1D(128, 3, activation='swish', padding='causal')\n",
        "        self.up_1    = keras.layers.UpSampling1D(2)\n",
        "        self.conv_5  = keras.layers.Conv1D(64, 3, activation='swish', padding='causal')\n",
        "        self.up_2    = keras.layers.UpSampling1D(2)\n",
        "        self.conv_6  = keras.layers.Conv1D(32, 3, activation='swish', padding='causal')\n",
        "        self.up_3    = keras.layers.UpSampling1D(2)\n",
        "        \n",
        "        #self.flt     = keras.layers.Flatten()\n",
        "        \n",
        "        # decoded output\n",
        "        self.decoded = keras.layers.Conv1D(1, 3, activation='linear', padding='causal')\n",
        "        #self.decoded = keras.layers.Dense(serie_length, activation='linear')\n",
        "        \n",
        "    def encoder(self, inputs):\n",
        "        if self.padding != 0:\n",
        "            inputs = keras.layers.ZeroPadding1D(padding=(8 + 8-self.padding, 0))(inputs)\n",
        "        x = self.conv_1(inputs)\n",
        "        x = self.max_1(x)\n",
        "        x = self.conv_2(x)\n",
        "        x = self.max_2(x)\n",
        "        x = self.conv_3(x)\n",
        "        return self.encoded(x)\n",
        "    \n",
        "    def decoder(self, inputs):\n",
        "        #x = self.encode(inputs)\n",
        "        x = self.conv_4(inputs)\n",
        "        x = self.up_1(x)\n",
        "        x = self.conv_5(x)\n",
        "        x = self.up_2(x)\n",
        "        x = self.conv_6(x)\n",
        "        x = self.up_3(x)\n",
        "        \n",
        "        #x = self.flt(x)\n",
        "        \n",
        "        if self.padding != 0:\n",
        "            x = keras.layers.Cropping1D(cropping=(8 + 8-self.padding, 0))(x)\n",
        "        \n",
        "        return self.decoded(x)\n",
        "        \n",
        "        \n",
        "    def call(self, inputs):\n",
        "        self.padding = inputs.shape[1] % 8\n",
        "        _encoded = self.encoder(inputs)\n",
        "        _decoded = self.decoder(_encoded)\n",
        "\n",
        "        return _decoded\n",
        "\n",
        "    def model(self):\n",
        "        x = keras.layers.Input(shape=(serie_length, 1))\n",
        "        return tf.keras.Model(inputs=[x], outputs=self.call(x))"
      ],
      "execution_count": 432,
      "outputs": []
    },
    {
      "cell_type": "markdown",
      "metadata": {
        "id": "Ad-D4CADlFDa"
      },
      "source": [
        "# Reading Dataset from Google Drive"
      ]
    },
    {
      "cell_type": "code",
      "metadata": {
        "id": "nTl7TYPJv8LK",
        "colab": {
          "base_uri": "https://localhost:8080/"
        },
        "outputId": "33d4781a-c344-47d1-fbee-26df70ca01ae"
      },
      "source": [
        "path = 'drive/My Drive/UFSCar/FAPESP/IC/Data/UCRArchive_2018'\n",
        "\n",
        "dataset = input('Dataset: ')\n",
        "tr_data = np.genfromtxt(path + \"/\" + dataset + \"/\" + dataset + \"_TRAIN.tsv\", \n",
        "                        delimiter=\"\\t\",)\n",
        "te_data = np.genfromtxt(path + \"/\" + dataset + \"/\" + dataset + \"_TEST.tsv\", \n",
        "                        delimiter=\"\\t\",)\n",
        "\n",
        "labels = te_data[:, 0]\n",
        "print(\"Labels:\", np.unique(labels))"
      ],
      "execution_count": 433,
      "outputs": [
        {
          "output_type": "stream",
          "text": [
            "Dataset: FordA\n",
            "Labels: [-1.  1.]\n"
          ],
          "name": "stdout"
        }
      ]
    },
    {
      "cell_type": "markdown",
      "metadata": {
        "id": "GMZ-EJx5Gfl7"
      },
      "source": [
        "# Splitting in Train-Test data"
      ]
    },
    {
      "cell_type": "code",
      "metadata": {
        "colab": {
          "base_uri": "https://localhost:8080/"
        },
        "id": "O7kV4zA5FrQX",
        "outputId": "330f1665-96e5-48f3-b1dd-308acefd362b"
      },
      "source": [
        "class_label = int(input('Positive class label: '))\n",
        "\n",
        "train_data  = tr_data[tr_data[:, 0] == class_label, 1:] # train\n",
        "test_data   = te_data[:, 1:]                            # test\n",
        "print(\"Train data shape:\", train_data.shape)\n",
        "print(\"Test data shape:\", test_data.shape)\n",
        "\n",
        "train_data = tf.cast(train_data, tf.float32)\n",
        "test_data  = tf.cast(test_data , tf.float32)\n",
        "\n",
        "train_data = tf.expand_dims(train_data, axis=-1)\n",
        "test_data  = tf.expand_dims(test_data , axis=-1)\n",
        "\n",
        "serie_length = train_data.shape[1]"
      ],
      "execution_count": 434,
      "outputs": [
        {
          "output_type": "stream",
          "text": [
            "Positive class label: 1\n",
            "Train data shape: (1755, 500)\n",
            "Test data shape: (1320, 500)\n"
          ],
          "name": "stdout"
        }
      ]
    },
    {
      "cell_type": "markdown",
      "metadata": {
        "id": "-BHJNqYjH5gy"
      },
      "source": [
        "# Labeling for OCC Task"
      ]
    },
    {
      "cell_type": "code",
      "metadata": {
        "colab": {
          "base_uri": "https://localhost:8080/"
        },
        "id": "DH-dIO1iH4qC",
        "outputId": "428fc662-dfb3-4488-b193-e970e4a2bad8"
      },
      "source": [
        "occ_labels = [1 if x == class_label else 0 for x in labels]\n",
        "print(\"Positive samples:\", occ_labels.count(1))\n",
        "print(\"Negative samples:\", occ_labels.count(0))\n",
        "\n",
        "positive_test_data = test_data[np.array(occ_labels).astype(bool)]\n",
        "negative_test_data = test_data[~np.array(occ_labels).astype(bool)]"
      ],
      "execution_count": 435,
      "outputs": [
        {
          "output_type": "stream",
          "text": [
            "Positive samples: 639\n",
            "Negative samples: 681\n"
          ],
          "name": "stdout"
        }
      ]
    },
    {
      "cell_type": "markdown",
      "metadata": {
        "id": "Hnog38XJlV0d"
      },
      "source": [
        "# Initializing and training the Conv Autoencoder"
      ]
    },
    {
      "cell_type": "code",
      "metadata": {
        "id": "tpRSOYQQxjd6"
      },
      "source": [
        "autoencoder = ConvAutoencoder(train_data.shape[1]) "
      ],
      "execution_count": 436,
      "outputs": []
    },
    {
      "cell_type": "code",
      "metadata": {
        "id": "NqYYFeLGUeoy"
      },
      "source": [
        "autoencoder.compile(optimizer='adam', loss='mse')"
      ],
      "execution_count": 437,
      "outputs": []
    },
    {
      "cell_type": "code",
      "metadata": {
        "colab": {
          "base_uri": "https://localhost:8080/"
        },
        "id": "yBIQVn2ayo1W",
        "outputId": "0ccff285-07ce-42d6-84f0-320d715e4edb"
      },
      "source": [
        "# Train\n",
        "batch_size = 32\n",
        "epochs = 100\n",
        "\n",
        "my_callbacks = [\n",
        "    tf.keras.callbacks.EarlyStopping(patience=5, monitor='loss')\n",
        "]\n",
        "\n",
        "history = autoencoder.fit(train_data, train_data, \n",
        "          epochs=epochs, \n",
        "          batch_size=batch_size,\n",
        "          validation_data=(test_data, test_data))#,\n",
        "          #callbacks=my_callbacks)"
      ],
      "execution_count": 438,
      "outputs": [
        {
          "output_type": "stream",
          "text": [
            "Epoch 1/100\n",
            "55/55 [==============================] - 5s 35ms/step - loss: 0.3680 - val_loss: 0.1602\n",
            "Epoch 2/100\n",
            "55/55 [==============================] - 1s 20ms/step - loss: 0.0483 - val_loss: 0.0792\n",
            "Epoch 3/100\n",
            "55/55 [==============================] - 1s 23ms/step - loss: 0.0226 - val_loss: 0.0445\n",
            "Epoch 4/100\n",
            "55/55 [==============================] - 1s 20ms/step - loss: 0.0130 - val_loss: 0.0303\n",
            "Epoch 5/100\n",
            "55/55 [==============================] - 1s 20ms/step - loss: 0.0089 - val_loss: 0.0237\n",
            "Epoch 6/100\n",
            "55/55 [==============================] - 1s 20ms/step - loss: 0.0070 - val_loss: 0.0202\n",
            "Epoch 7/100\n",
            "55/55 [==============================] - 1s 20ms/step - loss: 0.0060 - val_loss: 0.0182\n",
            "Epoch 8/100\n",
            "55/55 [==============================] - 1s 20ms/step - loss: 0.0052 - val_loss: 0.0165\n",
            "Epoch 9/100\n",
            "55/55 [==============================] - 1s 20ms/step - loss: 0.0047 - val_loss: 0.0153\n",
            "Epoch 10/100\n",
            "55/55 [==============================] - 1s 20ms/step - loss: 0.0043 - val_loss: 0.0142\n",
            "Epoch 11/100\n",
            "55/55 [==============================] - 1s 20ms/step - loss: 0.0039 - val_loss: 0.0132\n",
            "Epoch 12/100\n",
            "55/55 [==============================] - 1s 20ms/step - loss: 0.0036 - val_loss: 0.0126\n",
            "Epoch 13/100\n",
            "55/55 [==============================] - 1s 20ms/step - loss: 0.0035 - val_loss: 0.0119\n",
            "Epoch 14/100\n",
            "55/55 [==============================] - 1s 20ms/step - loss: 0.0032 - val_loss: 0.0115\n",
            "Epoch 15/100\n",
            "55/55 [==============================] - 1s 20ms/step - loss: 0.0031 - val_loss: 0.0109\n",
            "Epoch 16/100\n",
            "55/55 [==============================] - 1s 20ms/step - loss: 0.0029 - val_loss: 0.0102\n",
            "Epoch 17/100\n",
            "55/55 [==============================] - 1s 20ms/step - loss: 0.0027 - val_loss: 0.0097\n",
            "Epoch 18/100\n",
            "55/55 [==============================] - 1s 20ms/step - loss: 0.0027 - val_loss: 0.0096\n",
            "Epoch 19/100\n",
            "55/55 [==============================] - 1s 20ms/step - loss: 0.0024 - val_loss: 0.0089\n",
            "Epoch 20/100\n",
            "55/55 [==============================] - 1s 20ms/step - loss: 0.0023 - val_loss: 0.0086\n",
            "Epoch 21/100\n",
            "55/55 [==============================] - 1s 20ms/step - loss: 0.0023 - val_loss: 0.0085\n",
            "Epoch 22/100\n",
            "55/55 [==============================] - 1s 20ms/step - loss: 0.0021 - val_loss: 0.0081\n",
            "Epoch 23/100\n",
            "55/55 [==============================] - 1s 20ms/step - loss: 0.0020 - val_loss: 0.0078\n",
            "Epoch 24/100\n",
            "55/55 [==============================] - 1s 20ms/step - loss: 0.0021 - val_loss: 0.0076\n",
            "Epoch 25/100\n",
            "55/55 [==============================] - 1s 20ms/step - loss: 0.0020 - val_loss: 0.0073\n",
            "Epoch 26/100\n",
            "55/55 [==============================] - 1s 20ms/step - loss: 0.0018 - val_loss: 0.0070\n",
            "Epoch 27/100\n",
            "55/55 [==============================] - 1s 20ms/step - loss: 0.0018 - val_loss: 0.0068\n",
            "Epoch 28/100\n",
            "55/55 [==============================] - 1s 20ms/step - loss: 0.0018 - val_loss: 0.0067\n",
            "Epoch 29/100\n",
            "55/55 [==============================] - 1s 20ms/step - loss: 0.0018 - val_loss: 0.0065\n",
            "Epoch 30/100\n",
            "55/55 [==============================] - 1s 20ms/step - loss: 0.0016 - val_loss: 0.0063\n",
            "Epoch 31/100\n",
            "55/55 [==============================] - 1s 20ms/step - loss: 0.0015 - val_loss: 0.0060\n",
            "Epoch 32/100\n",
            "55/55 [==============================] - 1s 20ms/step - loss: 0.0016 - val_loss: 0.0060\n",
            "Epoch 33/100\n",
            "55/55 [==============================] - 1s 21ms/step - loss: 0.0015 - val_loss: 0.0057\n",
            "Epoch 34/100\n",
            "55/55 [==============================] - 1s 20ms/step - loss: 0.0015 - val_loss: 0.0058\n",
            "Epoch 35/100\n",
            "55/55 [==============================] - 1s 21ms/step - loss: 0.0015 - val_loss: 0.0054\n",
            "Epoch 36/100\n",
            "55/55 [==============================] - 1s 21ms/step - loss: 0.0014 - val_loss: 0.0052\n",
            "Epoch 37/100\n",
            "55/55 [==============================] - 1s 21ms/step - loss: 0.0014 - val_loss: 0.0051\n",
            "Epoch 38/100\n",
            "55/55 [==============================] - 1s 20ms/step - loss: 0.0013 - val_loss: 0.0051\n",
            "Epoch 39/100\n",
            "55/55 [==============================] - 1s 20ms/step - loss: 0.0014 - val_loss: 0.0050\n",
            "Epoch 40/100\n",
            "55/55 [==============================] - 1s 21ms/step - loss: 0.0012 - val_loss: 0.0048\n",
            "Epoch 41/100\n",
            "55/55 [==============================] - 1s 21ms/step - loss: 0.0013 - val_loss: 0.0046\n",
            "Epoch 42/100\n",
            "55/55 [==============================] - 1s 20ms/step - loss: 0.0012 - val_loss: 0.0045\n",
            "Epoch 43/100\n",
            "55/55 [==============================] - 1s 20ms/step - loss: 0.0012 - val_loss: 0.0046\n",
            "Epoch 44/100\n",
            "55/55 [==============================] - 1s 20ms/step - loss: 0.0011 - val_loss: 0.0045\n",
            "Epoch 45/100\n",
            "55/55 [==============================] - 1s 20ms/step - loss: 0.0011 - val_loss: 0.0042\n",
            "Epoch 46/100\n",
            "55/55 [==============================] - 1s 20ms/step - loss: 0.0011 - val_loss: 0.0041\n",
            "Epoch 47/100\n",
            "55/55 [==============================] - 1s 21ms/step - loss: 0.0011 - val_loss: 0.0041\n",
            "Epoch 48/100\n",
            "55/55 [==============================] - 1s 20ms/step - loss: 0.0011 - val_loss: 0.0039\n",
            "Epoch 49/100\n",
            "55/55 [==============================] - 1s 20ms/step - loss: 9.8309e-04 - val_loss: 0.0039\n",
            "Epoch 50/100\n",
            "55/55 [==============================] - 1s 20ms/step - loss: 9.7736e-04 - val_loss: 0.0037\n",
            "Epoch 51/100\n",
            "55/55 [==============================] - 1s 20ms/step - loss: 0.0011 - val_loss: 0.0037\n",
            "Epoch 52/100\n",
            "55/55 [==============================] - 1s 20ms/step - loss: 8.9130e-04 - val_loss: 0.0036\n",
            "Epoch 53/100\n",
            "55/55 [==============================] - 1s 20ms/step - loss: 9.4038e-04 - val_loss: 0.0036\n",
            "Epoch 54/100\n",
            "55/55 [==============================] - 1s 20ms/step - loss: 8.7751e-04 - val_loss: 0.0035\n",
            "Epoch 55/100\n",
            "55/55 [==============================] - 1s 21ms/step - loss: 9.1790e-04 - val_loss: 0.0035\n",
            "Epoch 56/100\n",
            "55/55 [==============================] - 1s 20ms/step - loss: 8.6256e-04 - val_loss: 0.0033\n",
            "Epoch 57/100\n",
            "55/55 [==============================] - 1s 23ms/step - loss: 8.6795e-04 - val_loss: 0.0032\n",
            "Epoch 58/100\n",
            "55/55 [==============================] - 1s 20ms/step - loss: 7.6267e-04 - val_loss: 0.0032\n",
            "Epoch 59/100\n",
            "55/55 [==============================] - 1s 20ms/step - loss: 8.8824e-04 - val_loss: 0.0032\n",
            "Epoch 60/100\n",
            "55/55 [==============================] - 1s 20ms/step - loss: 7.9649e-04 - val_loss: 0.0030\n",
            "Epoch 61/100\n",
            "55/55 [==============================] - 1s 20ms/step - loss: 7.2100e-04 - val_loss: 0.0030\n",
            "Epoch 62/100\n",
            "55/55 [==============================] - 1s 21ms/step - loss: 7.5608e-04 - val_loss: 0.0029\n",
            "Epoch 63/100\n",
            "55/55 [==============================] - 1s 20ms/step - loss: 7.6194e-04 - val_loss: 0.0028\n",
            "Epoch 64/100\n",
            "55/55 [==============================] - 1s 20ms/step - loss: 7.1491e-04 - val_loss: 0.0028\n",
            "Epoch 65/100\n",
            "55/55 [==============================] - 1s 20ms/step - loss: 7.2280e-04 - val_loss: 0.0028\n",
            "Epoch 66/100\n",
            "55/55 [==============================] - 1s 20ms/step - loss: 8.0084e-04 - val_loss: 0.0027\n",
            "Epoch 67/100\n",
            "55/55 [==============================] - 1s 21ms/step - loss: 6.6171e-04 - val_loss: 0.0027\n",
            "Epoch 68/100\n",
            "55/55 [==============================] - 1s 20ms/step - loss: 6.1694e-04 - val_loss: 0.0026\n",
            "Epoch 69/100\n",
            "55/55 [==============================] - 1s 20ms/step - loss: 6.7893e-04 - val_loss: 0.0026\n",
            "Epoch 70/100\n",
            "55/55 [==============================] - 1s 21ms/step - loss: 6.8777e-04 - val_loss: 0.0026\n",
            "Epoch 71/100\n",
            "55/55 [==============================] - 1s 20ms/step - loss: 6.5280e-04 - val_loss: 0.0028\n",
            "Epoch 72/100\n",
            "55/55 [==============================] - 1s 20ms/step - loss: 6.5121e-04 - val_loss: 0.0025\n",
            "Epoch 73/100\n",
            "55/55 [==============================] - 1s 20ms/step - loss: 6.1172e-04 - val_loss: 0.0024\n",
            "Epoch 74/100\n",
            "55/55 [==============================] - 1s 20ms/step - loss: 6.4560e-04 - val_loss: 0.0025\n",
            "Epoch 75/100\n",
            "55/55 [==============================] - 1s 20ms/step - loss: 5.7479e-04 - val_loss: 0.0023\n",
            "Epoch 76/100\n",
            "55/55 [==============================] - 1s 21ms/step - loss: 6.6591e-04 - val_loss: 0.0023\n",
            "Epoch 77/100\n",
            "55/55 [==============================] - 1s 20ms/step - loss: 5.5216e-04 - val_loss: 0.0022\n",
            "Epoch 78/100\n",
            "55/55 [==============================] - 1s 21ms/step - loss: 6.3837e-04 - val_loss: 0.0022\n",
            "Epoch 79/100\n",
            "55/55 [==============================] - 1s 20ms/step - loss: 6.2927e-04 - val_loss: 0.0022\n",
            "Epoch 80/100\n",
            "55/55 [==============================] - 1s 21ms/step - loss: 5.5965e-04 - val_loss: 0.0023\n",
            "Epoch 81/100\n",
            "55/55 [==============================] - 1s 21ms/step - loss: 5.5387e-04 - val_loss: 0.0022\n",
            "Epoch 82/100\n",
            "55/55 [==============================] - 1s 21ms/step - loss: 5.8991e-04 - val_loss: 0.0021\n",
            "Epoch 83/100\n",
            "55/55 [==============================] - 1s 21ms/step - loss: 5.5922e-04 - val_loss: 0.0020\n",
            "Epoch 84/100\n",
            "55/55 [==============================] - 1s 21ms/step - loss: 5.3881e-04 - val_loss: 0.0020\n",
            "Epoch 85/100\n",
            "55/55 [==============================] - 1s 21ms/step - loss: 5.5077e-04 - val_loss: 0.0021\n",
            "Epoch 86/100\n",
            "55/55 [==============================] - 1s 20ms/step - loss: 5.1843e-04 - val_loss: 0.0021\n",
            "Epoch 87/100\n",
            "55/55 [==============================] - 1s 21ms/step - loss: 5.9084e-04 - val_loss: 0.0020\n",
            "Epoch 88/100\n",
            "55/55 [==============================] - 1s 21ms/step - loss: 4.9412e-04 - val_loss: 0.0020\n",
            "Epoch 89/100\n",
            "55/55 [==============================] - 1s 21ms/step - loss: 4.9687e-04 - val_loss: 0.0020\n",
            "Epoch 90/100\n",
            "55/55 [==============================] - 1s 21ms/step - loss: 5.4315e-04 - val_loss: 0.0023\n",
            "Epoch 91/100\n",
            "55/55 [==============================] - 1s 20ms/step - loss: 5.3419e-04 - val_loss: 0.0020\n",
            "Epoch 92/100\n",
            "55/55 [==============================] - 1s 21ms/step - loss: 4.8309e-04 - val_loss: 0.0019\n",
            "Epoch 93/100\n",
            "55/55 [==============================] - 1s 20ms/step - loss: 5.4011e-04 - val_loss: 0.0019\n",
            "Epoch 94/100\n",
            "55/55 [==============================] - 1s 21ms/step - loss: 4.7365e-04 - val_loss: 0.0018\n",
            "Epoch 95/100\n",
            "55/55 [==============================] - 1s 21ms/step - loss: 4.9216e-04 - val_loss: 0.0019\n",
            "Epoch 96/100\n",
            "55/55 [==============================] - 1s 21ms/step - loss: 4.8880e-04 - val_loss: 0.0019\n",
            "Epoch 97/100\n",
            "55/55 [==============================] - 1s 21ms/step - loss: 5.0373e-04 - val_loss: 0.0019\n",
            "Epoch 98/100\n",
            "55/55 [==============================] - 1s 21ms/step - loss: 4.6053e-04 - val_loss: 0.0019\n",
            "Epoch 99/100\n",
            "55/55 [==============================] - 1s 21ms/step - loss: 5.3248e-04 - val_loss: 0.0017\n",
            "Epoch 100/100\n",
            "55/55 [==============================] - 1s 20ms/step - loss: 4.0748e-04 - val_loss: 0.0018\n"
          ],
          "name": "stdout"
        }
      ]
    },
    {
      "cell_type": "code",
      "metadata": {
        "colab": {
          "base_uri": "https://localhost:8080/",
          "height": 282
        },
        "id": "XfgVIDyeLxWg",
        "outputId": "4e121f67-75ad-44b6-af0c-271976534efb"
      },
      "source": [
        "plt.plot(history.history[\"loss\"], label=\"Training Loss\")\n",
        "plt.plot(history.history[\"val_loss\"], label=\"Validation Loss\")\n",
        "plt.legend()"
      ],
      "execution_count": 439,
      "outputs": [
        {
          "output_type": "execute_result",
          "data": {
            "text/plain": [
              "<matplotlib.legend.Legend at 0x7f4b4359c150>"
            ]
          },
          "metadata": {},
          "execution_count": 439
        },
        {
          "output_type": "display_data",
          "data": {
            "image/png": "[encoded data removed]",
            "text/plain": [
              "<Figure size 432x288 with 1 Axes>"
            ]
          },
          "metadata": {
            "needs_background": "light"
          }
        }
      ]
    },
    {
      "cell_type": "code",
      "metadata": {
        "colab": {
          "base_uri": "https://localhost:8080/"
        },
        "id": "wh0pxMupq_Mv",
        "outputId": "c7721698-536c-4d88-c3ca-af39fbb12165"
      },
      "source": [
        "autoencoder.model().summary()"
      ],
      "execution_count": 440,
      "outputs": [
        {
          "output_type": "stream",
          "text": [
            "Model: \"model_23\"\n",
            "_________________________________________________________________\n",
            "Layer (type)                 Output Shape              Param #   \n",
            "=================================================================\n",
            "input_24 (InputLayer)        [(None, 500, 1)]          0         \n",
            "_________________________________________________________________\n",
            "zero_padding1d_53 (ZeroPaddi (None, 512, 1)            0         \n",
            "_________________________________________________________________\n",
            "conv1d_153 (Conv1D)          (None, 512, 32)           128       \n",
            "_________________________________________________________________\n",
            "max_pooling1d_72 (MaxPooling (None, 256, 32)           0         \n",
            "_________________________________________________________________\n",
            "conv1d_154 (Conv1D)          (None, 256, 64)           6208      \n",
            "_________________________________________________________________\n",
            "max_pooling1d_73 (MaxPooling (None, 128, 64)           0         \n",
            "_________________________________________________________________\n",
            "conv1d_155 (Conv1D)          (None, 128, 128)          24704     \n",
            "_________________________________________________________________\n",
            "max_pooling1d_74 (MaxPooling (None, 64, 128)           0         \n",
            "_________________________________________________________________\n",
            "conv1d_156 (Conv1D)          (None, 64, 128)           49280     \n",
            "_________________________________________________________________\n",
            "up_sampling1d_72 (UpSampling (None, 128, 128)          0         \n",
            "_________________________________________________________________\n",
            "conv1d_157 (Conv1D)          (None, 128, 64)           24640     \n",
            "_________________________________________________________________\n",
            "up_sampling1d_73 (UpSampling (None, 256, 64)           0         \n",
            "_________________________________________________________________\n",
            "conv1d_158 (Conv1D)          (None, 256, 32)           6176      \n",
            "_________________________________________________________________\n",
            "up_sampling1d_74 (UpSampling (None, 512, 32)           0         \n",
            "_________________________________________________________________\n",
            "cropping1d_53 (Cropping1D)   (None, 500, 32)           0         \n",
            "_________________________________________________________________\n",
            "conv1d_159 (Conv1D)          (None, 500, 1)            97        \n",
            "=================================================================\n",
            "Total params: 111,233\n",
            "Trainable params: 111,233\n",
            "Non-trainable params: 0\n",
            "_________________________________________________________________\n"
          ],
          "name": "stdout"
        }
      ]
    },
    {
      "cell_type": "markdown",
      "metadata": {
        "id": "yN4ydHR6lnUj"
      },
      "source": [
        "# Reconstruction examples"
      ]
    },
    {
      "cell_type": "markdown",
      "metadata": {
        "id": "NFN9dc-wSAVz"
      },
      "source": [
        "## Positive Class"
      ]
    },
    {
      "cell_type": "code",
      "metadata": {
        "colab": {
          "base_uri": "https://localhost:8080/",
          "height": 265
        },
        "id": "TT6L8-Nl4mRw",
        "outputId": "c0e508b7-a58d-434a-bc10-cb2a82e8bb6f"
      },
      "source": [
        "encoded_data = autoencoder.encoder(positive_test_data).numpy()\n",
        "decoded_data = autoencoder.decoder(encoded_data).numpy().squeeze()\n",
        "\n",
        "plt.plot(positive_test_data[0], 'b')\n",
        "plt.plot(decoded_data[0], 'r')\n",
        "plt.fill_between(np.arange(serie_length), decoded_data[0], \n",
        "                 np.squeeze(positive_test_data[0]), color='lightcoral')\n",
        "plt.legend(labels=[\"Input\", \"Reconstruction\", \"Error\"])\n",
        "plt.show()"
      ],
      "execution_count": 441,
      "outputs": [
        {
          "output_type": "display_data",
          "data": {
            "image/png": "[encoded data removed]",
            "text/plain": [
              "<Figure size 432x288 with 1 Axes>"
            ]
          },
          "metadata": {
            "needs_background": "light"
          }
        }
      ]
    },
    {
      "cell_type": "markdown",
      "metadata": {
        "id": "wPy3kAMRSCk6"
      },
      "source": [
        "## Negative Class"
      ]
    },
    {
      "cell_type": "code",
      "metadata": {
        "colab": {
          "base_uri": "https://localhost:8080/",
          "height": 265
        },
        "id": "sYTUCg2jSEPE",
        "outputId": "2b257828-fe15-470c-b88b-a3caeae7c212"
      },
      "source": [
        "encoded_data = autoencoder.encoder(negative_test_data).numpy()\n",
        "decoded_data = autoencoder.decoder(encoded_data).numpy().squeeze()\n",
        "\n",
        "plt.plot(negative_test_data[0], 'b')\n",
        "plt.plot(decoded_data[0], 'r')\n",
        "plt.fill_between(np.arange(serie_length), decoded_data[0], \n",
        "                 np.squeeze(negative_test_data[0]), color='lightcoral')\n",
        "plt.legend(labels=[\"Input\", \"Reconstruction\", \"Error\"])\n",
        "plt.show()"
      ],
      "execution_count": 442,
      "outputs": [
        {
          "output_type": "display_data",
          "data": {
            "image/png": "[encoded data removed]",
            "text/plain": [
              "<Figure size 432x288 with 1 Axes>"
            ]
          },
          "metadata": {
            "needs_background": "light"
          }
        }
      ]
    },
    {
      "cell_type": "markdown",
      "metadata": {
        "id": "nkfT81Q5SQhL"
      },
      "source": [
        "# Reconstruction Error Histogram"
      ]
    },
    {
      "cell_type": "markdown",
      "metadata": {
        "id": "-4njlmfXSV9l"
      },
      "source": [
        "## Train "
      ]
    },
    {
      "cell_type": "code",
      "metadata": {
        "colab": {
          "base_uri": "https://localhost:8080/",
          "height": 279
        },
        "id": "OqitKAkRSYtC",
        "outputId": "ca2605a8-d444-4a96-fbea-dcd9c31e4a4e"
      },
      "source": [
        "reconstructions = autoencoder.predict(train_data).squeeze()\n",
        "train_loss = tf.keras.losses.mse(reconstructions, train_data.numpy().squeeze())\n",
        "\n",
        "plt.hist(train_loss[None,:], bins=50)\n",
        "plt.xlabel(\"Train loss\")\n",
        "plt.ylabel(\"No of examples\")\n",
        "plt.show()"
      ],
      "execution_count": 443,
      "outputs": [
        {
          "output_type": "display_data",
          "data": {
            "image/png": "[encoded data removed]",
            "text/plain": [
              "<Figure size 432x288 with 1 Axes>"
            ]
          },
          "metadata": {
            "needs_background": "light"
          }
        }
      ]
    },
    {
      "cell_type": "markdown",
      "metadata": {
        "id": "IaTOt5tRTQUW"
      },
      "source": [
        "## Test - Negative Class"
      ]
    },
    {
      "cell_type": "code",
      "metadata": {
        "colab": {
          "base_uri": "https://localhost:8080/",
          "height": 279
        },
        "id": "YhnmugJeTVvf",
        "outputId": "b8130da7-2c95-4b2f-d63c-835500c00030"
      },
      "source": [
        "reconstructions = autoencoder.predict(negative_test_data).squeeze()\n",
        "negative_test_loss = tf.keras.losses.mse(reconstructions, \n",
        "                                 negative_test_data.numpy().squeeze())\n",
        "\n",
        "plt.hist(negative_test_loss[None,:], bins=50)\n",
        "plt.xlabel(\"Test loss - Negative Class\")\n",
        "plt.ylabel(\"No of examples\")\n",
        "plt.show()"
      ],
      "execution_count": 444,
      "outputs": [
        {
          "output_type": "display_data",
          "data": {
            "image/png": "[encoded data removed]",
            "text/plain": [
              "<Figure size 432x288 with 1 Axes>"
            ]
          },
          "metadata": {
            "needs_background": "light"
          }
        }
      ]
    },
    {
      "cell_type": "markdown",
      "metadata": {
        "id": "4BuROpikcjRA"
      },
      "source": [
        "## Test - Positive Class"
      ]
    },
    {
      "cell_type": "code",
      "metadata": {
        "colab": {
          "base_uri": "https://localhost:8080/",
          "height": 279
        },
        "id": "P7L7KOJ6V95B",
        "outputId": "00751147-cd1d-46c6-d6c2-ba2be25ab83d"
      },
      "source": [
        "reconstructions = autoencoder.predict(positive_test_data).squeeze()\n",
        "positive_test_loss = tf.keras.losses.mse(reconstructions, \n",
        "                                 positive_test_data.numpy().squeeze())\n",
        "\n",
        "plt.hist(positive_test_loss[None,:], bins=50)\n",
        "plt.xlabel(\"Test loss - Positive Class\")\n",
        "plt.ylabel(\"No of examples\")\n",
        "plt.show()"
      ],
      "execution_count": 445,
      "outputs": [
        {
          "output_type": "display_data",
          "data": {
            "image/png": "[encoded data removed]",
            "text/plain": [
              "<Figure size 432x288 with 1 Axes>"
            ]
          },
          "metadata": {
            "needs_background": "light"
          }
        }
      ]
    },
    {
      "cell_type": "markdown",
      "metadata": {
        "id": "CBV_46b6MPgj"
      },
      "source": [
        "# Threshold Definition and OCC Task\n",
        "\n",
        "\n",
        "\n",
        "\n",
        "\n",
        "\n"
      ]
    },
    {
      "cell_type": "code",
      "metadata": {
        "id": "LgNdWKXXT5Hl"
      },
      "source": [
        "def predict(model, data, threshold):\n",
        "  reconstructions = model(data)\n",
        "  reconstructions = reconstructions.numpy().squeeze()\n",
        "  data = data.numpy().squeeze()\n",
        "  loss = tf.keras.losses.mse(reconstructions, data)\n",
        "  return tf.math.less_equal(loss, threshold)\n",
        "\n",
        "def print_stats(predictions, labels):\n",
        "  print(\"Accuracy = %.2f\"  % (accuracy_score(labels, predictions)  *100) + \"%\")\n",
        "  print(\"Precision = %.2f\" % (precision_score(labels, predictions) *100) + \"%\")\n",
        "  print(\"Recall = %.2f\"    % (recall_score(labels, predictions)    *100) + \"%\")\n",
        "  print(\"F1-Score = %.2f\"  % (f1_score(labels, predictions)        *100) + \"%\")"
      ],
      "execution_count": 446,
      "outputs": []
    },
    {
      "cell_type": "code",
      "metadata": {
        "colab": {
          "base_uri": "https://localhost:8080/"
        },
        "id": "LxV8cYkBT8Wr",
        "outputId": "b30f28b2-a3e3-4090-9251-d7c8ed04411a"
      },
      "source": [
        "sigma_list = [0, 1, 2, 3, 4, 5]\n",
        "mean = np.mean(train_loss)\n",
        "std_dev = np.std(train_loss)\n",
        "\n",
        "for sigma in sigma_list:\n",
        "    threshold = mean + sigma*std_dev\n",
        "    print(\"Threshold:\", threshold)\n",
        "    preds = predict(autoencoder, test_data, threshold)\n",
        "    print_stats(preds, occ_labels)\n",
        "    print()"
      ],
      "execution_count": 447,
      "outputs": [
        {
          "output_type": "stream",
          "text": [
            "Threshold: 0.000423893507104367\n",
            "Accuracy = 64.24%\n",
            "Precision = 62.56%\n",
            "Recall = 65.10%\n",
            "F1-Score = 63.80%\n",
            "\n",
            "Threshold: 0.0007040048367343843\n",
            "Accuracy = 71.36%\n",
            "Precision = 64.98%\n",
            "Recall = 88.58%\n",
            "F1-Score = 74.97%\n",
            "\n",
            "Threshold: 0.0009841161663644016\n",
            "Accuracy = 72.73%\n",
            "Precision = 64.82%\n",
            "Recall = 95.46%\n",
            "F1-Score = 77.22%\n",
            "\n",
            "Threshold: 0.0012642274959944189\n",
            "Accuracy = 72.50%\n",
            "Precision = 64.08%\n",
            "Recall = 98.28%\n",
            "F1-Score = 77.58%\n",
            "\n",
            "Threshold: 0.0015443388256244361\n",
            "Accuracy = 71.29%\n",
            "Precision = 62.95%\n",
            "Recall = 98.90%\n",
            "F1-Score = 76.93%\n",
            "\n",
            "Threshold: 0.0018244501552544534\n",
            "Accuracy = 70.83%\n",
            "Precision = 62.50%\n",
            "Recall = 99.37%\n",
            "F1-Score = 76.74%\n",
            "\n"
          ],
          "name": "stdout"
        }
      ]
    },
    {
      "cell_type": "code",
      "metadata": {
        "colab": {
          "base_uri": "https://localhost:8080/"
        },
        "id": "Eko-Qk0iCkGr",
        "outputId": "74669ccf-6d79-4e82-a731-05300adf35fe"
      },
      "source": [
        "preds = predict(autoencoder, test_data, 0.001)\n",
        "print_stats(preds, occ_labels)"
      ],
      "execution_count": 448,
      "outputs": [
        {
          "output_type": "stream",
          "text": [
            "Accuracy = 72.88%\n",
            "Precision = 64.87%\n",
            "Recall = 95.93%\n",
            "F1-Score = 77.40%\n"
          ],
          "name": "stdout"
        }
      ]
    }
  ]
}