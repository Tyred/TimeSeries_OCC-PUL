{
  "nbformat": 4,
  "nbformat_minor": 0,
  "metadata": {
    "colab": {
      "name": "OC-SVM.ipynb",
      "provenance": [],
      "collapsed_sections": [],
      "mount_file_id": "1MzheYjB3Q5jiFr1Pinw1EYg-TcBTazjF",
      "authorship_tag": "ABX9TyNW52+ofAGHUW1sfEdHTjqO",
      "include_colab_link": true
    },
    "kernelspec": {
      "name": "python3",
      "display_name": "Python 3"
    },
    "language_info": {
      "name": "python"
    },
    "accelerator": "GPU"
  },
  "cells": [
    {
      "cell_type": "markdown",
      "metadata": {
        "id": "view-in-github",
        "colab_type": "text"
      },
      "source": [
        "<a href=\"https://colab.research.google.com/github/Tyred/TimeSeries_OCC-PUL/blob/main/Notebooks/OC_SVM.ipynb\" target=\"_parent\"><img src=\"https://colab.research.google.com/assets/colab-badge.svg\" alt=\"Open In Colab\"/></a>"
      ]
    },
    {
      "cell_type": "markdown",
      "metadata": {
        "id": "Emi8F7ZFdSrK"
      },
      "source": [
        "## Imports"
      ]
    },
    {
      "cell_type": "code",
      "metadata": {
        "id": "nnoW8j3yNpuZ"
      },
      "source": [
        "%matplotlib inline\n",
        "import numpy as np\n",
        "import matplotlib.pyplot as plt\n",
        "\n",
        "from sklearn.svm import OneClassSVM\n",
        "from sklearn.metrics import precision_score, accuracy_score, recall_score, f1_score\n",
        "\n",
        "import tensorflow as tf\n",
        "from tensorflow import keras\n",
        "\n",
        "from sklearn.decomposition import PCA\n",
        "from sklearn.manifold import MDS"
      ],
      "execution_count": 580,
      "outputs": []
    },
    {
      "cell_type": "markdown",
      "metadata": {
        "id": "6y-sBkgCb8GM"
      },
      "source": [
        "## Reading the dataset from Google Drive\n"
      ]
    },
    {
      "cell_type": "code",
      "metadata": {
        "id": "hn5JbVRONu1T",
        "colab": {
          "base_uri": "https://localhost:8080/"
        },
        "outputId": "fa9ddcce-1268-42b6-e4d7-2138b5957b8d"
      },
      "source": [
        "path = 'drive/My Drive/UFSCar/FAPESP/IC/Data/UCRArchive_2018'\n",
        "\n",
        "dataset = input('Dataset: ')\n",
        "\n",
        "tr_data = np.genfromtxt(path + \"/\" + dataset + \"/\" + dataset + \"_TRAIN.tsv\", delimiter=\"\\t\",)\n",
        "te_data = np.genfromtxt(path + \"/\" + dataset + \"/\" + dataset + \"_TEST.tsv\", delimiter=\"\\t\",)\n",
        "\n",
        "labels = te_data[:, 0]\n",
        "print(\"Labels:\", np.unique(labels))"
      ],
      "execution_count": 581,
      "outputs": [
        {
          "output_type": "stream",
          "text": [
            "Dataset: Earthquakes\n",
            "Labels: [0. 1.]\n"
          ],
          "name": "stdout"
        }
      ]
    },
    {
      "cell_type": "markdown",
      "metadata": {
        "id": "R0l2RpHUcHaB"
      },
      "source": [
        "## Splitting in Train-Test data"
      ]
    },
    {
      "cell_type": "code",
      "metadata": {
        "id": "xLaE6_vANwQL",
        "colab": {
          "base_uri": "https://localhost:8080/"
        },
        "outputId": "95f1f3a8-219b-401c-cdfa-09a245794887"
      },
      "source": [
        "class_label = int(input('Positive class label: '))\n",
        "\n",
        "train_data  = tr_data[tr_data[:, 0] == class_label, 1:] # train\n",
        "test_data   = te_data[:, 1:]                            # test\n",
        "\n",
        "print(\"Train data shape:\", train_data.shape)\n",
        "print(\"Test data shape:\", test_data.shape)"
      ],
      "execution_count": 582,
      "outputs": [
        {
          "output_type": "stream",
          "text": [
            "Positive class label: 0\n",
            "Train data shape: (264, 512)\n",
            "Test data shape: (139, 512)\n"
          ],
          "name": "stdout"
        }
      ]
    },
    {
      "cell_type": "markdown",
      "metadata": {
        "id": "UcC1Ru1McR5b"
      },
      "source": [
        "## Labeling for OCC Task\n",
        "<li> Label 1 for positive class </li>\n",
        "<li> Label -1 for other class(es) </li>"
      ]
    },
    {
      "cell_type": "code",
      "metadata": {
        "id": "wEFEYrdWOHl_",
        "colab": {
          "base_uri": "https://localhost:8080/"
        },
        "outputId": "8d26296a-004c-40fe-d7a8-df263ceefa78"
      },
      "source": [
        "occ_labels = [1 if x == class_label else -1 for x in labels]\n",
        "print(\"Positive samples:\", occ_labels.count(1))\n",
        "print(\"Negative samples:\", occ_labels.count(-1))"
      ],
      "execution_count": 583,
      "outputs": [
        {
          "output_type": "stream",
          "text": [
            "Positive samples: 104\n",
            "Negative samples: 35\n"
          ],
          "name": "stdout"
        }
      ]
    },
    {
      "cell_type": "markdown",
      "metadata": {
        "id": "G-Pi8UleecbW"
      },
      "source": [
        "# MDS Plot "
      ]
    },
    {
      "cell_type": "code",
      "metadata": {
        "colab": {
          "base_uri": "https://localhost:8080/"
        },
        "id": "gVJivoUqHHer",
        "outputId": "e8121822-002d-4877-a080-01dbc5ea994e"
      },
      "source": [
        "embedding = MDS(n_components=2, random_state=42)\n",
        "mds_data = embedding.fit_transform(train_data)\n",
        "mds_test = embedding.fit_transform(test_data)\n",
        "print(mds_data.shape)\n",
        "print(mds_test.shape)"
      ],
      "execution_count": 584,
      "outputs": [
        {
          "output_type": "stream",
          "text": [
            "(264, 2)\n",
            "(139, 2)\n"
          ],
          "name": "stdout"
        }
      ]
    },
    {
      "cell_type": "markdown",
      "metadata": {
        "id": "HuY7WPf3egU0"
      },
      "source": [
        "## Train"
      ]
    },
    {
      "cell_type": "code",
      "metadata": {
        "colab": {
          "base_uri": "https://localhost:8080/",
          "height": 281
        },
        "id": "3f3Wx0XRGqM3",
        "outputId": "c1ad80a0-0f6a-4fb4-860e-ab830db3d731"
      },
      "source": [
        "x = [row[0] for row in mds_data]\n",
        "y = [row[1] for row in mds_data]\n",
        "\n",
        "plt.plot(x, y, 'x',label='train data')\n",
        "plt.title('MDS Training Data')\n",
        "plt.legend()\n",
        "plt.show()"
      ],
      "execution_count": 585,
      "outputs": [
        {
          "output_type": "display_data",
          "data": {
            "image/png": "[encoded data removed]",
            "text/plain": [
              "<Figure size 432x288 with 1 Axes>"
            ]
          },
          "metadata": {
            "tags": [],
            "needs_background": "light"
          }
        }
      ]
    },
    {
      "cell_type": "markdown",
      "metadata": {
        "id": "ddWCsjXBeih3"
      },
      "source": [
        "## Test"
      ]
    },
    {
      "cell_type": "code",
      "metadata": {
        "id": "TzXgqXdHP639"
      },
      "source": [
        "negative_mds_test = np.array([x for x in mds_test[np.where(labels!=class_label)]])\n",
        "positive_mds_test = np.array([x for x in mds_test[np.where(labels==class_label)]])"
      ],
      "execution_count": 586,
      "outputs": []
    },
    {
      "cell_type": "code",
      "metadata": {
        "colab": {
          "base_uri": "https://localhost:8080/",
          "height": 281
        },
        "id": "K52-1KVCNPtR",
        "outputId": "38a375b6-4e74-4195-8710-438ef485a2a3"
      },
      "source": [
        "x_positive = [row[0] for row in positive_mds_test]\n",
        "y_positive = [row[1] for row in positive_mds_test]\n",
        "\n",
        "x_negative = [row[0] for row in negative_mds_test]\n",
        "y_negative = [row[1] for row in negative_mds_test]\n",
        "\n",
        "plt.plot(x_positive, y_positive, 'x', label='positive class', c = 'blue')\n",
        "plt.plot(x_negative, y_negative, 'o', label='negative class', c = 'red')\n",
        "plt.title('MDS Test Data')\n",
        "plt.legend()\n",
        "plt.show()"
      ],
      "execution_count": 587,
      "outputs": [
        {
          "output_type": "display_data",
          "data": {
            "image/png": "[encoded data removed]",
            "text/plain": [
              "<Figure size 432x288 with 1 Axes>"
            ]
          },
          "metadata": {
            "tags": [],
            "needs_background": "light"
          }
        }
      ]
    },
    {
      "cell_type": "markdown",
      "metadata": {
        "id": "vF69fFp98esV"
      },
      "source": [
        "# Feature extraction\n"
      ]
    },
    {
      "cell_type": "markdown",
      "metadata": {
        "id": "0to8-3vv8gn-"
      },
      "source": [
        "## PCA"
      ]
    },
    {
      "cell_type": "code",
      "metadata": {
        "id": "scNbHiyg_0qM",
        "colab": {
          "base_uri": "https://localhost:8080/",
          "height": 35
        },
        "outputId": "1c92bf05-bb29-4b8c-a90d-33c4bede521a"
      },
      "source": [
        "\"\"\"pca = PCA(svd_solver='full')\n",
        "\n",
        "train_data = pca.fit_transform(train_data)\n",
        "test_data = pca.transform(test_data)\n",
        "print(train_data.shape)\"\"\""
      ],
      "execution_count": 588,
      "outputs": [
        {
          "output_type": "execute_result",
          "data": {
            "application/vnd.google.colaboratory.intrinsic+json": {
              "type": "string"
            },
            "text/plain": [
              "\"pca = PCA(svd_solver='full')\\n\\ntrain_data = pca.fit_transform(train_data)\\ntest_data = pca.transform(test_data)\\nprint(train_data.shape)\""
            ]
          },
          "metadata": {
            "tags": []
          },
          "execution_count": 588
        }
      ]
    },
    {
      "cell_type": "markdown",
      "metadata": {
        "id": "BWmsaj478iVD"
      },
      "source": [
        "## Convolutional Autoencoder\n"
      ]
    },
    {
      "cell_type": "code",
      "metadata": {
        "id": "hQ68Z_Yn8nXy"
      },
      "source": [
        "# Convolutional Autoencoder with MaxPooling:\n",
        "class ConvAutoencoder(tf.keras.Model):\n",
        "    def __init__(self, serie_length):\n",
        "        super(ConvAutoencoder, self).__init__()\n",
        "        self.conv_1 = keras.layers.Conv1D(serie_length[0]//16, 3, activation='swish', padding='same', input_shape=(serie_length))\n",
        "        self.max_1 = keras.layers.MaxPooling1D(2, padding='same')\n",
        "        self.conv_2 = keras.layers.Conv1D(serie_length[0]//8, 3, activation='swish', padding='same')\n",
        "        self.max_2 = keras.layers.MaxPooling1D(2, padding='same')\n",
        "        self.conv_3 = keras.layers.Conv1D(1, 3, activation='swish', padding='same')\n",
        "        \n",
        "        # encoded representation\n",
        "        self.encoded = keras.layers.MaxPooling1D(2, padding='same')\n",
        "        \n",
        "        # decoder layers\n",
        "        self.conv_4 = keras.layers.Conv1D(1, 3, activation='swish', padding='same')\n",
        "        self.up_1 = keras.layers.UpSampling1D(2)\n",
        "        self.conv_5 = keras.layers.Conv1D(serie_length[0]//8, 3, activation='swish', padding='same')\n",
        "        self.up_2 = keras.layers.UpSampling1D(2)\n",
        "        self.conv_6 = keras.layers.Conv1D(serie_length[0], 3, activation='swish', padding='same')\n",
        "        self.up_3 = keras.layers.UpSampling1D(2)\n",
        "        \n",
        "        # decoded output\n",
        "        self.decoded = keras.layers.Conv1D(1, 3, activation='linear', padding='same')\n",
        "\n",
        "    def encode(self, inputs):\n",
        "        if self.padding != 0:\n",
        "            inputs = keras.layers.ZeroPadding1D(padding=(8 + 8-self.padding, 0))(inputs)\n",
        "        x = self.conv_1(inputs)\n",
        "        x = self.max_1(x)\n",
        "        x = self.conv_2(x)\n",
        "        x = self.max_2(x)\n",
        "        x = self.conv_3(x)\n",
        "        return self.encoded(x)\n",
        "    \n",
        "    def call(self, inputs):\n",
        "        self.padding = inputs.shape[1] % 8\n",
        "        x = self.encode(inputs)\n",
        "        x = self.conv_4(x)\n",
        "        x = self.up_1(x)\n",
        "        x = self.conv_5(x)\n",
        "        x = self.up_2(x)\n",
        "        x = self.conv_6(x)\n",
        "        x = self.up_3(x)\n",
        "        if self.padding != 0:\n",
        "            x = keras.layers.Cropping1D(cropping=(8 + 8-self.padding, 0))(x)\n",
        "        return self.decoded(x)\n",
        "     \n",
        "    def model(self):\n",
        "        x = keras.layers.Input(shape=(serie_length, 1))\n",
        "        return tf.keras.Model(inputs=[x], outputs=self.call(x))"
      ],
      "execution_count": 589,
      "outputs": []
    },
    {
      "cell_type": "markdown",
      "metadata": {
        "id": "YFq9IKqQ-S9T"
      },
      "source": [
        "### Initializing and training the Conv Autoencoder"
      ]
    },
    {
      "cell_type": "code",
      "metadata": {
        "colab": {
          "base_uri": "https://localhost:8080/"
        },
        "id": "SgM_5LPm-ceG",
        "outputId": "15c9c6a5-d9ab-4b29-effe-21c39bfc3ca5"
      },
      "source": [
        "serie_length = train_data.shape[1]\n",
        "model = ConvAutoencoder((serie_length, 1))\n",
        "\n",
        "model.compile(optimizer='adam', loss='mse')\n",
        "\n",
        "# Train\n",
        "batch_size = 16\n",
        "epochs = 50\n",
        "\n",
        "train_data = train_data[..., np.newaxis]\n",
        "test_data = test_data[..., np.newaxis]\n",
        "\n",
        "model.fit(train_data, train_data, epochs=epochs, batch_size=batch_size)"
      ],
      "execution_count": 590,
      "outputs": [
        {
          "output_type": "stream",
          "text": [
            "Epoch 1/50\n",
            "17/17 [==============================] - 2s 13ms/step - loss: 0.9567\n",
            "Epoch 2/50\n",
            "17/17 [==============================] - 0s 11ms/step - loss: 0.8805\n",
            "Epoch 3/50\n",
            "17/17 [==============================] - 0s 11ms/step - loss: 0.8680\n",
            "Epoch 4/50\n",
            "17/17 [==============================] - 0s 11ms/step - loss: 0.8634\n",
            "Epoch 5/50\n",
            "17/17 [==============================] - 0s 11ms/step - loss: 0.8613\n",
            "Epoch 6/50\n",
            "17/17 [==============================] - 0s 11ms/step - loss: 0.8600\n",
            "Epoch 7/50\n",
            "17/17 [==============================] - 0s 11ms/step - loss: 0.8593\n",
            "Epoch 8/50\n",
            "17/17 [==============================] - 0s 11ms/step - loss: 0.8588\n",
            "Epoch 9/50\n",
            "17/17 [==============================] - 0s 11ms/step - loss: 0.8584\n",
            "Epoch 10/50\n",
            "17/17 [==============================] - 0s 11ms/step - loss: 0.8580\n",
            "Epoch 11/50\n",
            "17/17 [==============================] - 0s 11ms/step - loss: 0.8578\n",
            "Epoch 12/50\n",
            "17/17 [==============================] - 0s 11ms/step - loss: 0.8576\n",
            "Epoch 13/50\n",
            "17/17 [==============================] - 0s 11ms/step - loss: 0.8575\n",
            "Epoch 14/50\n",
            "17/17 [==============================] - 0s 11ms/step - loss: 0.8570\n",
            "Epoch 15/50\n",
            "17/17 [==============================] - 0s 11ms/step - loss: 0.8567\n",
            "Epoch 16/50\n",
            "17/17 [==============================] - 0s 11ms/step - loss: 0.8566\n",
            "Epoch 17/50\n",
            "17/17 [==============================] - 0s 11ms/step - loss: 0.8564\n",
            "Epoch 18/50\n",
            "17/17 [==============================] - 0s 10ms/step - loss: 0.8562\n",
            "Epoch 19/50\n",
            "17/17 [==============================] - 0s 11ms/step - loss: 0.8561\n",
            "Epoch 20/50\n",
            "17/17 [==============================] - 0s 11ms/step - loss: 0.8559\n",
            "Epoch 21/50\n",
            "17/17 [==============================] - 0s 11ms/step - loss: 0.8560\n",
            "Epoch 22/50\n",
            "17/17 [==============================] - 0s 11ms/step - loss: 0.8558\n",
            "Epoch 23/50\n",
            "17/17 [==============================] - 0s 11ms/step - loss: 0.8558\n",
            "Epoch 24/50\n",
            "17/17 [==============================] - 0s 11ms/step - loss: 0.8561\n",
            "Epoch 25/50\n",
            "17/17 [==============================] - 0s 11ms/step - loss: 0.8560\n",
            "Epoch 26/50\n",
            "17/17 [==============================] - 0s 11ms/step - loss: 0.8557\n",
            "Epoch 27/50\n",
            "17/17 [==============================] - 0s 11ms/step - loss: 0.8555\n",
            "Epoch 28/50\n",
            "17/17 [==============================] - 0s 11ms/step - loss: 0.8555\n",
            "Epoch 29/50\n",
            "17/17 [==============================] - 0s 11ms/step - loss: 0.8554\n",
            "Epoch 30/50\n",
            "17/17 [==============================] - 0s 11ms/step - loss: 0.8555\n",
            "Epoch 31/50\n",
            "17/17 [==============================] - 0s 12ms/step - loss: 0.8553\n",
            "Epoch 32/50\n",
            "17/17 [==============================] - 0s 12ms/step - loss: 0.8553\n",
            "Epoch 33/50\n",
            "17/17 [==============================] - 0s 11ms/step - loss: 0.8551\n",
            "Epoch 34/50\n",
            "17/17 [==============================] - 0s 11ms/step - loss: 0.8553\n",
            "Epoch 35/50\n",
            "17/17 [==============================] - 0s 11ms/step - loss: 0.8552\n",
            "Epoch 36/50\n",
            "17/17 [==============================] - 0s 12ms/step - loss: 0.8552\n",
            "Epoch 37/50\n",
            "17/17 [==============================] - 0s 11ms/step - loss: 0.8551\n",
            "Epoch 38/50\n",
            "17/17 [==============================] - 0s 11ms/step - loss: 0.8550\n",
            "Epoch 39/50\n",
            "17/17 [==============================] - 0s 12ms/step - loss: 0.8550\n",
            "Epoch 40/50\n",
            "17/17 [==============================] - 0s 11ms/step - loss: 0.8550\n",
            "Epoch 41/50\n",
            "17/17 [==============================] - 0s 11ms/step - loss: 0.8552\n",
            "Epoch 42/50\n",
            "17/17 [==============================] - 0s 11ms/step - loss: 0.8551\n",
            "Epoch 43/50\n",
            "17/17 [==============================] - 0s 11ms/step - loss: 0.8551\n",
            "Epoch 44/50\n",
            "17/17 [==============================] - 0s 11ms/step - loss: 0.8548\n",
            "Epoch 45/50\n",
            "17/17 [==============================] - 0s 11ms/step - loss: 0.8549\n",
            "Epoch 46/50\n",
            "17/17 [==============================] - 0s 11ms/step - loss: 0.8547\n",
            "Epoch 47/50\n",
            "17/17 [==============================] - 0s 12ms/step - loss: 0.8550\n",
            "Epoch 48/50\n",
            "17/17 [==============================] - 0s 11ms/step - loss: 0.8548\n",
            "Epoch 49/50\n",
            "17/17 [==============================] - 0s 11ms/step - loss: 0.8548\n",
            "Epoch 50/50\n",
            "17/17 [==============================] - 0s 11ms/step - loss: 0.8547\n"
          ],
          "name": "stdout"
        },
        {
          "output_type": "execute_result",
          "data": {
            "text/plain": [
              "<tensorflow.python.keras.callbacks.History at 0x7f25a9a10a10>"
            ]
          },
          "metadata": {
            "tags": []
          },
          "execution_count": 590
        }
      ]
    },
    {
      "cell_type": "code",
      "metadata": {
        "colab": {
          "base_uri": "https://localhost:8080/"
        },
        "id": "Z8MD8TRkZJW7",
        "outputId": "d32e1f0b-11b5-467e-f2b2-431fe245a419"
      },
      "source": [
        "model.model().summary()"
      ],
      "execution_count": 591,
      "outputs": [
        {
          "output_type": "stream",
          "text": [
            "Model: \"model_31\"\n",
            "_________________________________________________________________\n",
            "Layer (type)                 Output Shape              Param #   \n",
            "=================================================================\n",
            "input_32 (InputLayer)        [(None, 512, 1)]          0         \n",
            "_________________________________________________________________\n",
            "conv1d_280 (Conv1D)          (None, 512, 32)           128       \n",
            "_________________________________________________________________\n",
            "max_pooling1d_120 (MaxPoolin (None, 256, 32)           0         \n",
            "_________________________________________________________________\n",
            "conv1d_281 (Conv1D)          (None, 256, 64)           6208      \n",
            "_________________________________________________________________\n",
            "max_pooling1d_121 (MaxPoolin (None, 128, 64)           0         \n",
            "_________________________________________________________________\n",
            "conv1d_282 (Conv1D)          (None, 128, 1)            193       \n",
            "_________________________________________________________________\n",
            "max_pooling1d_122 (MaxPoolin (None, 64, 1)             0         \n",
            "_________________________________________________________________\n",
            "conv1d_283 (Conv1D)          (None, 64, 1)             4         \n",
            "_________________________________________________________________\n",
            "up_sampling1d_120 (UpSamplin (None, 128, 1)            0         \n",
            "_________________________________________________________________\n",
            "conv1d_284 (Conv1D)          (None, 128, 64)           256       \n",
            "_________________________________________________________________\n",
            "up_sampling1d_121 (UpSamplin (None, 256, 64)           0         \n",
            "_________________________________________________________________\n",
            "conv1d_285 (Conv1D)          (None, 256, 512)          98816     \n",
            "_________________________________________________________________\n",
            "up_sampling1d_122 (UpSamplin (None, 512, 512)          0         \n",
            "_________________________________________________________________\n",
            "conv1d_286 (Conv1D)          (None, 512, 1)            1537      \n",
            "=================================================================\n",
            "Total params: 107,142\n",
            "Trainable params: 107,142\n",
            "Non-trainable params: 0\n",
            "_________________________________________________________________\n"
          ],
          "name": "stdout"
        }
      ]
    },
    {
      "cell_type": "markdown",
      "metadata": {
        "id": "Tuia1i6pc63Q"
      },
      "source": [
        "# Results"
      ]
    },
    {
      "cell_type": "markdown",
      "metadata": {
        "id": "fkrvRx9oeC6V"
      },
      "source": [
        "## Data extracted by the ConvAutoencoder"
      ]
    },
    {
      "cell_type": "markdown",
      "metadata": {
        "id": "q9gnUq6pfdZj"
      },
      "source": [
        "### OC-SVM Fitting"
      ]
    },
    {
      "cell_type": "code",
      "metadata": {
        "id": "F7U2LY8YPbLW"
      },
      "source": [
        "train_data_encoded = np.array(model.encode(train_data))\n",
        "train_data_encoded = np.squeeze(train_data_encoded)\n",
        "\n",
        "clf_cae = OneClassSVM(gamma='scale', nu=0.2, kernel='rbf').fit(train_data_encoded)"
      ],
      "execution_count": 592,
      "outputs": []
    },
    {
      "cell_type": "markdown",
      "metadata": {
        "id": "4EXqf35HfoZu"
      },
      "source": [
        "### Scores"
      ]
    },
    {
      "cell_type": "code",
      "metadata": {
        "id": "wXfI9NmGQKAw",
        "colab": {
          "base_uri": "https://localhost:8080/"
        },
        "outputId": "94e11d22-7039-4259-dc99-e1dc329bfef2"
      },
      "source": [
        "test_data_encoded = np.array(model.encode(test_data))\n",
        "test_data_encoded = np.squeeze(test_data_encoded)\n",
        "\n",
        "result_labels = clf_cae.predict(test_data_encoded)\n",
        "\n",
        "acc = accuracy_score(occ_labels, result_labels)\n",
        "precision = precision_score(occ_labels, result_labels)\n",
        "recall = recall_score(occ_labels, result_labels)\n",
        "f1 = f1_score(occ_labels, result_labels)\n",
        "\n",
        "print(\"Accuracy: %.2f\"  % (acc*100)       + \"%\")\n",
        "print(\"Precision: %.2f\" % (precision*100) + \"%\")\n",
        "print(\"Recall: %.2f\"    % (recall*100)    + \"%\")\n",
        "print(\"F1-Score: %.2f\"  % (f1*100)        + \"%\")"
      ],
      "execution_count": 593,
      "outputs": [
        {
          "output_type": "stream",
          "text": [
            "Accuracy: 64.75%\n",
            "Precision: 75.23%\n",
            "Recall: 78.85%\n",
            "F1-Score: 77.00%\n"
          ],
          "name": "stdout"
        }
      ]
    },
    {
      "cell_type": "markdown",
      "metadata": {
        "id": "JOpjLAoMdc8W"
      },
      "source": [
        "## Raw Data"
      ]
    },
    {
      "cell_type": "markdown",
      "metadata": {
        "id": "8bhO6UkmchYB"
      },
      "source": [
        "### OC-SVM Fitting "
      ]
    },
    {
      "cell_type": "code",
      "metadata": {
        "id": "Yml7N8ElfiVF"
      },
      "source": [
        "train_data_raw = np.squeeze(train_data)\n",
        "clf = OneClassSVM(gamma='scale', nu=0.2, kernel='rbf').fit(train_data_raw)"
      ],
      "execution_count": 594,
      "outputs": []
    },
    {
      "cell_type": "markdown",
      "metadata": {
        "id": "1jMGult_fkL6"
      },
      "source": [
        "### Scores"
      ]
    },
    {
      "cell_type": "code",
      "metadata": {
        "colab": {
          "base_uri": "https://localhost:8080/"
        },
        "id": "Hr8onWKieQ6U",
        "outputId": "1eadf556-23c6-4c7d-f271-a53e3bf1c061"
      },
      "source": [
        "test_data_raw = np.squeeze(test_data)\n",
        "result_labels = clf.predict(test_data_raw)\n",
        "\n",
        "acc = accuracy_score(occ_labels, result_labels)\n",
        "precision = precision_score(occ_labels, result_labels)\n",
        "recall = recall_score(occ_labels, result_labels)\n",
        "f1 = f1_score(occ_labels, result_labels)\n",
        "\n",
        "print(\"Accuracy: %.2f\"  % (acc*100)       + \"%\")\n",
        "print(\"Precision: %.2f\" % (precision*100) + \"%\")\n",
        "print(\"Recall: %.2f\"    % (recall*100)    + \"%\")\n",
        "print(\"F1-Score: %.2f\"  % (f1*100)        + \"%\")"
      ],
      "execution_count": 595,
      "outputs": [
        {
          "output_type": "stream",
          "text": [
            "Accuracy: 25.18%\n",
            "Precision: 0.00%\n",
            "Recall: 0.00%\n",
            "F1-Score: 0.00%\n"
          ],
          "name": "stdout"
        },
        {
          "output_type": "stream",
          "text": [
            "/usr/local/lib/python3.7/dist-packages/sklearn/metrics/_classification.py:1272: UndefinedMetricWarning: Precision is ill-defined and being set to 0.0 due to no predicted samples. Use `zero_division` parameter to control this behavior.\n",
            "  _warn_prf(average, modifier, msg_start, len(result))\n"
          ],
          "name": "stderr"
        }
      ]
    }
  ]
}