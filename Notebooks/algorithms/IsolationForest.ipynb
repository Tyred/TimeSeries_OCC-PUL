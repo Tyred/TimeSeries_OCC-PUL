{
  "nbformat": 4,
  "nbformat_minor": 0,
  "metadata": {
    "colab": {
      "name": "IsolationForest.ipynb",
      "provenance": [],
      "collapsed_sections": [],
      "mount_file_id": "1W5EWWlp9aU7GK6yfn9DDeTQ9oi0mtZyM",
      "authorship_tag": "ABX9TyPz/8NGfbKuJqKRDzVZFL2d",
      "include_colab_link": true
    },
    "kernelspec": {
      "name": "python3",
      "display_name": "Python 3"
    },
    "language_info": {
      "name": "python"
    }
  },
  "cells": [
    {
      "cell_type": "markdown",
      "metadata": {
        "id": "view-in-github",
        "colab_type": "text"
      },
      "source": [
        "<a href=\"https://colab.research.google.com/github/Tyred/TimeSeries_OCC-PUL/blob/main/Notebooks/IsolationForest.ipynb\" target=\"_parent\"><img src=\"https://colab.research.google.com/assets/colab-badge.svg\" alt=\"Open In Colab\"/></a>"
      ]
    },
    {
      "cell_type": "markdown",
      "metadata": {
        "id": "Emi8F7ZFdSrK"
      },
      "source": [
        "## Imports"
      ]
    },
    {
      "cell_type": "code",
      "metadata": {
        "id": "Ut4w1hMDsE7S"
      },
      "source": [
        "%matplotlib inline\n",
        "import numpy as np\n",
        "import matplotlib.pyplot as plt\n",
        "\n",
        "from sklearn.ensemble import IsolationForest\n",
        "from sklearn.metrics import precision_score, accuracy_score, recall_score, f1_score\n",
        "\n",
        "import tensorflow as tf\n",
        "from tensorflow import keras\n",
        "\n",
        "from sklearn.decomposition import PCA\n",
        "from sklearn.manifold import MDS"
      ],
      "execution_count": 45,
      "outputs": []
    },
    {
      "cell_type": "markdown",
      "metadata": {
        "id": "6y-sBkgCb8GM"
      },
      "source": [
        "## Reading the dataset from Google Drive\n"
      ]
    },
    {
      "cell_type": "code",
      "metadata": {
        "colab": {
          "base_uri": "https://localhost:8080/"
        },
        "id": "jUip5vSwsFet",
        "outputId": "2b778b00-f318-419d-81b4-1f413b8b203c"
      },
      "source": [
        "path = 'drive/My Drive/UFSCar/FAPESP/IC/Data/UCRArchive_2018'\n",
        "\n",
        "dataset = input('Dataset: ')\n",
        "\n",
        "tr_data = np.genfromtxt(path + \"/\" + dataset + \"/\" + dataset + \"_TRAIN.tsv\", delimiter=\"\\t\",)\n",
        "te_data = np.genfromtxt(path + \"/\" + dataset + \"/\" + dataset + \"_TEST.tsv\", delimiter=\"\\t\",)\n",
        "\n",
        "labels = te_data[:, 0]\n",
        "print(\"Labels:\", np.unique(labels))"
      ],
      "execution_count": 46,
      "outputs": [
        {
          "output_type": "stream",
          "name": "stdout",
          "text": [
            "Dataset: Strawberry\n",
            "Labels: [1. 2.]\n"
          ]
        }
      ]
    },
    {
      "cell_type": "markdown",
      "metadata": {
        "id": "R0l2RpHUcHaB"
      },
      "source": [
        "## Splitting in Train-Test data"
      ]
    },
    {
      "cell_type": "code",
      "metadata": {
        "colab": {
          "base_uri": "https://localhost:8080/"
        },
        "id": "DvCT8FllsJBY",
        "outputId": "046794a9-00ab-44e6-d952-26075c0771c3"
      },
      "source": [
        "class_label = int(input('Positive class label: '))\n",
        "\n",
        "train_data  = tr_data[tr_data[:, 0] == class_label, 1:] # train\n",
        "test_data   = te_data[:, 1:]                            # test\n",
        "\n",
        "print(\"Train data shape:\", train_data.shape)\n",
        "print(\"Test data shape:\", test_data.shape)"
      ],
      "execution_count": 47,
      "outputs": [
        {
          "output_type": "stream",
          "name": "stdout",
          "text": [
            "Positive class label: 1\n",
            "Train data shape: (219, 235)\n",
            "Test data shape: (370, 235)\n"
          ]
        }
      ]
    },
    {
      "cell_type": "markdown",
      "metadata": {
        "id": "UcC1Ru1McR5b"
      },
      "source": [
        "## Labeling for OCC Task\n",
        "<li> Label 1 for positive class </li>\n",
        "<li> Label -1 for other class(es) </li>"
      ]
    },
    {
      "cell_type": "code",
      "metadata": {
        "colab": {
          "base_uri": "https://localhost:8080/"
        },
        "id": "wO1RyvvYsMsM",
        "outputId": "77e2994c-399c-4ce9-8fed-bd8c0c0ce567"
      },
      "source": [
        "occ_labels = [1 if x == class_label else -1 for x in labels]\n",
        "print(\"Positive samples:\", occ_labels.count(1))\n",
        "print(\"Negative samples:\", occ_labels.count(-1))"
      ],
      "execution_count": 48,
      "outputs": [
        {
          "output_type": "stream",
          "name": "stdout",
          "text": [
            "Positive samples: 132\n",
            "Negative samples: 238\n"
          ]
        }
      ]
    },
    {
      "cell_type": "markdown",
      "metadata": {
        "id": "nbY1evUb-hX4"
      },
      "source": [
        "## Results\n"
      ]
    },
    {
      "cell_type": "code",
      "metadata": {
        "id": "ZlURfjmMsimF"
      },
      "source": [
        "clf = IsolationForest(random_state=0).fit(train_data)"
      ],
      "execution_count": 49,
      "outputs": []
    },
    {
      "cell_type": "code",
      "metadata": {
        "colab": {
          "base_uri": "https://localhost:8080/"
        },
        "id": "sBqciP5dslRy",
        "outputId": "b525ae05-f660-4c37-a2b1-dadc14ade18f"
      },
      "source": [
        "result_labels = clf.predict(test_data)\n",
        "\n",
        "acc = accuracy_score(occ_labels, result_labels)\n",
        "precision = precision_score(occ_labels, result_labels)\n",
        "recall = recall_score(occ_labels, result_labels)\n",
        "f1 = f1_score(occ_labels, result_labels)\n",
        "\n",
        "print(\"Accuracy: %.2f\"  % (acc*100)       + \"%\")\n",
        "print(\"Precision: %.2f\" % (precision*100) + \"%\")\n",
        "print(\"Recall: %.2f\"    % (recall*100)    + \"%\")\n",
        "print(\"F1-Score: %.2f\"  % (f1*100)        + \"%\")"
      ],
      "execution_count": 50,
      "outputs": [
        {
          "output_type": "stream",
          "name": "stdout",
          "text": [
            "Accuracy: 79.46%\n",
            "Precision: 65.05%\n",
            "Recall: 91.67%\n",
            "F1-Score: 76.10%\n"
          ]
        }
      ]
    }
  ]
}