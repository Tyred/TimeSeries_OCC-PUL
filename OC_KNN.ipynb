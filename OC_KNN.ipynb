{
  "nbformat": 4,
  "nbformat_minor": 0,
  "metadata": {
    "colab": {
      "name": "OC-KNN.ipynb",
      "private_outputs": true,
      "provenance": [],
      "collapsed_sections": [],
      "mount_file_id": "1v4Hu187jtZuch2FzVUKtA00WzI_8A3mm",
      "authorship_tag": "ABX9TyOG/PjWm6ARo9NxVIOYraCn",
      "include_colab_link": true
    },
    "kernelspec": {
      "name": "python3",
      "display_name": "Python 3"
    },
    "language_info": {
      "name": "python"
    }
  },
  "cells": [
    {
      "cell_type": "markdown",
      "metadata": {
        "id": "view-in-github",
        "colab_type": "text"
      },
      "source": [
        "<a href=\"https://colab.research.google.com/github/Tyred/TimeSeries_OCC-PUL/blob/main/OC_KNN.ipynb\" target=\"_parent\"><img src=\"https://colab.research.google.com/assets/colab-badge.svg\" alt=\"Open In Colab\"/></a>"
      ]
    },
    {
      "cell_type": "code",
      "metadata": {
        "id": "yaTKHB_qtT-i"
      },
      "source": [
        "import numpy as np\n",
        "import matplotlib.pyplot as plt\n",
        "\n",
        "from sklearn.neighbors import NearestNeighbors"
      ],
      "execution_count": null,
      "outputs": []
    },
    {
      "cell_type": "code",
      "metadata": {
        "id": "KSNSL41pyFfq"
      },
      "source": [
        "path = 'drive/My Drive/UFSCar/FAPESP/IC/Data/UCRArchive_2018'\n",
        "\n",
        "dataset = input('Dataset: ')\n",
        "tr_data = np.genfromtxt(path + \"/\" + dataset + \"/\" + dataset + \"_TRAIN.tsv\", delimiter=\"\\t\",)\n",
        "te_data = np.genfromtxt(path + \"/\" + dataset + \"/\" + dataset + \"_TEST.tsv\", delimiter=\"\\t\",)"
      ],
      "execution_count": null,
      "outputs": []
    },
    {
      "cell_type": "code",
      "metadata": {
        "id": "hUFkgobkVBf9"
      },
      "source": [
        "class_label = 2\n",
        "train_data  = tr_data[tr_data[:, 0] == class_label, 1:] # train\n",
        "test_data   = te_data[:, 1:]                            # test\n",
        "labels      = te_data[:, 0]\n",
        "\n",
        "print(\"Labels:\", np.unique(labels))\n",
        "print(\"Train data shape:\", train_data.shape)\n",
        "print(\"Test data shape:\", test_data.shape)"
      ],
      "execution_count": null,
      "outputs": []
    },
    {
      "cell_type": "code",
      "metadata": {
        "id": "t6aUHkPI_kQV"
      },
      "source": [
        "def OC_KNN(test_sample, k, threshold, distances_avg): # maybe J for OC-JKNN\n",
        "  # New samples classification\n",
        "  distances, indices = nbrs.kneighbors(test_sample.reshape(1,-1), k)\n",
        "  avg = np.mean(distances)\n",
        "  \n",
        "  knbrs_sum = 0\n",
        "  for idx in indices[0]:\n",
        "    knbrs_sum += distances_avg[idx]\n",
        "  \n",
        "  knbrs_avg = knbrs_sum/k\n",
        "\n",
        "  if avg/knbrs_avg <= threshold:\n",
        "    return True\n",
        "  else:\n",
        "    return False"
      ],
      "execution_count": null,
      "outputs": []
    },
    {
      "cell_type": "code",
      "metadata": {
        "id": "QjAAkEPHCjJh"
      },
      "source": [
        "# Fitting OC-KNN \n",
        "k = 1\n",
        "threshold = 1\n",
        "\n",
        "nbrs = NearestNeighbors(n_neighbors=k+1).fit(train_data)\n",
        "distances, indices = nbrs.kneighbors(train_data)\n",
        "\n",
        "distances_avg = []\n",
        "for sample in distances:\n",
        "  avg = np.mean(sample[1:])\n",
        "  distances_avg.append(avg)\n",
        "\n",
        "#OC_KNN(train_data, test_data[8233], k, threshold, distances_avg)"
      ],
      "execution_count": null,
      "outputs": []
    },
    {
      "cell_type": "code",
      "metadata": {
        "id": "ZLzRKc0-IW1W"
      },
      "source": [
        "target_class = np.where(labels==class_label)\n",
        "negative_class = np.where(labels!=class_label)\n",
        "print(\"Positive samples:\", len(target_class[0]))\n",
        "print(\"Negative samples:\", len(negative_class[0]))"
      ],
      "execution_count": null,
      "outputs": []
    },
    {
      "cell_type": "code",
      "metadata": {
        "id": "pHQF_6FiN5O6"
      },
      "source": [
        "tp = 0\n",
        "for sample in test_data[target_class[0]]:\n",
        "  if OC_KNN(train_data, sample, k, threshold, distances_avg):\n",
        "    tp += 1\n",
        "\n",
        "fn = len(target_class[0]) - tp\n",
        "\n",
        "print(\"Recall:\", tp/len(target_class[0]))"
      ],
      "execution_count": null,
      "outputs": []
    },
    {
      "cell_type": "code",
      "metadata": {
        "id": "SMlZzHKTRh13"
      },
      "source": [
        "tn = 0\n",
        "for sample in test_data[negative_class[0]]:\n",
        "  if not OC_KNN(train_data, sample, k, threshold, distances_avg):\n",
        "    tn += 1\n",
        "\n",
        "fp = len(negative_class[0]) - tn\n",
        "\n",
        "print(\"Precision:\", tp/(tp+fp))\n",
        "print(\"Accuracy:\", (tp+tn)/(tp+tn+fp+fn))"
      ],
      "execution_count": null,
      "outputs": []
    }
  ]
}