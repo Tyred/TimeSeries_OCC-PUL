{
  "nbformat": 4,
  "nbformat_minor": 0,
  "metadata": {
    "colab": {
      "name": "MLP_Autoencoder.ipynb",
      "provenance": [],
      "collapsed_sections": [
        "IANdtMdskaTE"
      ],
      "mount_file_id": "1JnId6m867kJRehIizCqNHwYiwYiRm4fK",
      "authorship_tag": "ABX9TyNphwimnvGpKsT4fk5rw6e5",
      "include_colab_link": true
    },
    "kernelspec": {
      "name": "python3",
      "display_name": "Python 3"
    },
    "language_info": {
      "name": "python"
    }
  },
  "cells": [
    {
      "cell_type": "markdown",
      "metadata": {
        "id": "view-in-github",
        "colab_type": "text"
      },
      "source": [
        "<a href=\"https://colab.research.google.com/github/Tyred/TimeSeries_OCC-PUL/blob/main/MLP_Autoencoder.ipynb\" target=\"_parent\"><img src=\"https://colab.research.google.com/assets/colab-badge.svg\" alt=\"Open In Colab\"/></a>"
      ]
    },
    {
      "cell_type": "markdown",
      "metadata": {
        "id": "kff21qy6oEe7"
      },
      "source": [
        "<h1> One-Class Classification Using MLP Autoencoder </h1>\n",
        "\n",
        "The main idea is to train a MLP Autoencoder with data from the positive class only and calculate a reconstruction error threshold T based on the reconstruction errors obtained during the training. <br/>\n",
        "Then we perform the One-Class Classification (OCC) as follows:\n",
        "\n",
        "- For each data sample in the test dataset, do:\n",
        "    - Reconstruct the data with the MLP and calculate its reconstruction error E.\n",
        "    - if E <= T the sample is classified as a member of the positive class.\n",
        "    - else (if E > T) the sample is classified as not a member of the positive class.  \n",
        "\n",
        "- Evaluate the Model's Accuracy, Precision and Recall."
      ]
    },
    {
      "cell_type": "code",
      "metadata": {
        "id": "C2XDcHByvEwN"
      },
      "source": [
        "import numpy as np\n",
        "import matplotlib.pyplot as plt\n",
        "import tensorflow as tf\n",
        "\n",
        "from sklearn.metrics import accuracy_score, precision_score, recall_score\n",
        "from tensorflow import keras\n",
        "from sklearn.metrics import mean_squared_error, mean_absolute_error\n",
        "%matplotlib inline"
      ],
      "execution_count": 210,
      "outputs": []
    },
    {
      "cell_type": "markdown",
      "metadata": {
        "id": "Ad-D4CADlFDa"
      },
      "source": [
        "# Reading Dataset from Google Drive"
      ]
    },
    {
      "cell_type": "code",
      "metadata": {
        "id": "nTl7TYPJv8LK",
        "colab": {
          "base_uri": "https://localhost:8080/"
        },
        "outputId": "28f61781-8119-4717-b9c0-0f9eaeb35844"
      },
      "source": [
        "path = 'drive/My Drive/UFSCar/FAPESP/IC/Data/UCRArchive_2018'\n",
        "\n",
        "dataset = input('Dataset: ')\n",
        "tr_data = np.genfromtxt(path + \"/\" + dataset + \"/\" + dataset + \"_TRAIN.tsv\", \n",
        "                        delimiter=\"\\t\",)\n",
        "te_data = np.genfromtxt(path + \"/\" + dataset + \"/\" + dataset + \"_TEST.tsv\", \n",
        "                        delimiter=\"\\t\",)\n",
        "\n",
        "labels = te_data[:, 0]\n",
        "print(\"Labels:\", np.unique(labels))"
      ],
      "execution_count": 211,
      "outputs": [
        {
          "output_type": "stream",
          "text": [
            "Dataset: StarLightCurves\n",
            "Labels: [1. 2. 3.]\n"
          ],
          "name": "stdout"
        }
      ]
    },
    {
      "cell_type": "markdown",
      "metadata": {
        "id": "GMZ-EJx5Gfl7"
      },
      "source": [
        "# Splitting in Train-Test data"
      ]
    },
    {
      "cell_type": "code",
      "metadata": {
        "colab": {
          "base_uri": "https://localhost:8080/"
        },
        "id": "O7kV4zA5FrQX",
        "outputId": "2691a9cc-e9b2-41a1-e9c7-8221ab45d8d5"
      },
      "source": [
        "class_label = int(input('Positive class label: '))\n",
        "\n",
        "train_data  = tr_data[tr_data[:, 0] == class_label, 1:] # train\n",
        "test_data   = te_data[:, 1:]                            # test\n",
        "print(\"Train data shape:\", train_data.shape)\n",
        "print(\"Test data shape:\", test_data.shape)\n",
        "\n",
        "train_data = tf.cast(train_data, tf.float32)\n",
        "test_data  = tf.cast(test_data , tf.float32)\n",
        "\n",
        "serie_length = train_data.shape[1]"
      ],
      "execution_count": 212,
      "outputs": [
        {
          "output_type": "stream",
          "text": [
            "Positive class label: 3\n",
            "Train data shape: (573, 1024)\n",
            "Test data shape: (8236, 1024)\n"
          ],
          "name": "stdout"
        }
      ]
    },
    {
      "cell_type": "markdown",
      "metadata": {
        "id": "-BHJNqYjH5gy"
      },
      "source": [
        "# Labeling for OCC Task"
      ]
    },
    {
      "cell_type": "code",
      "metadata": {
        "colab": {
          "base_uri": "https://localhost:8080/"
        },
        "id": "DH-dIO1iH4qC",
        "outputId": "a5e9aa5c-c3b5-4130-c524-7fe7122fcd05"
      },
      "source": [
        "occ_labels = [1 if x == class_label else 0 for x in labels]\n",
        "print(\"Positive samples:\", occ_labels.count(1))\n",
        "print(\"Negative samples:\", occ_labels.count(0))\n",
        "\n",
        "positive_test_data = test_data[np.array(occ_labels).astype(bool)]\n",
        "negative_test_data = test_data[~np.array(occ_labels).astype(bool)]"
      ],
      "execution_count": 213,
      "outputs": [
        {
          "output_type": "stream",
          "text": [
            "Positive samples: 4754\n",
            "Negative samples: 3482\n"
          ],
          "name": "stdout"
        }
      ]
    },
    {
      "cell_type": "markdown",
      "metadata": {
        "id": "IANdtMdskaTE"
      },
      "source": [
        "## MLP Autoencoder"
      ]
    },
    {
      "cell_type": "code",
      "metadata": {
        "id": "nSgIw0xs1xak"
      },
      "source": [
        "class AnomalyDetector(tf.keras.Model):\n",
        "  def __init__(self, serie_length):\n",
        "    super(AnomalyDetector, self).__init__()\n",
        "    self.encoder = tf.keras.Sequential([\n",
        "      tf.keras.layers.Dense(128, activation=\"swish\"),\n",
        "      tf.keras.layers.Dense(64, activation=\"swish\"),\n",
        "      tf.keras.layers.Dense(16, activation=\"swish\")])\n",
        "\n",
        "    self.decoder = tf.keras.Sequential([\n",
        "      tf.keras.layers.Dense(64, activation=\"swish\"),\n",
        "      tf.keras.layers.Dense(128, activation=\"swish\"),\n",
        "      tf.keras.layers.Dense(serie_length, activation=\"linear\")])\n",
        "\n",
        "  def call(self, x):\n",
        "    encoded = self.encoder(x)\n",
        "    decoded = self.decoder(encoded)\n",
        "    return decoded\n",
        "  \n",
        "  def model(self):\n",
        "    x = keras.layers.Input(shape=(serie_length))\n",
        "    return tf.keras.Model(inputs=[x], outputs=self.call(x))\n",
        "\n",
        "autoencoder = AnomalyDetector(serie_length)"
      ],
      "execution_count": 214,
      "outputs": []
    },
    {
      "cell_type": "code",
      "metadata": {
        "id": "4ox3_etR1xao"
      },
      "source": [
        "autoencoder.compile(optimizer='adam', loss='mse')"
      ],
      "execution_count": 215,
      "outputs": []
    },
    {
      "cell_type": "code",
      "metadata": {
        "colab": {
          "base_uri": "https://localhost:8080/"
        },
        "id": "jxRwPz4M1xaq",
        "outputId": "c6f3f1b1-0a9f-4a68-9f61-7ca4f152b803"
      },
      "source": [
        "# Train\n",
        "batch_size = 32\n",
        "epochs = 50\n",
        "\n",
        "history = autoencoder.fit(train_data, train_data, \n",
        "          epochs=epochs, \n",
        "          batch_size=batch_size,\n",
        "          validation_data=(test_data, test_data))"
      ],
      "execution_count": 216,
      "outputs": [
        {
          "output_type": "stream",
          "text": [
            "Epoch 1/50\n",
            "18/18 [==============================] - 1s 38ms/step - loss: 0.5489 - val_loss: 0.3794\n",
            "Epoch 2/50\n",
            "18/18 [==============================] - 1s 43ms/step - loss: 0.1020 - val_loss: 0.2813\n",
            "Epoch 3/50\n",
            "18/18 [==============================] - 1s 42ms/step - loss: 0.0526 - val_loss: 0.2680\n",
            "Epoch 4/50\n",
            "18/18 [==============================] - 1s 30ms/step - loss: 0.0446 - val_loss: 0.2649\n",
            "Epoch 5/50\n",
            "18/18 [==============================] - 1s 31ms/step - loss: 0.0403 - val_loss: 0.2603\n",
            "Epoch 6/50\n",
            "18/18 [==============================] - 0s 29ms/step - loss: 0.0370 - val_loss: 0.2560\n",
            "Epoch 7/50\n",
            "18/18 [==============================] - 1s 44ms/step - loss: 0.0331 - val_loss: 0.2527\n",
            "Epoch 8/50\n",
            "18/18 [==============================] - 1s 31ms/step - loss: 0.0296 - val_loss: 0.2463\n",
            "Epoch 9/50\n",
            "18/18 [==============================] - 1s 42ms/step - loss: 0.0268 - val_loss: 0.2440\n",
            "Epoch 10/50\n",
            "18/18 [==============================] - 1s 43ms/step - loss: 0.0259 - val_loss: 0.2375\n",
            "Epoch 11/50\n",
            "18/18 [==============================] - 1s 43ms/step - loss: 0.0245 - val_loss: 0.2343\n",
            "Epoch 12/50\n",
            "18/18 [==============================] - 1s 42ms/step - loss: 0.0235 - val_loss: 0.2323\n",
            "Epoch 13/50\n",
            "18/18 [==============================] - 0s 27ms/step - loss: 0.0227 - val_loss: 0.2306\n",
            "Epoch 14/50\n",
            "18/18 [==============================] - 1s 43ms/step - loss: 0.0224 - val_loss: 0.2286\n",
            "Epoch 15/50\n",
            "18/18 [==============================] - 1s 30ms/step - loss: 0.0219 - val_loss: 0.2268\n",
            "Epoch 16/50\n",
            "18/18 [==============================] - 1s 43ms/step - loss: 0.0233 - val_loss: 0.2248\n",
            "Epoch 17/50\n",
            "18/18 [==============================] - 1s 29ms/step - loss: 0.0222 - val_loss: 0.2221\n",
            "Epoch 18/50\n",
            "18/18 [==============================] - 1s 31ms/step - loss: 0.0209 - val_loss: 0.2175\n",
            "Epoch 19/50\n",
            "18/18 [==============================] - 1s 43ms/step - loss: 0.0197 - val_loss: 0.2111\n",
            "Epoch 20/50\n",
            "18/18 [==============================] - 1s 29ms/step - loss: 0.0189 - val_loss: 0.2061\n",
            "Epoch 21/50\n",
            "18/18 [==============================] - 1s 43ms/step - loss: 0.0182 - val_loss: 0.2032\n",
            "Epoch 22/50\n",
            "18/18 [==============================] - 0s 28ms/step - loss: 0.0179 - val_loss: 0.2009\n",
            "Epoch 23/50\n",
            "18/18 [==============================] - 1s 43ms/step - loss: 0.0183 - val_loss: 0.1998\n",
            "Epoch 24/50\n",
            "18/18 [==============================] - 0s 29ms/step - loss: 0.0174 - val_loss: 0.1974\n",
            "Epoch 25/50\n",
            "18/18 [==============================] - 1s 43ms/step - loss: 0.0171 - val_loss: 0.1968\n",
            "Epoch 26/50\n",
            "18/18 [==============================] - 1s 31ms/step - loss: 0.0166 - val_loss: 0.1966\n",
            "Epoch 27/50\n",
            "18/18 [==============================] - 1s 29ms/step - loss: 0.0167 - val_loss: 0.1961\n",
            "Epoch 28/50\n",
            "18/18 [==============================] - 1s 43ms/step - loss: 0.0166 - val_loss: 0.1957\n",
            "Epoch 29/50\n",
            "18/18 [==============================] - 1s 43ms/step - loss: 0.0162 - val_loss: 0.1964\n",
            "Epoch 30/50\n",
            "18/18 [==============================] - 1s 30ms/step - loss: 0.0160 - val_loss: 0.1966\n",
            "Epoch 31/50\n",
            "18/18 [==============================] - 1s 43ms/step - loss: 0.0159 - val_loss: 0.1950\n",
            "Epoch 32/50\n",
            "18/18 [==============================] - 1s 42ms/step - loss: 0.0157 - val_loss: 0.1950\n",
            "Epoch 33/50\n",
            "18/18 [==============================] - 1s 29ms/step - loss: 0.0154 - val_loss: 0.1939\n",
            "Epoch 34/50\n",
            "18/18 [==============================] - 1s 29ms/step - loss: 0.0153 - val_loss: 0.1935\n",
            "Epoch 35/50\n",
            "18/18 [==============================] - 1s 31ms/step - loss: 0.0150 - val_loss: 0.1938\n",
            "Epoch 36/50\n",
            "18/18 [==============================] - 1s 31ms/step - loss: 0.0148 - val_loss: 0.1932\n",
            "Epoch 37/50\n",
            "18/18 [==============================] - 1s 43ms/step - loss: 0.0147 - val_loss: 0.1937\n",
            "Epoch 38/50\n",
            "18/18 [==============================] - 1s 29ms/step - loss: 0.0142 - val_loss: 0.1907\n",
            "Epoch 39/50\n",
            "18/18 [==============================] - 1s 43ms/step - loss: 0.0141 - val_loss: 0.1921\n",
            "Epoch 40/50\n",
            "18/18 [==============================] - 1s 30ms/step - loss: 0.0138 - val_loss: 0.1912\n",
            "Epoch 41/50\n",
            "18/18 [==============================] - 0s 28ms/step - loss: 0.0138 - val_loss: 0.1908\n",
            "Epoch 42/50\n",
            "18/18 [==============================] - 1s 44ms/step - loss: 0.0136 - val_loss: 0.1909\n",
            "Epoch 43/50\n",
            "18/18 [==============================] - 1s 29ms/step - loss: 0.0142 - val_loss: 0.1905\n",
            "Epoch 44/50\n",
            "18/18 [==============================] - 1s 30ms/step - loss: 0.0134 - val_loss: 0.1911\n",
            "Epoch 45/50\n",
            "18/18 [==============================] - 1s 31ms/step - loss: 0.0129 - val_loss: 0.1893\n",
            "Epoch 46/50\n",
            "18/18 [==============================] - 1s 29ms/step - loss: 0.0130 - val_loss: 0.1891\n",
            "Epoch 47/50\n",
            "18/18 [==============================] - 1s 43ms/step - loss: 0.0132 - val_loss: 0.1908\n",
            "Epoch 48/50\n",
            "18/18 [==============================] - 0s 28ms/step - loss: 0.0130 - val_loss: 0.1899\n",
            "Epoch 49/50\n",
            "18/18 [==============================] - 1s 29ms/step - loss: 0.0128 - val_loss: 0.1898\n",
            "Epoch 50/50\n",
            "18/18 [==============================] - 0s 29ms/step - loss: 0.0127 - val_loss: 0.1908\n"
          ],
          "name": "stdout"
        }
      ]
    },
    {
      "cell_type": "code",
      "metadata": {
        "colab": {
          "base_uri": "https://localhost:8080/",
          "height": 282
        },
        "id": "nnDpiF7q1xar",
        "outputId": "c3477033-e786-4271-9971-70bcbb67a9c6"
      },
      "source": [
        "plt.plot(history.history[\"loss\"], label=\"Training Loss\")\n",
        "plt.plot(history.history[\"val_loss\"], label=\"Validation Loss\")\n",
        "plt.legend()"
      ],
      "execution_count": 217,
      "outputs": [
        {
          "output_type": "execute_result",
          "data": {
            "text/plain": [
              "<matplotlib.legend.Legend at 0x7f37762cdd50>"
            ]
          },
          "metadata": {
            "tags": []
          },
          "execution_count": 217
        },
        {
          "output_type": "display_data",
          "data": {
            "image/png": "[encoded data removed]",
            "text/plain": [
              "<Figure size 432x288 with 1 Axes>"
            ]
          },
          "metadata": {
            "tags": [],
            "needs_background": "light"
          }
        }
      ]
    },
    {
      "cell_type": "code",
      "metadata": {
        "colab": {
          "base_uri": "https://localhost:8080/"
        },
        "id": "GW1UYRl81xat",
        "outputId": "c5d1660b-6a7d-4885-f2bd-26bd38ca10a0"
      },
      "source": [
        "autoencoder.model().summary()"
      ],
      "execution_count": 218,
      "outputs": [
        {
          "output_type": "stream",
          "text": [
            "Model: \"model_11\"\n",
            "_________________________________________________________________\n",
            "Layer (type)                 Output Shape              Param #   \n",
            "=================================================================\n",
            "input_12 (InputLayer)        [(None, 1024)]            0         \n",
            "_________________________________________________________________\n",
            "sequential_22 (Sequential)   (None, 16)                140496    \n",
            "_________________________________________________________________\n",
            "sequential_23 (Sequential)   (None, 1024)              141504    \n",
            "=================================================================\n",
            "Total params: 282,000\n",
            "Trainable params: 282,000\n",
            "Non-trainable params: 0\n",
            "_________________________________________________________________\n"
          ],
          "name": "stdout"
        }
      ]
    },
    {
      "cell_type": "markdown",
      "metadata": {
        "id": "yN4ydHR6lnUj"
      },
      "source": [
        "# Reconstruction examples"
      ]
    },
    {
      "cell_type": "markdown",
      "metadata": {
        "id": "NFN9dc-wSAVz"
      },
      "source": [
        "## Positive Class"
      ]
    },
    {
      "cell_type": "code",
      "metadata": {
        "id": "TT6L8-Nl4mRw",
        "colab": {
          "base_uri": "https://localhost:8080/",
          "height": 267
        },
        "outputId": "54231429-82b2-4cf4-87e8-9807d24e36ba"
      },
      "source": [
        "encoded_data = autoencoder.encoder(positive_test_data)\n",
        "decoded_data = autoencoder.decoder(encoded_data)\n",
        "\n",
        "plt.plot(positive_test_data[0], 'b')\n",
        "plt.plot(decoded_data[0], 'r')\n",
        "plt.fill_between(np.arange(serie_length), decoded_data[0], \n",
        "                 positive_test_data[0], color='lightcoral')\n",
        "\n",
        "plt.legend(labels=[\"Input\", \"Reconstruction\", \"Error\"])\n",
        "plt.show()"
      ],
      "execution_count": 219,
      "outputs": [
        {
          "output_type": "display_data",
          "data": {
            "image/png": "[encoded data removed]",
            "text/plain": [
              "<Figure size 432x288 with 1 Axes>"
            ]
          },
          "metadata": {
            "tags": [],
            "needs_background": "light"
          }
        }
      ]
    },
    {
      "cell_type": "markdown",
      "metadata": {
        "id": "wPy3kAMRSCk6"
      },
      "source": [
        "## Negative Class"
      ]
    },
    {
      "cell_type": "code",
      "metadata": {
        "id": "sYTUCg2jSEPE",
        "colab": {
          "base_uri": "https://localhost:8080/",
          "height": 282
        },
        "outputId": "7d4d3763-0276-4e59-e6ba-917153118e06"
      },
      "source": [
        "print(negative_test_data.shape)\n",
        "encoded_data = autoencoder.encoder(negative_test_data)\n",
        "decoded_data = autoencoder.decoder(encoded_data)\n",
        "\n",
        "plt.plot(negative_test_data[0], 'b')\n",
        "plt.plot(decoded_data[0], 'r')\n",
        "plt.fill_between(np.arange(serie_length), decoded_data[0], \n",
        "                 negative_test_data[0], color='lightcoral')\n",
        "\n",
        "plt.legend(labels=[\"Input\", \"Reconstruction\", \"Error\"])\n",
        "plt.show()"
      ],
      "execution_count": 220,
      "outputs": [
        {
          "output_type": "stream",
          "text": [
            "(3482, 1024)\n"
          ],
          "name": "stdout"
        },
        {
          "output_type": "display_data",
          "data": {
            "image/png": "[encoded data removed]",
            "text/plain": [
              "<Figure size 432x288 with 1 Axes>"
            ]
          },
          "metadata": {
            "tags": [],
            "needs_background": "light"
          }
        }
      ]
    },
    {
      "cell_type": "markdown",
      "metadata": {
        "id": "nkfT81Q5SQhL"
      },
      "source": [
        "# Reconstruction Error Histogram"
      ]
    },
    {
      "cell_type": "markdown",
      "metadata": {
        "id": "-4njlmfXSV9l"
      },
      "source": [
        "## Train "
      ]
    },
    {
      "cell_type": "code",
      "metadata": {
        "colab": {
          "base_uri": "https://localhost:8080/",
          "height": 279
        },
        "id": "OqitKAkRSYtC",
        "outputId": "4013d887-93b0-4258-f4f3-6bc50a6b7988"
      },
      "source": [
        "reconstructions = autoencoder.predict(train_data)\n",
        "train_loss = tf.keras.losses.mse(reconstructions, train_data)\n",
        "\n",
        "plt.hist(train_loss[None,:], bins=50)\n",
        "plt.xlabel(\"Train loss\")\n",
        "plt.ylabel(\"No of examples\")\n",
        "plt.show()"
      ],
      "execution_count": 221,
      "outputs": [
        {
          "output_type": "display_data",
          "data": {
            "image/png": "[encoded data removed]",
            "text/plain": [
              "<Figure size 432x288 with 1 Axes>"
            ]
          },
          "metadata": {
            "tags": [],
            "needs_background": "light"
          }
        }
      ]
    },
    {
      "cell_type": "markdown",
      "metadata": {
        "id": "IaTOt5tRTQUW"
      },
      "source": [
        "## Test - Negative Class"
      ]
    },
    {
      "cell_type": "code",
      "metadata": {
        "id": "YhnmugJeTVvf",
        "colab": {
          "base_uri": "https://localhost:8080/",
          "height": 279
        },
        "outputId": "251fcd35-0b64-4ab8-fbd6-d962a9dc2b70"
      },
      "source": [
        "reconstructions = autoencoder.predict(negative_test_data)\n",
        "negative_test_loss = tf.keras.losses.mse(reconstructions, negative_test_data)\n",
        "\n",
        "plt.hist(negative_test_loss[None,:], bins=50)\n",
        "plt.xlabel(\"Test loss - Negative Class\")\n",
        "plt.ylabel(\"No of examples\")\n",
        "plt.show()"
      ],
      "execution_count": 222,
      "outputs": [
        {
          "output_type": "display_data",
          "data": {
            "image/png": "[encoded data removed]",
            "text/plain": [
              "<Figure size 432x288 with 1 Axes>"
            ]
          },
          "metadata": {
            "tags": [],
            "needs_background": "light"
          }
        }
      ]
    },
    {
      "cell_type": "markdown",
      "metadata": {
        "id": "4BuROpikcjRA"
      },
      "source": [
        "## Test - Positive Class"
      ]
    },
    {
      "cell_type": "code",
      "metadata": {
        "id": "P7L7KOJ6V95B",
        "colab": {
          "base_uri": "https://localhost:8080/",
          "height": 279
        },
        "outputId": "51ab6564-4bd5-4187-dbb1-aeba1e0c3a19"
      },
      "source": [
        "reconstructions = autoencoder.predict(positive_test_data)\n",
        "positive_test_loss = tf.keras.losses.mse(reconstructions, positive_test_data)\n",
        "\n",
        "plt.hist(positive_test_loss[None,:], bins=50)\n",
        "plt.xlabel(\"Test loss - Positive Class\")\n",
        "plt.ylabel(\"No of examples\")\n",
        "plt.show()"
      ],
      "execution_count": 223,
      "outputs": [
        {
          "output_type": "display_data",
          "data": {
            "image/png": "[encoded data removed]",
            "text/plain": [
              "<Figure size 432x288 with 1 Axes>"
            ]
          },
          "metadata": {
            "tags": [],
            "needs_background": "light"
          }
        }
      ]
    },
    {
      "cell_type": "markdown",
      "metadata": {
        "id": "CBV_46b6MPgj"
      },
      "source": [
        "# Threshold Definition and OCC Task\n",
        "\n",
        "\n",
        "\n",
        "\n",
        "\n",
        "\n"
      ]
    },
    {
      "cell_type": "code",
      "metadata": {
        "id": "LgNdWKXXT5Hl"
      },
      "source": [
        "def predict(model, data, threshold):\n",
        "  reconstructions = model(data)\n",
        "  loss = tf.keras.losses.mse(reconstructions, data)\n",
        "  return tf.math.less_equal(loss, threshold)\n",
        "\n",
        "def print_stats(predictions, labels):\n",
        "  print(\"Accuracy = %.2f\"  % (accuracy_score(labels, predictions)  *100) + \"%\")\n",
        "  print(\"Precision = %.2f\" % (precision_score(labels, predictions) *100) + \"%\")\n",
        "  print(\"Recall = %.2f\"    % (recall_score(labels, predictions)    *100) + \"%\")"
      ],
      "execution_count": 224,
      "outputs": []
    },
    {
      "cell_type": "code",
      "metadata": {
        "colab": {
          "base_uri": "https://localhost:8080/"
        },
        "id": "uOwqQ1G31xau",
        "outputId": "b867a9cf-4947-4132-efc2-86097cc426cb"
      },
      "source": [
        "threshold = np.mean(train_loss) + np.std(train_loss)\n",
        "print(\"Threshold: \", threshold)"
      ],
      "execution_count": 225,
      "outputs": [
        {
          "output_type": "stream",
          "text": [
            "Threshold:  0.023249295\n"
          ],
          "name": "stdout"
        }
      ]
    },
    {
      "cell_type": "code",
      "metadata": {
        "colab": {
          "base_uri": "https://localhost:8080/"
        },
        "id": "x_BvrUP31xaw",
        "outputId": "dfd880b4-69e7-49d8-9677-de6a7c5dde53"
      },
      "source": [
        "preds = predict(autoencoder, test_data, threshold)\n",
        "print_stats(preds, occ_labels)"
      ],
      "execution_count": 226,
      "outputs": [
        {
          "output_type": "stream",
          "text": [
            "Accuracy = 78.47%\n",
            "Precision = 78.52%\n",
            "Recall = 86.33%\n"
          ],
          "name": "stdout"
        }
      ]
    }
  ]
}